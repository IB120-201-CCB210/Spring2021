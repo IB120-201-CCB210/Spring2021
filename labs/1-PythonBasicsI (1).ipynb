{
 "cells": [
  {
   "cell_type": "markdown",
   "metadata": {},
   "source": [
    "# Python Basics I\n",
    "\n",
    "## Printing and Commenting"
   ]
  },
  {
   "cell_type": "code",
   "execution_count": null,
   "metadata": {
    "code_folding": [
     0
    ]
   },
   "outputs": [],
   "source": [
    "#Your first python program!\n",
    "\n",
    "\"\"\"\n",
    "this is your first python program!\n",
    "it doesn't do much... \n",
    "\"\"\"\n",
    "print?\n",
    "print(\"Hello World!\")"
   ]
  },
  {
   "cell_type": "code",
   "execution_count": null,
   "metadata": {
    "code_folding": [
     0
    ]
   },
   "outputs": [],
   "source": [
    "## code can be commented either by prefixing a line with a #\n",
    "\n",
    "\"\"\"\n",
    "or by inserting multiple lines of text \n",
    "in between triple quotation blocks like this\n",
    "\"\"\"\n",
    "\n",
    "print(\"this code is run\") #the code before this comment is run\n",
    "\n",
    "#print(\"this code is not run\")\n",
    "\n",
    "print(\"a # inside quotes is just fine though\")"
   ]
  },
  {
   "cell_type": "code",
   "execution_count": null,
   "metadata": {
    "code_folding": [
     0
    ],
    "scrolled": false
   },
   "outputs": [],
   "source": [
    "## printing multiple things\n",
    "\"\"\"\n",
    "The print function can take in multiple arguments and will\n",
    "concatenate the string separated by spaces\n",
    "\"\"\"\n",
    "\n",
    "print(\"we can print out numbers too like\", 51, \"or\", 42)"
   ]
  },
  {
   "cell_type": "markdown",
   "metadata": {},
   "source": [
    "## Simple math, variables, and logic"
   ]
  },
  {
   "cell_type": "code",
   "execution_count": null,
   "metadata": {
    "code_folding": [
     0
    ]
   },
   "outputs": [],
   "source": [
    "# 1 simple math and variables\n",
    "\"\"\"\n",
    "Math is pretty straightforward in python3\n",
    "\n",
    "we can use all the normal symbols\n",
    "\n",
    "+: plus\n",
    "-: minus\n",
    "/: divide\n",
    "*: times\n",
    "%: modulo\n",
    "<: less than\n",
    ">: greater than\n",
    "<=: less than or equal to\n",
    ">=: greater than or equal to\n",
    "\n",
    "==: equivalence\n",
    "!=: non-equivalence\n",
    "\n",
    "https://docs.python.org/3/library/stdtypes.html#numeric-types-int-float-complex\n",
    "\n",
    "\"\"\"\n",
    "print(\"13*2 =\", 13*2)\n",
    "print(\"13+2 =\", 13+2)\n",
    "print(\"30/2 =\", 30/2)"
   ]
  },
  {
   "cell_type": "code",
   "execution_count": null,
   "metadata": {
    "code_folding": [
     0
    ]
   },
   "outputs": [],
   "source": [
    "## floats vs integers\n",
    "\n",
    "print(type(13+2)) \n",
    "print(type(30/2))\n",
    "print((30/2)==(13+2)) # fortunately python is smart enough to compare integers and floats\n"
   ]
  },
  {
   "cell_type": "code",
   "execution_count": null,
   "metadata": {
    "code_folding": [
     0
    ]
   },
   "outputs": [],
   "source": [
    "## the modulo operator\n",
    "\"\"\"\n",
    "# the '%' modulo operator gives the remainder \n",
    "e.g. 10 % 4 = 2 , the remainder of 10/4 is 2 \n",
    "useful for finding even / odd numbers or counting by \"k\"\n",
    "\"\"\"\n",
    "\n",
    "print(1%2, 2%2, 3%2, 4%2) \n"
   ]
  },
  {
   "cell_type": "code",
   "execution_count": null,
   "metadata": {
    "code_folding": [
     0
    ]
   },
   "outputs": [],
   "source": [
    "## The += operator\n",
    "\n",
    "\"\"\"\n",
    "The operation of incrementing a number by some fixed value\n",
    "e.g. by 1, is so common that there is a shorthand for it\n",
    "\n",
    "+=x : increment by x\n",
    "\"\"\"\n",
    "\n",
    "x=2\n",
    "print(x)\n",
    "x=x+1\n",
    "print(x)\n",
    "x+=1\n",
    "print(x)"
   ]
  },
  {
   "cell_type": "code",
   "execution_count": null,
   "metadata": {
    "code_folding": [
     0
    ]
   },
   "outputs": [],
   "source": [
    "## Variables\n",
    "\"\"\"\n",
    "variables can be assigned with the \"=\" operator\n",
    "\"\"\"\n",
    "\n",
    "x=5\n",
    "y=3\n",
    "z=x*y/2\n",
    "print(z)"
   ]
  },
  {
   "cell_type": "code",
   "execution_count": null,
   "metadata": {
    "code_folding": [
     0
    ]
   },
   "outputs": [],
   "source": [
    "## Assignment versus equivalence\n",
    "\"\"\"\n",
    "it is CRITICAL to understand the difference between \"=\" and \"==\"\n",
    "\"\"\"\n",
    "\n",
    "x=10\n",
    "print(x==5)\n",
    "\n",
    "#print(x=5) #This will fail!\n",
    "\n",
    "x=5\n",
    "print(x==5)\n",
    "print(x!=5)"
   ]
  },
  {
   "cell_type": "code",
   "execution_count": null,
   "metadata": {
    "code_folding": [
     0
    ]
   },
   "outputs": [],
   "source": [
    "## Boolean logic\n",
    "\"\"\"\n",
    "simple boolean logic can be performed using english words\n",
    "\"\"\"\n",
    "\n",
    "t = True\n",
    "f = False\n",
    "\n",
    "print(type(t)) # \"<class 'bool'>\"\n",
    "print(t and f) # Logical AND; prints \"False\"\n",
    "print(t or f)  # Logical OR; prints \"True\"\n",
    "print(not t)   # Logical NOT; prints \"False\"\n"
   ]
  },
  {
   "cell_type": "markdown",
   "metadata": {},
   "source": [
    "## Strings (PAUSE!)"
   ]
  },
  {
   "cell_type": "code",
   "execution_count": null,
   "metadata": {
    "code_folding": [
     0
    ]
   },
   "outputs": [],
   "source": [
    "## Strings\n",
    "\n",
    "x = \"IB120\"\n",
    "print(x)\n",
    "print(len(x))  # String length; prints \"5\""
   ]
  },
  {
   "cell_type": "code",
   "execution_count": null,
   "metadata": {
    "code_folding": [
     0
    ]
   },
   "outputs": [],
   "source": [
    "## String formatting\n",
    "\n",
    "x=\"IB120\"\n",
    "IB201_ranking = 1\n",
    "\n",
    "complex_string = \"{v1} is my number {v2} class!\".format(v1=x, v2=IB201_ranking)\n",
    "\n",
    "print(complex_string)\n",
    "\n"
   ]
  },
  {
   "cell_type": "code",
   "execution_count": null,
   "metadata": {
    "code_folding": [
     0
    ],
    "scrolled": true
   },
   "outputs": [],
   "source": [
    "## String operations\n",
    "\"\"\"\n",
    "there are all kinds of operations that can be \n",
    "run on strings that are super helpful\n",
    "\n",
    "https://docs.python.org/3/library/stdtypes.html#string-methods\n",
    "\"\"\"\n",
    "\n",
    "s = \"hello\"\n",
    "print(s.upper())  # Convert a string to uppercase; prints \"HELLO\"\n",
    "print(s.replace('l', '(l)'))  # Replace all instances of one substring with another;\n",
    "print('--TEXT--'.rstrip(\"-\"))  # Strip trailing characters\n",
    "print('--TEXT--'.lstrip(\"-\"))  # Strip leading characters\n",
    "print('--TEXT--'.strip(\"-\"))  # Strip leading and trailing characters\n",
    "print(len('--TEXT--'))  # what is the length of this string?"
   ]
  },
  {
   "cell_type": "markdown",
   "metadata": {},
   "source": [
    "## Containers: lists and dictionaries"
   ]
  },
  {
   "cell_type": "code",
   "execution_count": null,
   "metadata": {
    "code_folding": [
     0
    ]
   },
   "outputs": [],
   "source": [
    "#1.4 Containers - lists\n",
    "\"\"\"\n",
    "lists are ordered arrays of elements\n",
    "in some languages this type is called an array\n",
    "\"\"\"\n",
    "\n",
    "xs = [9, 5, 12] # Create a list\n",
    "print(xs)\n",
    "\n",
    "xs.append(201)  # add an element to the end of the list\n",
    "print(xs)\n",
    "\n",
    "element = xs.pop() # pop an element off the end of a list returning it\n",
    "print(element)\n",
    "print(xs)\n"
   ]
  },
  {
   "cell_type": "code",
   "execution_count": null,
   "metadata": {
    "code_folding": [
     0
    ]
   },
   "outputs": [],
   "source": [
    "## list subsetting\n",
    "\n",
    "xs = [5,7,1,9]\n",
    "print(xs[1])   # indexing starts at 0! (UNLIKE R!!!)\n",
    "\n",
    "print(xs[-1])  # Negative indices count back from the end of a list\n",
    "print(xs[3])\n"
   ]
  },
  {
   "cell_type": "code",
   "execution_count": null,
   "metadata": {
    "code_folding": [
     0
    ]
   },
   "outputs": [],
   "source": [
    "## list slicing\n",
    "\n",
    "xs = [5, 7, 1, 9, 201]\n",
    "\n",
    "print(xs[2:4])        # Get a slice from index 2 to 4 - exclusive! ie, includes elements 2 and 3, not 4\n",
    "print(xs[2:])         # Get a slice from index 2 to the end; \n",
    "print(xs[:2])         # Get a slice from the start to index 2, doesn't include element 2\n",
    "\n",
    "print(xs[:-1])        # negative slices, all but last element\n",
    "print(xs[:-2])        # negative slices, all but last two elements\n"
   ]
  },
  {
   "cell_type": "code",
   "execution_count": null,
   "metadata": {
    "code_folding": [
     0
    ]
   },
   "outputs": [],
   "source": [
    "## super slicing\n",
    "\"\"\"\n",
    "    array[start:end:step] <-- formatting\n",
    "\"\"\"\n",
    "\n",
    "xs = [5, 7, 1, 9, 201]\n",
    "\n",
    "print(xs)\n",
    "print(xs[::])     #the whole list\n",
    "print(xs[::2])    #every second element\n",
    "print(xs[2::2])    #every second element starting at element 1\n",
    "print(xs[::-1])   #reverse the list\n",
    "print(xs[:1:-1]) #reverse the list, and stop at element 1"
   ]
  },
  {
   "cell_type": "code",
   "execution_count": null,
   "metadata": {
    "code_folding": [
     0
    ]
   },
   "outputs": [],
   "source": [
    "## list operations\n",
    "\n",
    "xs = [5, 7, 1, 9, 201]\n",
    "\n",
    "print(19 in xs)       #is 19 in the list?\n",
    "print(9 in xs)        #is 9 in the  list?  \n",
    "print(xs.index(9))    #where is 9?\n",
    "\n",
    "print(min(xs))        #the minimum element\n",
    "print(max(xs))        #the maximum element\n"
   ]
  },
  {
   "cell_type": "code",
   "execution_count": null,
   "metadata": {
    "code_folding": [
     0
    ]
   },
   "outputs": [],
   "source": [
    "## list concatenation\n",
    "\n",
    "x1 = [1,2,3]\n",
    "x2 = [4, 5, 6]\n",
    "\n",
    "joined_list = x1 + x2\n",
    "\n",
    "print(joined_list)\n",
    "\n",
    "x3 = list(range(20)) ## range() generates a sequence; range(start, stop, step)\n",
    "print(x3)\n",
    "#print(range(20)) ##notice what happens if you try printing without concatenation using 'list()'\n"
   ]
  },
  {
   "cell_type": "code",
   "execution_count": null,
   "metadata": {
    "code_folding": [
     0
    ]
   },
   "outputs": [],
   "source": [
    "#CONTINUE ON YOUR OWN HERE\n",
    "## splitting strings into lists\n",
    "\n",
    "student_names = \"Debora,Miguel,Stacy,Xu\"\n",
    "list_of_names = student_names.split(\",\")\n",
    "print(list_of_names)"
   ]
  },
  {
   "cell_type": "code",
   "execution_count": null,
   "metadata": {
    "code_folding": [
     0
    ]
   },
   "outputs": [],
   "source": [
    "## converting strings to numbers\n",
    "\n",
    "\"\"\"\n",
    "often when we are reading files numbers are encoded as\n",
    "strings. To use these numbers as numbers we need to\n",
    "convert them to floats or integers.\n",
    "\"\"\"\n",
    "\n",
    "string_number = \"5.3\"\n",
    "\n",
    "#print(string_number + 3) # this will fail - you cannot add a string to an integer\n",
    "\n",
    "#print(int(string_number) + 3) # this will fail - 5.3 is not an integer!\n",
    "\n",
    "print(float(string_number) + 3)\n"
   ]
  },
  {
   "cell_type": "code",
   "execution_count": null,
   "metadata": {
    "code_folding": [
     0
    ]
   },
   "outputs": [],
   "source": [
    "#####SECRET CODE - make sure to run this cell, but you don't need to understand it...yet#####\n",
    "\"\"\"\n",
    "In this block I am activating a new function to print out dictionaries \n",
    "in a pretty fashion - it's not part of the lesson\n",
    "\"\"\"\n",
    "import json\n",
    "\n",
    "def dprint(d):\n",
    "    print(json.dumps(d,\n",
    "                     sort_keys=True,\n",
    "                     indent=4))\n",
    "\n"
   ]
  },
  {
   "cell_type": "code",
   "execution_count": null,
   "metadata": {
    "code_folding": [
     0
    ]
   },
   "outputs": [],
   "source": [
    "#1.5 Containers - Dictionaries\n",
    "\n",
    "\"\"\"\n",
    "Dictionaries hold key:value pairs\n",
    "\n",
    "in some languages these are called \"hash tables\"\n",
    "\n",
    "*** NOTE I HAVE DEFINED A FUNCTION CALLED dprint above which \n",
    "allows us to print pretty dictionaries that are easier to look at\n",
    "the print() function works just fine too - we will learn more about\n",
    "functions at a later date so you can ignore that code for now***\n",
    "\n",
    "\"\"\"\n",
    "\n",
    "#dictionaries can store a mixture of different \"types\", also known as keys \n",
    "#all keys have to be of the same type, either string or int, but the values can be a mixture of types\n",
    "\n",
    "student_info_dict = {\"student_ID\": 120120, \n",
    "                     \"first_name\": \"Jane\",\n",
    "                     \"last_name\": \"dough\"} \n",
    "\n",
    "##note here also that you can continue writing on the next line\n",
    "\n",
    "dprint(student_info_dict)\n",
    "print(student_info_dict[\"student_ID\"]) ##extract the value associated with the key 'student_ID'\n",
    "\n",
    "student_info_dict[\"grade\"] = \"A+\" ##add an extra key - 'grade'\n",
    "dprint(student_info_dict)"
   ]
  },
  {
   "cell_type": "code",
   "execution_count": null,
   "metadata": {
    "code_folding": [
     0
    ]
   },
   "outputs": [],
   "source": [
    "## combining lists and dictionaries\n",
    "\n",
    "s1 = {\"student_ID\": 120120, \n",
    "      \"first_name\": \"Jane\",\n",
    "      \"last_name\": \"dough\"}\n",
    "\n",
    "s2 = {\"student_ID\": 2, \n",
    "      \"first_name\": \"Jake\",\n",
    "      \"last_name\": \"Dunn\"}\n",
    "\n",
    "s3 = {\"student_ID\": 3, \n",
    "      \"first_name\": \"Mary\",\n",
    "      \"last_name\": \"Claire\"}\n",
    "\n",
    "students = [s1,s2,s3]\n",
    "\n",
    "dprint(students)\n"
   ]
  },
  {
   "cell_type": "code",
   "execution_count": null,
   "metadata": {
    "code_folding": [
     0
    ]
   },
   "outputs": [],
   "source": [
    "## dictionaries of dictionaries\n",
    "\n",
    "s1 = {\"student_ID\": 120120, \n",
    "      \"first_name\": \"Jane\",\n",
    "      \"last_name\": \"dough\"}\n",
    "\n",
    "s2 = {\"student_ID\": 2, \n",
    "      \"first_name\": \"Jake\",\n",
    "      \"last_name\": \"Dunn\"}\n",
    "\n",
    "s3 = {\"student_ID\": 3, \n",
    "      \"first_name\": \"Mary\",\n",
    "      \"last_name\": \"Claire\"}\n",
    "\n",
    "students_by_id = {\"student1\":s1,    ##assigns dictionaries to keys\n",
    "                  \"student2\":s2,\n",
    "                  \"student3\":s3}\n",
    "\n",
    "dprint(students_by_id)"
   ]
  },
  {
   "cell_type": "code",
   "execution_count": null,
   "metadata": {
    "code_folding": [
     0
    ]
   },
   "outputs": [],
   "source": [
    "## dictionaries of dictionaries\n",
    "\"\"\"\n",
    "dictionaries are very useful ways to store data\n",
    "\"\"\"\n",
    "dprint(students_by_id['student3'])"
   ]
  }
 ],
 "metadata": {
  "kernelspec": {
   "display_name": "Python 3",
   "language": "python",
   "name": "python3"
  },
  "language_info": {
   "codemirror_mode": {
    "name": "ipython",
    "version": 3
   },
   "file_extension": ".py",
   "mimetype": "text/x-python",
   "name": "python",
   "nbconvert_exporter": "python",
   "pygments_lexer": "ipython3",
   "version": "3.8.6"
  }
 },
 "nbformat": 4,
 "nbformat_minor": 4
}
