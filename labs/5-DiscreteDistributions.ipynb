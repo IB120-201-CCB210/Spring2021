{
 "cells": [
  {
   "cell_type": "markdown",
   "metadata": {},
   "source": [
    "# Discrete vs Continuous Datasets"
   ]
  },
  {
   "cell_type": "markdown",
   "metadata": {},
   "source": [
    "Discrete data can only take specific/certain/exact values (e.g. groups, integers). For example, the number of participants in an experiment would be discrete - we can’t have half a participant. "
   ]
  },
  {
   "cell_type": "markdown",
   "metadata": {},
   "source": [
    "Continuous data on the other hand can take any value in the scale being measured. For example, we can measure age on a continuous scale (e.g. we can have an age of 26.55 years), also reaction time or the distance you travel to university every day."
   ]
  },
  {
   "cell_type": "markdown",
   "metadata": {},
   "source": [
    "## General Probability"
   ]
  },
  {
   "cell_type": "markdown",
   "metadata": {},
   "source": [
    "When we talk about probability we mean we are interested in the likelihood of an event occurring. The probability of any discrete event occuring can be formulated as: $p = \\frac{number of ways the event could arise}{number of possible outcomes}$"
   ]
  },
  {
   "cell_type": "markdown",
   "metadata": {},
   "source": [
    "The probability of an event is represented by a number between 0 and 1, and the letter $p$. For example, the probability of flipping a coin and it landing on ‘tails’, most people would say, is estimated at $p = .5$, i.e. the likelihood of getting tails is  $p=1/2$ as there is one desired outcome (tails) and two possibilities (heads or tails)."
   ]
  },
  {
   "cell_type": "markdown",
   "metadata": {},
   "source": [
    "### More examples:"
   ]
  },
  {
   "cell_type": "markdown",
   "metadata": {},
   "source": [
    "1. Let $P(A)$ be the probability of drawing the ten of clubs from a standard deck of cards. The probability will be 1 in 52: $P(A) = 1/52 = 0.019$. One outcome (ten of clubs) with 52 possible outcomes (all the cards)."
   ]
  },
  {
   "cell_type": "markdown",
   "metadata": {},
   "source": [
    "2. Let $P(B)$ be the probability of drawing a seven of diamonds from a standard deck of cards. Then the probability of drawing **either** a ten of clubs or seven of diamons would be 2 in 52: $P(A \\bigcup B) = 2/52 = 0.38$. In this case you are adding to the chance of an event occurring by giving two possible outcomes so it becomes more likely to happen than when you only had one outcome."
   ]
  },
  {
   "cell_type": "markdown",
   "metadata": {},
   "source": [
    "3. Now say you have two standard packs of cards **mixed** together. The probability of drawing the 10 of clubs from this mixed pack would be 2 in 104: $P(A) = 2/104 = 0.019$. Two possible outcomes but more alternatives than above, 104 this time, meaning it is **less probable** than Example 2"
   ]
  },
  {
   "cell_type": "markdown",
   "metadata": {},
   "source": [
    "4. Let’s instead say you have two **separate** packs of cards. The probability of drawing the 10 of clubs from **both** packs would be: $P(A \\bigcap A) = \\frac{1}{52} x \\frac{1}{52} = 0.0004$. This is called the **joint probability** of events.\n",
    "\n",
    "+ To find the joint probability of two separate events occuring you multiply together the probabilities of the two individual separate events (often stated as independent, mutually exclusive events)."
   ]
  },
  {
   "cell_type": "markdown",
   "metadata": {},
   "source": [
    "5. What about the probability of drawing the 10 of clubs from a pack of 52, putting it back (which we call **replacement**), and subsequently drawing the 7 of diamonds? Again, this would be represented by multiplying together the probability of each of these events happening: $p = \\frac{1}{52} x \\frac{1}{52} = 0.0004$.\n",
    "\n",
    "+ The second event (drawing the 7 of diamonds) has the same probability as the first event (drawing the 10 of clubs) because we put the original card back in the pack, keeping the number of all possible outcomes at 52. This is **replacement**."
   ]
  },
  {
   "cell_type": "markdown",
   "metadata": {},
   "source": [
    "6. Finally, say you draw the 10 of clubs from a pack of 52, **without replacement**. What is the probability that you will draw the 7 of diamonds in your next draw (again **without replacement**) and the 3 of hearts in a third draw? $p = \\frac{1}{52} x \\frac{1}{51} x \\frac{1}{50} = 0.000008$."
   ]
  },
  {
   "cell_type": "markdown",
   "metadata": {},
   "source": [
    "### Questions:"
   ]
  },
  {
   "cell_type": "markdown",
   "metadata": {},
   "source": [
    "* What is the probability of randomly drawing your name out of a hat of 12 names where one name is definitely your name?: "
   ]
  },
  {
   "cell_type": "markdown",
   "metadata": {},
   "source": [
    "+ What is the probability of randomly drawing your name out of a hat of 12 names, putting it back, and drawing your name again?:"
   ]
  },
  {
   "cell_type": "markdown",
   "metadata": {},
   "source": [
    "+ You have 120 cards, where 10 are red and 110 are blue. What is the probability of randomly removing one red card on your first trial, not replacing it, and then removing another red card on the second trial?:"
   ]
  },
  {
   "cell_type": "markdown",
   "metadata": {},
   "source": [
    "## Creating a Simple Probability Distribution"
   ]
  },
  {
   "cell_type": "markdown",
   "metadata": {},
   "source": [
    "What is a **sampling distribution**? A sampling distribution shows you the probability of drawing a sample with certain characteristics from the population; e.g. the probability of 5 heads in 10 flips, or the probability of 4 heads in 10 flips, or the probability of X heads in 10 flips of the coin."
   ]
  },
  {
   "cell_type": "markdown",
   "metadata": {},
   "source": [
    "Scenario: Imagine we want to know the probability of X number of heads in 10 coin flips - for example, what is the probability of flipping a coin 10 times and it coming up heads two times.\n",
    "\n",
    "To simulate 10 coin flips we will use the `sample()` function where we randomly sample (with replacement) from all possible events: i.e. either heads or tails.\n",
    "\n"
   ]
  },
  {
   "cell_type": "code",
   "execution_count": 7,
   "metadata": {},
   "outputs": [
    {
     "name": "stderr",
     "output_type": "stream",
     "text": [
      "── \u001b[1mAttaching packages\u001b[22m ─────────────────────────────────────── tidyverse 1.3.0 ──\n",
      "\n",
      "\u001b[32m✔\u001b[39m \u001b[34mggplot2\u001b[39m 3.3.3     \u001b[32m✔\u001b[39m \u001b[34mpurrr  \u001b[39m 0.3.4\n",
      "\u001b[32m✔\u001b[39m \u001b[34mtibble \u001b[39m 3.0.6     \u001b[32m✔\u001b[39m \u001b[34mdplyr  \u001b[39m 1.0.4\n",
      "\u001b[32m✔\u001b[39m \u001b[34mtidyr  \u001b[39m 1.1.2     \u001b[32m✔\u001b[39m \u001b[34mstringr\u001b[39m 1.4.0\n",
      "\u001b[32m✔\u001b[39m \u001b[34mreadr  \u001b[39m 1.4.0     \u001b[32m✔\u001b[39m \u001b[34mforcats\u001b[39m 0.5.1\n",
      "\n",
      "── \u001b[1mConflicts\u001b[22m ────────────────────────────────────────── tidyverse_conflicts() ──\n",
      "\u001b[31m✖\u001b[39m \u001b[34mdplyr\u001b[39m::\u001b[32mfilter()\u001b[39m masks \u001b[34mstats\u001b[39m::filter()\n",
      "\u001b[31m✖\u001b[39m \u001b[34mdplyr\u001b[39m::\u001b[32mlag()\u001b[39m    masks \u001b[34mstats\u001b[39m::lag()\n",
      "\n"
     ]
    }
   ],
   "source": [
    "library(\"tidyverse\")"
   ]
  },
  {
   "cell_type": "code",
   "execution_count": 4,
   "metadata": {},
   "outputs": [],
   "source": [
    "?sample"
   ]
  },
  {
   "cell_type": "code",
   "execution_count": 5,
   "metadata": {},
   "outputs": [
    {
     "data": {
      "text/html": [
       "<style>\n",
       ".list-inline {list-style: none; margin:0; padding: 0}\n",
       ".list-inline>li {display: inline-block}\n",
       ".list-inline>li:not(:last-child)::after {content: \"\\00b7\"; padding: 0 .5ex}\n",
       "</style>\n",
       "<ol class=list-inline><li>'TAILS'</li><li>'HEADS'</li><li>'HEADS'</li><li>'TAILS'</li><li>'HEADS'</li><li>'HEADS'</li><li>'TAILS'</li><li>'TAILS'</li><li>'TAILS'</li><li>'TAILS'</li></ol>\n"
      ],
      "text/latex": [
       "\\begin{enumerate*}\n",
       "\\item 'TAILS'\n",
       "\\item 'HEADS'\n",
       "\\item 'HEADS'\n",
       "\\item 'TAILS'\n",
       "\\item 'HEADS'\n",
       "\\item 'HEADS'\n",
       "\\item 'TAILS'\n",
       "\\item 'TAILS'\n",
       "\\item 'TAILS'\n",
       "\\item 'TAILS'\n",
       "\\end{enumerate*}\n"
      ],
      "text/markdown": [
       "1. 'TAILS'\n",
       "2. 'HEADS'\n",
       "3. 'HEADS'\n",
       "4. 'TAILS'\n",
       "5. 'HEADS'\n",
       "6. 'HEADS'\n",
       "7. 'TAILS'\n",
       "8. 'TAILS'\n",
       "9. 'TAILS'\n",
       "10. 'TAILS'\n",
       "\n",
       "\n"
      ],
      "text/plain": [
       " [1] \"TAILS\" \"HEADS\" \"HEADS\" \"TAILS\" \"HEADS\" \"HEADS\" \"TAILS\" \"TAILS\" \"TAILS\"\n",
       "[10] \"TAILS\""
      ]
     },
     "metadata": {},
     "output_type": "display_data"
    }
   ],
   "source": [
    "sample(c(\"HEADS\", \"TAILS\"), 10, TRUE) "
   ]
  },
  {
   "cell_type": "markdown",
   "metadata": {},
   "source": [
    "(Why would you or why wouldn’t you want to use sampling with replacement in our coin toss scenario? If you aren’t sure then set replacement as `FALSE` (change the last argument from `TRUE` to `FALSE`) and run the code again. The code will stop working after 2 coin flips. We want to sample with replacement here because we want both options available at each sampling - and if we didn’t then we would run out of options very quickly since we’re doing 10 flips.)"
   ]
  },
  {
   "cell_type": "markdown",
   "metadata": {},
   "source": [
    "So far our code returns the outcomes from the 10 flips; either heads or tails. If we want to count how many ‘heads’ we have we can simply sum up the heads. However, heads isn’t a number, so to make life easier we can re-label our events (i.e. our flips) as **0 for tails** and **1 for heads**. Now if we run the code again we can pipe the sample into a sum() function to total up all the 1s (heads) from the 10 flips."
   ]
  },
  {
   "cell_type": "code",
   "execution_count": 10,
   "metadata": {},
   "outputs": [
    {
     "data": {
      "text/html": [
       "4"
      ],
      "text/latex": [
       "4"
      ],
      "text/markdown": [
       "4"
      ],
      "text/plain": [
       "[1] 4"
      ]
     },
     "metadata": {},
     "output_type": "display_data"
    }
   ],
   "source": [
    "sum(sample(0:1, 10, TRUE))"
   ]
  },
  {
   "cell_type": "code",
   "execution_count": 9,
   "metadata": {},
   "outputs": [
    {
     "data": {
      "text/html": [
       "5"
      ],
      "text/latex": [
       "5"
      ],
      "text/markdown": [
       "5"
      ],
      "text/plain": [
       "[1] 5"
      ]
     },
     "metadata": {},
     "output_type": "display_data"
    }
   ],
   "source": [
    "sample(0:1, 10, TRUE) %>% sum() "
   ]
  },
  {
   "cell_type": "markdown",
   "metadata": {},
   "source": [
    "The ouptut of this line changes every time we run the code as we are randomly sampling 10 coin flips each time. By running this code over and over again we are basically demonstrating how a sampling distribution is created."
   ]
  },
  {
   "cell_type": "markdown",
   "metadata": {},
   "source": [
    "Now in order to create a full and accurate sampling distribution for our scenario we need to replicate these 10 flips a large number of times - i.e. replications. The more replications we do the more reliable the estimates. Let’s do 10000 replications of our 10 coin flips. This means we flip the coin 10 times, count how many heads, save that number, and then repeat it 10000 times. We could do it the slow way we demonstrated above, just running the same line over and over and over again and noting the outcome each time. Or we could use the `replicate()` function."
   ]
  },
  {
   "cell_type": "code",
   "execution_count": 36,
   "metadata": {},
   "outputs": [],
   "source": [
    "heads10k <- replicate(10000, sample(0:1, 10, TRUE) %>% sum()) # saving results to a vector  "
   ]
  },
  {
   "cell_type": "code",
   "execution_count": 37,
   "metadata": {},
   "outputs": [
    {
     "name": "stdout",
     "output_type": "stream",
     "text": [
      " int [1:10000] 6 5 4 7 6 3 4 4 7 8 ...\n"
     ]
    }
   ],
   "source": [
    "str(heads10k)"
   ]
  },
  {
   "cell_type": "markdown",
   "metadata": {},
   "source": [
    "Steps to create our distribution:\n",
    "+ Convert the vector into a data frame (a tibble) so we can work on it. The numbers will be stored in a column called `heads`.\n",
    "+ Then group the results by the number of possible `heads`; i.e. group all the times we got 5 heads together, all the times we got 4 heads together, etc.\n",
    "+ Calculate the probability of a `heads` result, (e.g. probability of 5 heads), by totaling the number of observations for each possible result (e.g. 5 heads) and submitting it to our probability formula above (number of outcomes of event divided by all possible outcomes)"
   ]
  },
  {
   "cell_type": "code",
   "execution_count": 38,
   "metadata": {},
   "outputs": [],
   "source": [
    "data10k <- tibble(heads = heads10k) %>%       # creating a tibble/dataframe\n",
    "                group_by(heads) %>%           # group by number of possibilities\n",
    "                summarise(n = n(), p=n/10000) # count occurances of possibility,\n",
    "                                              # & calculate probability (p) of\n",
    "                                              # each"
   ]
  },
  {
   "cell_type": "markdown",
   "metadata": {},
   "source": [
    "According to the `tibble` documentation website: \"[Tibbles are a] modern reimagining of the `data.frame`, keeping what time has proven to be effective, and throwing out what is not. Tibbles are `data.frames` that are lazy and surly: they do less (i.e. they don’t change variable names or types, and don’t do partial matching) and complain more (e.g. when a variable does not exist). This forces you to confront problems earlier, typically leading to cleaner, more expressive code."
   ]
  },
  {
   "cell_type": "code",
   "execution_count": 39,
   "metadata": {},
   "outputs": [
    {
     "data": {
      "text/html": [
       "<table class=\"dataframe\">\n",
       "<caption>A tibble: 11 × 3</caption>\n",
       "<thead>\n",
       "\t<tr><th></th><th scope=col>heads</th><th scope=col>n</th><th scope=col>p</th></tr>\n",
       "\t<tr><th></th><th scope=col>&lt;int&gt;</th><th scope=col>&lt;int&gt;</th><th scope=col>&lt;dbl&gt;</th></tr>\n",
       "</thead>\n",
       "<tbody>\n",
       "\t<tr><th scope=row>1</th><td> 0</td><td>   3</td><td>0.0003</td></tr>\n",
       "\t<tr><th scope=row>2</th><td> 1</td><td> 111</td><td>0.0111</td></tr>\n",
       "\t<tr><th scope=row>3</th><td> 2</td><td> 445</td><td>0.0445</td></tr>\n",
       "\t<tr><th scope=row>4</th><td> 3</td><td>1103</td><td>0.1103</td></tr>\n",
       "\t<tr><th scope=row>5</th><td> 4</td><td>1986</td><td>0.1986</td></tr>\n",
       "\t<tr><th scope=row>6</th><td> 5</td><td>2485</td><td>0.2485</td></tr>\n",
       "\t<tr><th scope=row>7</th><td> 6</td><td>2121</td><td>0.2121</td></tr>\n",
       "\t<tr><th scope=row>8</th><td> 7</td><td>1209</td><td>0.1209</td></tr>\n",
       "\t<tr><th scope=row>9</th><td> 8</td><td> 427</td><td>0.0427</td></tr>\n",
       "\t<tr><th scope=row>10</th><td> 9</td><td>  98</td><td>0.0098</td></tr>\n",
       "\t<tr><th scope=row>11</th><td>10</td><td>  12</td><td>0.0012</td></tr>\n",
       "</tbody>\n",
       "</table>\n"
      ],
      "text/latex": [
       "A tibble: 11 × 3\n",
       "\\begin{tabular}{r|lll}\n",
       "  & heads & n & p\\\\\n",
       "  & <int> & <int> & <dbl>\\\\\n",
       "\\hline\n",
       "\t1 &  0 &    3 & 0.0003\\\\\n",
       "\t2 &  1 &  111 & 0.0111\\\\\n",
       "\t3 &  2 &  445 & 0.0445\\\\\n",
       "\t4 &  3 & 1103 & 0.1103\\\\\n",
       "\t5 &  4 & 1986 & 0.1986\\\\\n",
       "\t6 &  5 & 2485 & 0.2485\\\\\n",
       "\t7 &  6 & 2121 & 0.2121\\\\\n",
       "\t8 &  7 & 1209 & 0.1209\\\\\n",
       "\t9 &  8 &  427 & 0.0427\\\\\n",
       "\t10 &  9 &   98 & 0.0098\\\\\n",
       "\t11 & 10 &   12 & 0.0012\\\\\n",
       "\\end{tabular}\n"
      ],
      "text/markdown": [
       "\n",
       "A tibble: 11 × 3\n",
       "\n",
       "| <!--/--> | heads &lt;int&gt; | n &lt;int&gt; | p &lt;dbl&gt; |\n",
       "|---|---|---|---|\n",
       "| 1 |  0 |    3 | 0.0003 |\n",
       "| 2 |  1 |  111 | 0.0111 |\n",
       "| 3 |  2 |  445 | 0.0445 |\n",
       "| 4 |  3 | 1103 | 0.1103 |\n",
       "| 5 |  4 | 1986 | 0.1986 |\n",
       "| 6 |  5 | 2485 | 0.2485 |\n",
       "| 7 |  6 | 2121 | 0.2121 |\n",
       "| 8 |  7 | 1209 | 0.1209 |\n",
       "| 9 |  8 |  427 | 0.0427 |\n",
       "| 10 |  9 |   98 | 0.0098 |\n",
       "| 11 | 10 |   12 | 0.0012 |\n",
       "\n"
      ],
      "text/plain": [
       "   heads n    p     \n",
       "1   0       3 0.0003\n",
       "2   1     111 0.0111\n",
       "3   2     445 0.0445\n",
       "4   3    1103 0.1103\n",
       "5   4    1986 0.1986\n",
       "6   5    2485 0.2485\n",
       "7   6    2121 0.2121\n",
       "8   7    1209 0.1209\n",
       "9   8     427 0.0427\n",
       "10  9      98 0.0098\n",
       "11 10      12 0.0012"
      ]
     },
     "metadata": {},
     "output_type": "display_data"
    }
   ],
   "source": [
    "data10k"
   ]
  },
  {
   "cell_type": "markdown",
   "metadata": {},
   "source": [
    "Let's visualize the data"
   ]
  },
  {
   "cell_type": "code",
   "execution_count": 50,
   "metadata": {},
   "outputs": [
    {
     "data": {
      "image/png": "[encoded data removed]",
      "text/plain": [
       "Plot with title “Histogram of heads10k”"
      ]
     },
     "metadata": {
      "image/png": {
       "height": 420,
       "width": 420
      }
     },
     "output_type": "display_data"
    }
   ],
   "source": [
    "hist(heads10k, freq=FALSE, breaks=10)"
   ]
  },
  {
   "cell_type": "code",
   "execution_count": 41,
   "metadata": {},
   "outputs": [
    {
     "name": "stderr",
     "output_type": "stream",
     "text": [
      "Warning message:\n",
      "“Continuous limits supplied to discrete scale.\n",
      "Did you mean `limits = factor(...)` or `scale_*_continuous()`?”\n"
     ]
    },
    {
     "data": {
      "image/png": "[encoded data removed]",
      "text/plain": [
       "plot without title"
      ]
     },
     "metadata": {
      "image/png": {
       "height": 420,
       "width": 420
      }
     },
     "output_type": "display_data"
    }
   ],
   "source": [
    "ggplot(data10k, aes(heads,p)) + \n",
    "  geom_col(fill = \"forest green\") + \n",
    "  labs(x = \"Number of Heads\", y = \"Probability of Heads in 10 flips (p)\") +\n",
    "  theme_bw() +\n",
    "  scale_x_discrete(limits=0:10)"
   ]
  },
  {
   "cell_type": "markdown",
   "metadata": {},
   "source": [
    "---\n",
    "#### A little bit about ggplot()"
   ]
  },
  {
   "cell_type": "markdown",
   "metadata": {},
   "source": [
    "The two main things to know about working with ggplot are that:\n",
    "\n",
    "a. the usual format is:\n",
    "`ggplot(data, aes(x = x_axis, y = y_axis)) + geom_type_of_plot()`\n",
    "b. it works on a concept of layers\n",
    "\n",
    "On **point a**: The first thing you enter is your dataframe/tibble; your `data`. Then within the `aes()` you say what is my `x_axis` and `y_axis`, using the column names from within your tibble. `aes` stands for aesthetics and maps data into visual features. Finally you tell the code what type of plot you want.\n",
    "\n",
    "On **point b**: Layers are a common way for graphics to work. Think about it as ggplot() fucntion creating your first layer and then every function after that is adding more layers on top to create the figure you want. The first layer is always your data and the axis/axes, i.e. ggplot(….). The second layer, added by using the plus symbol ‘+’, is the type of plot. We'll see more examples of layers in the future."
   ]
  },
  {
   "cell_type": "markdown",
   "metadata": {},
   "source": [
    "---\n",
    "Note that as the possible number of heads in 10 flips are all related to one another, then summing up all the probabilities of the different number of heads will give you a total of 1. This is different to what we looked at earlier in cards where the events were unrelated to each other. As such, you can use this informaiton to start asking questions such as what would be the probability of obtaining 2 or less Heads in 10 flips? If using the results above, then:"
   ]
  },
  {
   "cell_type": "markdown",
   "metadata": {},
   "source": [
    "$P(X=0) = $"
   ]
  },
  {
   "cell_type": "code",
   "execution_count": 51,
   "metadata": {},
   "outputs": [
    {
     "data": {
      "text/html": [
       "3e-04"
      ],
      "text/latex": [
       "3e-04"
      ],
      "text/markdown": [
       "3e-04"
      ],
      "text/plain": [
       "[1] 3e-04"
      ]
     },
     "metadata": {},
     "output_type": "display_data"
    }
   ],
   "source": [
    "data10k$p[data10k$heads==0]"
   ]
  },
  {
   "cell_type": "markdown",
   "metadata": {},
   "source": [
    "$P(X=1) = $"
   ]
  },
  {
   "cell_type": "code",
   "execution_count": 52,
   "metadata": {},
   "outputs": [
    {
     "data": {
      "text/html": [
       "0.0111"
      ],
      "text/latex": [
       "0.0111"
      ],
      "text/markdown": [
       "0.0111"
      ],
      "text/plain": [
       "[1] 0.0111"
      ]
     },
     "metadata": {},
     "output_type": "display_data"
    }
   ],
   "source": [
    "data10k$p[data10k$heads==1]"
   ]
  },
  {
   "cell_type": "markdown",
   "metadata": {},
   "source": [
    "$P(X=2) = $"
   ]
  },
  {
   "cell_type": "code",
   "execution_count": 53,
   "metadata": {},
   "outputs": [
    {
     "data": {
      "text/html": [
       "0.0445"
      ],
      "text/latex": [
       "0.0445"
      ],
      "text/markdown": [
       "0.0445"
      ],
      "text/plain": [
       "[1] 0.0445"
      ]
     },
     "metadata": {},
     "output_type": "display_data"
    }
   ],
   "source": [
    "data10k$p[data10k$heads==2]"
   ]
  },
  {
   "cell_type": "code",
   "execution_count": 55,
   "metadata": {},
   "outputs": [
    {
     "name": "stderr",
     "output_type": "stream",
     "text": [
      "Warning message in data10k$heads == c(0:2):\n",
      "“longer object length is not a multiple of shorter object length”\n"
     ]
    },
    {
     "data": {
      "text/html": [
       "0.0559"
      ],
      "text/latex": [
       "0.0559"
      ],
      "text/markdown": [
       "0.0559"
      ],
      "text/plain": [
       "[1] 0.0559"
      ]
     },
     "metadata": {},
     "output_type": "display_data"
    }
   ],
   "source": [
    "data10k$p[data10k$heads==c(0:2)] %>% sum()"
   ]
  },
  {
   "cell_type": "markdown",
   "metadata": {},
   "source": [
    "### Questions:"
   ]
  },
  {
   "cell_type": "markdown",
   "metadata": {},
   "source": [
    "Look at the probability values corresponding to the number of coin flips you created in the data10k sample distribution."
   ]
  },
  {
   "cell_type": "markdown",
   "metadata": {},
   "source": [
    "1. Choose from the following options, if you wanted to calculate the probability of getting 4, 5 or 6 heads in 10 coin flips you would:\n",
    "    + A: multiply individual probabilities together\n",
    "    + B: sum individual probabilities together"
   ]
  },
  {
   "cell_type": "markdown",
   "metadata": {},
   "source": [
    "2. Choose from the following options, if you wanted to calculate the probability of getting 6 or more heads in 10 coin flips you would:\n",
    "    + A: multiply individual probabilities together\n",
    "    + B: sum individual probabilities together"
   ]
  },
  {
   "cell_type": "markdown",
   "metadata": {},
   "source": [
    "3. Choose from the following options, the distribution we have created is:\n",
    "    + A: continuous\n",
    "    + B: discrete"
   ]
  },
  {
   "cell_type": "markdown",
   "metadata": {},
   "source": [
    "Not sure if you should be summing or multiplying probabilities? A good way to remember, from both the coin flip examples and from the pack of cards examples earlier, is that if the scenarios are **related** you are summing probabilities, if scenarios are **separate** you are multiplying probabilities. **Related** scenarios are usually asking you about the probability of ‘either / or’ scenarios occuring, whereas separate scenarios usually ask about the probability of one scenario ‘and’ another scenario both occuring. This is a separate concept from **independence**."
   ]
  },
  {
   "cell_type": "markdown",
   "metadata": {},
   "source": [
    "## The Binomial Distribution"
   ]
  },
  {
   "cell_type": "markdown",
   "metadata": {},
   "source": [
    "Great, so we are now learning how probabilities and distributions work. However, if we had wanted to calculate the probability of 8 heads from 10 coin flips we don’t have to go through this entire procedure each time. Instead, because we have a dichotomous outcome, “heads or tails”, we can establish probabilities using the **binomial distribution** - effectively what you just created. You can look up the R help page on the binomial distribution (type `?dbinom` directly into the console) to understand how to use it but we will walk through some essentials here.\n",
    "\n",
    "We’ll use 3 functions to work with the binomial distribution and to ask some of the questions we have asked above:"
   ]
  },
  {
   "cell_type": "markdown",
   "metadata": {},
   "source": [
    "+ `dbinom()` - **the density function**. This function gives you the probability of `x` successes (e.g. heads) given the `size` (e.g. number of trials) and probability of success `prob` on a single trial (here it’s 0.5, because we assume we’re flipping a fair coin - Heads or Tails)."
   ]
  },
  {
   "cell_type": "markdown",
   "metadata": {},
   "source": [
    "+ `pbinom()` - **the distribution function**. This function gives you the probability of getting a number of successes below a certain cut-off point given the `size` and the `prob`. This would be for questions such as the probability of 5 heads or less for example. It sums the probability of 0, 1, 2, 3, 4 and 5 heads."
   ]
  },
  {
   "cell_type": "markdown",
   "metadata": {},
   "source": [
    "+ `qbinom()` - **the quantile function**. This function is the inverse of `pbinom` in that it gives you the x-axis value below (and including the value) which the summation of probabilities is greater than or equal to a given probability `p`, given the `size` and `prob`. In other words, how many heads would you need to have a probability of $p = 0.0571$."
   ]
  },
  {
   "cell_type": "markdown",
   "metadata": {},
   "source": [
    "**Note:** When discussing discrete distributions, we talk about **probabilities** at a particular value. However, in continuous distributions, like the normal distribution we looked at last week, we talk about **probability densities**. As John mentioned in lecture, in a continuous distribution, the probability at an instantaneous point is **0**, because the interval length is 0. More simply put, the y-axis in discrete distributions are **probabilities**, whereas the y-axis in continuous distributions are **probability densities**. "
   ]
  },
  {
   "cell_type": "markdown",
   "metadata": {},
   "source": [
    "### dbinom() - The Density Function"
   ]
  },
  {
   "cell_type": "markdown",
   "metadata": {},
   "source": [
    "Using the `dbinom()` function we can create probabilities for any possible outcomes where there are two possibilities of outcome on each trial - e.g. heads or tails, cats or dogs, black or red. The dbinom (density binom) function takes the format of `dbinom(x, size, prob)`, where the arguments we give are:\n",
    "+ `x` - the number of ‘heads’ we want to know the probability of\n",
    "+ `size` - the number of trials (flips) we are doing; in this case, 10 flips\n",
    "+ `prob` - the probability of ‘heads’ on one trial\n",
    "\n",
    "We are going to stick with the coin flip idea. Here we are showing the code for obtaining 3 heads in 10 flips:"
   ]
  },
  {
   "cell_type": "code",
   "execution_count": 56,
   "metadata": {},
   "outputs": [
    {
     "data": {
      "text/html": [
       "0.1171875"
      ],
      "text/latex": [
       "0.1171875"
      ],
      "text/markdown": [
       "0.1171875"
      ],
      "text/plain": [
       "[1] 0.1171875"
      ]
     },
     "metadata": {},
     "output_type": "display_data"
    }
   ],
   "source": [
    "dbinom(3, 10, 0.5)"
   ]
  },
  {
   "cell_type": "code",
   "execution_count": 57,
   "metadata": {},
   "outputs": [
    {
     "data": {
      "text/html": [
       "<style>\n",
       ".list-inline {list-style: none; margin:0; padding: 0}\n",
       ".list-inline>li {display: inline-block}\n",
       ".list-inline>li:not(:last-child)::after {content: \"\\00b7\"; padding: 0 .5ex}\n",
       "</style>\n",
       "<ol class=list-inline><li>0.0009765625</li><li>0.009765625</li><li>0.0439453125</li><li>0.1171875</li><li>0.205078125</li><li>0.24609375</li><li>0.205078125</li><li>0.1171875</li><li>0.0439453125</li><li>0.009765625</li><li>0.0009765625</li></ol>\n"
      ],
      "text/latex": [
       "\\begin{enumerate*}\n",
       "\\item 0.0009765625\n",
       "\\item 0.009765625\n",
       "\\item 0.0439453125\n",
       "\\item 0.1171875\n",
       "\\item 0.205078125\n",
       "\\item 0.24609375\n",
       "\\item 0.205078125\n",
       "\\item 0.1171875\n",
       "\\item 0.0439453125\n",
       "\\item 0.009765625\n",
       "\\item 0.0009765625\n",
       "\\end{enumerate*}\n"
      ],
      "text/markdown": [
       "1. 0.0009765625\n",
       "2. 0.009765625\n",
       "3. 0.0439453125\n",
       "4. 0.1171875\n",
       "5. 0.205078125\n",
       "6. 0.24609375\n",
       "7. 0.205078125\n",
       "8. 0.1171875\n",
       "9. 0.0439453125\n",
       "10. 0.009765625\n",
       "11. 0.0009765625\n",
       "\n",
       "\n"
      ],
      "text/plain": [
       " [1] 0.0009765625 0.0097656250 0.0439453125 0.1171875000 0.2050781250\n",
       " [6] 0.2460937500 0.2050781250 0.1171875000 0.0439453125 0.0097656250\n",
       "[11] 0.0009765625"
      ]
     },
     "metadata": {},
     "output_type": "display_data"
    }
   ],
   "source": [
    "dbinom(0:10, 10, 0.5)"
   ]
  },
  {
   "cell_type": "markdown",
   "metadata": {},
   "source": [
    "And if we plot the probability of all possible outcomes in 10 flips it would look like this:"
   ]
  },
  {
   "cell_type": "code",
   "execution_count": 66,
   "metadata": {},
   "outputs": [
    {
     "data": {
      "image/png": "[encoded data removed]",
      "text/plain": [
       "Plot with title “Probability Distribution of Number of Heads in 10 Flips”"
      ]
     },
     "metadata": {
      "image/png": {
       "height": 420,
       "width": 420
      }
     },
     "output_type": "display_data"
    }
   ],
   "source": [
    "hist(rbinom(10000, 10, 0.5), freq=FALSE, breaks=10, col='purple', \n",
    "        main= \"Probability Distribution of Number of Heads in 10 Flips\",\n",
    "        xlab = \"Number of Heads\",\n",
    "        ylab = \"Probability (p)\")"
   ]
  },
  {
   "cell_type": "markdown",
   "metadata": {},
   "source": [
    "### Questions: \n",
    "+ What is the probability of 2 heads out of 10 flips?"
   ]
  },
  {
   "cell_type": "markdown",
   "metadata": {},
   "source": [
    "### pbinom() - The Cumulative Probability Function"
   ]
  },
  {
   "cell_type": "markdown",
   "metadata": {},
   "source": [
    "What if we wanted to know the probability of **up to and including** 3 heads out of 10 flips? We have asked similar questions above. We can either use dbinom for each outcome up to 3 heads and sum the results:"
   ]
  },
  {
   "cell_type": "code",
   "execution_count": 68,
   "metadata": {},
   "outputs": [
    {
     "data": {
      "text/html": [
       "0.171875"
      ],
      "text/latex": [
       "0.171875"
      ],
      "text/markdown": [
       "0.171875"
      ],
      "text/plain": [
       "[1] 0.171875"
      ]
     },
     "metadata": {},
     "output_type": "display_data"
    }
   ],
   "source": [
    "dbinom(0:3, 10, 0.5) %>% sum()"
   ]
  },
  {
   "cell_type": "markdown",
   "metadata": {},
   "source": [
    "Or we can use the `pbinom()` function; known as the **cumulative probability distribution function** or the cumulative density function. The first argument we give is the **cut-off value up to and including** the value which we want to know the probability of (here it’s up to 3 `heads`). Then, as before, we tell it how many flips we want to do and the probability of heads on a single trial."
   ]
  },
  {
   "cell_type": "code",
   "execution_count": 69,
   "metadata": {},
   "outputs": [
    {
     "data": {
      "text/html": [
       "0.171875"
      ],
      "text/latex": [
       "0.171875"
      ],
      "text/markdown": [
       "0.171875"
      ],
      "text/plain": [
       "[1] 0.171875"
      ]
     },
     "metadata": {},
     "output_type": "display_data"
    }
   ],
   "source": [
    "pbinom(3, 10, 0.5, lower.tail = TRUE)  "
   ]
  },
  {
   "cell_type": "markdown",
   "metadata": {},
   "source": [
    "So the `pbinom` function gives us the **cumulative probability** of outcomes up to and including the cut-off. But what if we wanted to know the probability of outcomes **including and above** a certain value? Say we want to know the probability of 7 heads or more out of 10 coin flips. The code would be this:"
   ]
  },
  {
   "cell_type": "code",
   "execution_count": 70,
   "metadata": {},
   "outputs": [
    {
     "data": {
      "text/html": [
       "0.171875"
      ],
      "text/latex": [
       "0.171875"
      ],
      "text/markdown": [
       "0.171875"
      ],
      "text/plain": [
       "[1] 0.171875"
      ]
     },
     "metadata": {},
     "output_type": "display_data"
    }
   ],
   "source": [
    "pbinom(6, 10, 0.5, lower.tail = FALSE) "
   ]
  },
  {
   "cell_type": "markdown",
   "metadata": {},
   "source": [
    "### Questions:"
   ]
  },
  {
   "cell_type": "markdown",
   "metadata": {},
   "source": [
    "1. Using the format shown above for the `pbinom()` function, enter the code that would determine the probability of up to and including 5 heads out of 20 flips, assuming a probability of 0.5:"
   ]
  },
  {
   "cell_type": "markdown",
   "metadata": {},
   "source": [
    "2. What is the probability of obtaining more than but not including 50 heads in 100 flips?"
   ]
  },
  {
   "cell_type": "markdown",
   "metadata": {},
   "source": [
    "3. How can you confirm number 2 using `dbinom()`?"
   ]
  },
  {
   "cell_type": "markdown",
   "metadata": {},
   "source": [
    "### qbinom() - The Quantile Function"
   ]
  },
  {
   "cell_type": "markdown",
   "metadata": {},
   "source": [
    "The `qbinom()` function is the inverse of the `pbinom()` function. Whereas with `pbinom()` you supply an outcome value x and get a tail probability, with `qbinom()` you supply a tail probability and get the outcome value that (approximately) cuts off that tail probability. Think how you would rephrase the questions above in the `pbinom()` to ask a `qbinom()` question. Worth noting though that `qbinom()` is approximate with a discrete distribution because of the “jumps” in probability between the discrete outcomes (i.e. you can have probability of 2 heads or 3 heads but not 2.5 heads)."
   ]
  },
  {
   "cell_type": "markdown",
   "metadata": {},
   "source": [
    "Below is code for the probability of 49 heads or less in 100 coin flips."
   ]
  },
  {
   "cell_type": "code",
   "execution_count": 71,
   "metadata": {},
   "outputs": [
    {
     "data": {
      "text/html": [
       "0.460205381306411"
      ],
      "text/latex": [
       "0.460205381306411"
      ],
      "text/markdown": [
       "0.460205381306411"
      ],
      "text/plain": [
       "[1] 0.4602054"
      ]
     },
     "metadata": {},
     "output_type": "display_data"
    }
   ],
   "source": [
    "p <- pbinom(49, 100, .5, lower.tail = TRUE)\n",
    "p"
   ]
  },
  {
   "cell_type": "code",
   "execution_count": 72,
   "metadata": {},
   "outputs": [
    {
     "data": {
      "text/html": [
       "49"
      ],
      "text/latex": [
       "49"
      ],
      "text/markdown": [
       "49"
      ],
      "text/plain": [
       "[1] 49"
      ]
     },
     "metadata": {},
     "output_type": "display_data"
    }
   ],
   "source": [
    "qbinom(p, 100, .5, lower.tail = TRUE)"
   ]
  },
  {
   "cell_type": "markdown",
   "metadata": {},
   "source": [
    "This can be stated as the number of heads required to obtain a probability of 0.4602054 is 49. So the `qbinom()` function is useful if you want to know the minimum number of successes (‘heads’) that would be needed to achieve a particular probability. This time the cut-off we specify is not the number of ‘heads’ we want but the **probability** we want.\n",
    "\n",
    "For example say we want to know the maximum number of ‘heads’ out of 10 flips that would result in a 5% heads success rate (a probability of .05), we would use the following code."
   ]
  },
  {
   "cell_type": "code",
   "execution_count": 73,
   "metadata": {},
   "outputs": [
    {
     "data": {
      "text/html": [
       "2"
      ],
      "text/latex": [
       "2"
      ],
      "text/markdown": [
       "2"
      ],
      "text/plain": [
       "[1] 2"
      ]
     },
     "metadata": {},
     "output_type": "display_data"
    }
   ],
   "source": [
    "qbinom(.05, 10, 0.5, lower.tail = TRUE) "
   ]
  },
  {
   "cell_type": "code",
   "execution_count": 74,
   "metadata": {},
   "outputs": [
    {
     "data": {
      "text/html": [
       "8"
      ],
      "text/latex": [
       "8"
      ],
      "text/markdown": [
       "8"
      ],
      "text/plain": [
       "[1] 8"
      ]
     },
     "metadata": {},
     "output_type": "display_data"
    }
   ],
   "source": [
    "qbinom(.05, 10, 0.5, lower.tail = FALSE) "
   ]
  },
  {
   "cell_type": "markdown",
   "metadata": {},
   "source": [
    "### Questions:\n",
    "+ What is the maximum number of heads associated with a tail probability of 10% (.1) in 17 flips?"
   ]
  },
  {
   "cell_type": "code",
   "execution_count": null,
   "metadata": {},
   "outputs": [],
   "source": []
  }
 ],
 "metadata": {
  "kernelspec": {
   "display_name": "R",
   "language": "R",
   "name": "ir"
  },
  "language_info": {
   "codemirror_mode": "r",
   "file_extension": ".r",
   "mimetype": "text/x-r-source",
   "name": "R",
   "pygments_lexer": "r",
   "version": "4.0.3"
  }
 },
 "nbformat": 4,
 "nbformat_minor": 4
}
