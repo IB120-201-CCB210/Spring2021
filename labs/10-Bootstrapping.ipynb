{
 "cells": [
  {
   "cell_type": "code",
   "execution_count": 4,
   "metadata": {},
   "outputs": [],
   "source": [
    "library(boot)\n",
    "library(stats)"
   ]
  },
  {
   "cell_type": "markdown",
   "metadata": {},
   "source": [
    "## Confidence Intervals"
   ]
  },
  {
   "cell_type": "markdown",
   "metadata": {},
   "source": [
    "You take a random sample of size n and calculate the sample mean. We use this sample mean as an *estimator* for the true population mean, also known as a \"point estimate\". A point estimate by itself is of limited usefulness because it does not reveal the uncertainty associated with the estimate or sampling method. Confidence intervals supply us with more information about the estimate by giving us an *interval*, with an associated *level of confidence*, that likely would contain the true population mean.  \n"
   ]
  },
  {
   "cell_type": "markdown",
   "metadata": {},
   "source": [
    "* A confidence interval (CI) is an interval of values instead of a single point estimate.\n",
    "* The level of confidence corresponds to the expected proportion of intervals that will contain the parameter if many confidence intervals are constructed of the same sample size from the same population. Another way of saying this is: \n",
    "    * 90% of confidence intervals computed at the 90% confidence level contain the true parameter\n",
    "    * 95% of confidence intervals computed at the 95% confidence level contain the parameter\n",
    "    * etc...\n",
    "* Our uncertainty is about whether our particular CI is one of those that truly contains the true value of the parameter.\n",
    "* Constructing confidence intervals requires knowledge about the sample distribution - sample mean and either population SD or sample SD. \n",
    "* Calculating CIs, theoretically, does not require that the population follow a normal distribution, however the math for such situations can get tricky. For this reason, if we know the population doesn't follow a normal, or we're just unsure, we can instead calculate an asymptotical CI on the *sample distribution for the sample mean* (according to the Central Limit Theorem, the sampling distribution for the sample mean approaches normal).  \n"
   ]
  },
  {
   "cell_type": "markdown",
   "metadata": {},
   "source": [
    "General form:\n",
    "\n",
    "sample statistic $\\pm$ margin of error\n",
    "\n",
    "margin of error $=$ multiplier(standard error)"
   ]
  },
  {
   "cell_type": "markdown",
   "metadata": {},
   "source": [
    "From Lab 8, we learned standard error $= \\frac{\\hat\\sigma}{\\sqrt n}$. The multiplier is calculated using t-statistics from a t-distribution. (There's a lot of theory behind this, but in short - this distribution applies when a test statistic we're interested in would follow a normal distribution *if* the value of a scaling term in the test statistic were known. When it's unknown, the scaling term is replaced by an estimate based on the data (the SEM).) Other statistical methods can be used to calculate the multiplier, but the t-distribution is widely used for when we don't know the true population standar deviation (which we rarely do). "
   ]
  },
  {
   "cell_type": "markdown",
   "metadata": {},
   "source": [
    "### Example \n",
    "When the population follows a normal"
   ]
  },
  {
   "cell_type": "code",
   "execution_count": 2,
   "metadata": {},
   "outputs": [
    {
     "data": {
      "text/html": [
       "<style>\n",
       ".list-inline {list-style: none; margin:0; padding: 0}\n",
       ".list-inline>li {display: inline-block}\n",
       ".list-inline>li:not(:last-child)::after {content: \"\\00b7\"; padding: 0 .5ex}\n",
       "</style>\n",
       "<ol class=list-inline><li>0.712285986455064</li><li>-1.18172790469383</li><li>0.823199065469506</li><li>-0.788849622485015</li><li>0.109263406672355</li><li>1.21944580728893</li><li>-2.09251758022042</li><li>-0.0327369176139716</li><li>2.19288603463811</li><li>-0.722239202168782</li><li>1.5586991909875</li><li>-0.8285188449561</li><li>-0.93830065420417</li><li>0.837877009141243</li><li>-0.63136258981479</li><li>0.0462128425190897</li><li>-0.842002345949481</li><li>-1.60615463897039</li><li>0.321587428411832</li><li>-0.153401011327645</li><li>-1.26417464339113</li><li>1.43236514637754</li><li>0.314359609913836</li><li>0.39306370800635</li><li>-0.35330508592505</li><li>0.0144034965158575</li><li>-1.13185539004315</li><li>-0.242399543583819</li><li>1.37246403298938</li><li>0.390145854579695</li><li>-1.01716954718751</li><li>-0.55688040724454</li><li>0.669111082851916</li><li>-0.286719062166698</li><li>-1.88554115889108</li><li>0.827209983463777</li><li>0.158126612713966</li><li>0.337054901049019</li><li>1.27834912085235</li><li>-0.295923036951784</li><li>0.615656826685875</li><li>-1.2109074264571</li><li>-0.743331703001332</li><li>-0.727555613889887</li><li>0.567202844517615</li><li>1.04917425905704</li><li>-0.0667835937726903</li><li>1.17701725707044</li><li>0.647793144679581</li><li>-0.743592106497143</li></ol>\n"
      ],
      "text/latex": [
       "\\begin{enumerate*}\n",
       "\\item 0.712285986455064\n",
       "\\item -1.18172790469383\n",
       "\\item 0.823199065469506\n",
       "\\item -0.788849622485015\n",
       "\\item 0.109263406672355\n",
       "\\item 1.21944580728893\n",
       "\\item -2.09251758022042\n",
       "\\item -0.0327369176139716\n",
       "\\item 2.19288603463811\n",
       "\\item -0.722239202168782\n",
       "\\item 1.5586991909875\n",
       "\\item -0.8285188449561\n",
       "\\item -0.93830065420417\n",
       "\\item 0.837877009141243\n",
       "\\item -0.63136258981479\n",
       "\\item 0.0462128425190897\n",
       "\\item -0.842002345949481\n",
       "\\item -1.60615463897039\n",
       "\\item 0.321587428411832\n",
       "\\item -0.153401011327645\n",
       "\\item -1.26417464339113\n",
       "\\item 1.43236514637754\n",
       "\\item 0.314359609913836\n",
       "\\item 0.39306370800635\n",
       "\\item -0.35330508592505\n",
       "\\item 0.0144034965158575\n",
       "\\item -1.13185539004315\n",
       "\\item -0.242399543583819\n",
       "\\item 1.37246403298938\n",
       "\\item 0.390145854579695\n",
       "\\item -1.01716954718751\n",
       "\\item -0.55688040724454\n",
       "\\item 0.669111082851916\n",
       "\\item -0.286719062166698\n",
       "\\item -1.88554115889108\n",
       "\\item 0.827209983463777\n",
       "\\item 0.158126612713966\n",
       "\\item 0.337054901049019\n",
       "\\item 1.27834912085235\n",
       "\\item -0.295923036951784\n",
       "\\item 0.615656826685875\n",
       "\\item -1.2109074264571\n",
       "\\item -0.743331703001332\n",
       "\\item -0.727555613889887\n",
       "\\item 0.567202844517615\n",
       "\\item 1.04917425905704\n",
       "\\item -0.0667835937726903\n",
       "\\item 1.17701725707044\n",
       "\\item 0.647793144679581\n",
       "\\item -0.743592106497143\n",
       "\\end{enumerate*}\n"
      ],
      "text/markdown": [
       "1. 0.712285986455064\n",
       "2. -1.18172790469383\n",
       "3. 0.823199065469506\n",
       "4. -0.788849622485015\n",
       "5. 0.109263406672355\n",
       "6. 1.21944580728893\n",
       "7. -2.09251758022042\n",
       "8. -0.0327369176139716\n",
       "9. 2.19288603463811\n",
       "10. -0.722239202168782\n",
       "11. 1.5586991909875\n",
       "12. -0.8285188449561\n",
       "13. -0.93830065420417\n",
       "14. 0.837877009141243\n",
       "15. -0.63136258981479\n",
       "16. 0.0462128425190897\n",
       "17. -0.842002345949481\n",
       "18. -1.60615463897039\n",
       "19. 0.321587428411832\n",
       "20. -0.153401011327645\n",
       "21. -1.26417464339113\n",
       "22. 1.43236514637754\n",
       "23. 0.314359609913836\n",
       "24. 0.39306370800635\n",
       "25. -0.35330508592505\n",
       "26. 0.0144034965158575\n",
       "27. -1.13185539004315\n",
       "28. -0.242399543583819\n",
       "29. 1.37246403298938\n",
       "30. 0.390145854579695\n",
       "31. -1.01716954718751\n",
       "32. -0.55688040724454\n",
       "33. 0.669111082851916\n",
       "34. -0.286719062166698\n",
       "35. -1.88554115889108\n",
       "36. 0.827209983463777\n",
       "37. 0.158126612713966\n",
       "38. 0.337054901049019\n",
       "39. 1.27834912085235\n",
       "40. -0.295923036951784\n",
       "41. 0.615656826685875\n",
       "42. -1.2109074264571\n",
       "43. -0.743331703001332\n",
       "44. -0.727555613889887\n",
       "45. 0.567202844517615\n",
       "46. 1.04917425905704\n",
       "47. -0.0667835937726903\n",
       "48. 1.17701725707044\n",
       "49. 0.647793144679581\n",
       "50. -0.743592106497143\n",
       "\n",
       "\n"
      ],
      "text/plain": [
       " [1]  0.71228599 -1.18172790  0.82319907 -0.78884962  0.10926341  1.21944581\n",
       " [7] -2.09251758 -0.03273692  2.19288603 -0.72223920  1.55869919 -0.82851884\n",
       "[13] -0.93830065  0.83787701 -0.63136259  0.04621284 -0.84200235 -1.60615464\n",
       "[19]  0.32158743 -0.15340101 -1.26417464  1.43236515  0.31435961  0.39306371\n",
       "[25] -0.35330509  0.01440350 -1.13185539 -0.24239954  1.37246403  0.39014585\n",
       "[31] -1.01716955 -0.55688041  0.66911108 -0.28671906 -1.88554116  0.82720998\n",
       "[37]  0.15812661  0.33705490  1.27834912 -0.29592304  0.61565683 -1.21090743\n",
       "[43] -0.74333170 -0.72755561  0.56720284  1.04917426 -0.06678359  1.17701726\n",
       "[49]  0.64779314 -0.74359211"
      ]
     },
     "metadata": {},
     "output_type": "display_data"
    }
   ],
   "source": [
    "# draw a random sample from the normal distribution\n",
    "n <- 50\n",
    "x <- rnorm(n, 0, 1) \n",
    "x"
   ]
  },
  {
   "cell_type": "code",
   "execution_count": 3,
   "metadata": {},
   "outputs": [
    {
     "data": {
      "image/png": "[encoded data removed]",
      "text/plain": [
       "Plot with title “Histogram of x”"
      ]
     },
     "metadata": {
      "image/png": {
       "height": 420,
       "width": 420
      }
     },
     "output_type": "display_data"
    }
   ],
   "source": [
    "# histogram of the sample\n",
    "hist(x)"
   ]
  },
  {
   "cell_type": "code",
   "execution_count": 4,
   "metadata": {},
   "outputs": [
    {
     "data": {
      "text/html": [
       "-0.025579899569993"
      ],
      "text/latex": [
       "-0.025579899569993"
      ],
      "text/markdown": [
       "-0.025579899569993"
      ],
      "text/plain": [
       "[1] -0.0255799"
      ]
     },
     "metadata": {},
     "output_type": "display_data"
    }
   ],
   "source": [
    "# sample mean\n",
    "mean <- mean(x)\n",
    "mean"
   ]
  },
  {
   "cell_type": "markdown",
   "metadata": {},
   "source": [
    "**Question - Is there evidence that our true population mean is different from our sample mean?**"
   ]
  },
  {
   "cell_type": "code",
   "execution_count": 5,
   "metadata": {},
   "outputs": [
    {
     "data": {
      "text/html": [
       "0.135504352568858"
      ],
      "text/latex": [
       "0.135504352568858"
      ],
      "text/markdown": [
       "0.135504352568858"
      ],
      "text/plain": [
       "[1] 0.1355044"
      ]
     },
     "metadata": {},
     "output_type": "display_data"
    }
   ],
   "source": [
    "# standard error of the mean\n",
    "sem <- sd(x)/sqrt(n)\n",
    "sem"
   ]
  },
  {
   "cell_type": "code",
   "execution_count": 6,
   "metadata": {},
   "outputs": [
    {
     "data": {
      "text/html": [
       "<style>\n",
       ".list-inline {list-style: none; margin:0; padding: 0}\n",
       ".list-inline>li {display: inline-block}\n",
       ".list-inline>li:not(:last-child)::after {content: \"\\00b7\"; padding: 0 .5ex}\n",
       "</style>\n",
       "<ol class=list-inline><li>-0.2978860910156</li><li>0.246726291875614</li></ol>\n"
      ],
      "text/latex": [
       "\\begin{enumerate*}\n",
       "\\item -0.2978860910156\n",
       "\\item 0.246726291875614\n",
       "\\end{enumerate*}\n"
      ],
      "text/markdown": [
       "1. -0.2978860910156\n",
       "2. 0.246726291875614\n",
       "\n",
       "\n"
      ],
      "text/plain": [
       "[1] -0.2978861  0.2467263"
      ]
     },
     "metadata": {},
     "output_type": "display_data"
    }
   ],
   "source": [
    "# confidence interval with a confidence level of 95%\n",
    "ci <- c(mean-qt(0.975, n-1)*sem, mean+qt(0.975, n-1)*sem)\n",
    "ci"
   ]
  },
  {
   "cell_type": "markdown",
   "metadata": {},
   "source": [
    "How do we interpret this? \n",
    "\n",
    "We are 95% confident that the true mean is within the above CI. Because the interval is centered around our sample mean, the answer to the above question is **no, there is no evidence that our true population mean is different from our sample mean**. \n",
    "\n",
    "---"
   ]
  },
  {
   "cell_type": "markdown",
   "metadata": {},
   "source": [
    "**Hypothesis Testing**"
   ]
  },
  {
   "cell_type": "code",
   "execution_count": 7,
   "metadata": {},
   "outputs": [
    {
     "data": {
      "text/plain": [
       "\n",
       "\tOne Sample t-test\n",
       "\n",
       "data:  x\n",
       "t = -0.18878, df = 49, p-value = 0.851\n",
       "alternative hypothesis: true mean is not equal to 0\n",
       "95 percent confidence interval:\n",
       " -0.2978861  0.2467263\n",
       "sample estimates:\n",
       " mean of x \n",
       "-0.0255799 \n"
      ]
     },
     "metadata": {},
     "output_type": "display_data"
    }
   ],
   "source": [
    "# one-sample t-test\n",
    "t.test(x)"
   ]
  },
  {
   "cell_type": "code",
   "execution_count": 8,
   "metadata": {},
   "outputs": [
    {
     "name": "stdout",
     "output_type": "stream",
     "text": [
      "[1] -0.003502897\n"
     ]
    },
    {
     "data": {
      "text/plain": [
       "\n",
       "\tWelch Two Sample t-test\n",
       "\n",
       "data:  x and y\n",
       "t = -0.11789, df = 97.783, p-value = 0.9064\n",
       "alternative hypothesis: true difference in means is not equal to 0\n",
       "95 percent confidence interval:\n",
       " -0.3937152  0.3495612\n",
       "sample estimates:\n",
       "   mean of x    mean of y \n",
       "-0.025579900 -0.003502897 \n"
      ]
     },
     "metadata": {},
     "output_type": "display_data"
    }
   ],
   "source": [
    "# two-sample t-test\n",
    "# draw a random sample from the normal distribution\n",
    "n <- 50\n",
    "y <- rnorm(n, 0, 1) \n",
    "print(mean(y))\n",
    "t.test(x, y)\n"
   ]
  },
  {
   "cell_type": "markdown",
   "metadata": {},
   "source": [
    "---\n",
    "As mentioned, if the population doesn't follow a normal distribution, or we're unsure, we can construct a CI on the sampling distribution of the sample mean. However, collecting multiple samples, from which we can calculate sample means, is not always feasible. This is where bootstrapping comes in handy."
   ]
  },
  {
   "cell_type": "code",
   "execution_count": null,
   "metadata": {},
   "outputs": [],
   "source": []
  },
  {
   "cell_type": "markdown",
   "metadata": {},
   "source": [
    "## Bootstrapping"
   ]
  },
  {
   "cell_type": "markdown",
   "metadata": {},
   "source": [
    "How it works:\n",
    "\n",
    "Bootstrapping resamples the original dataset with replacement many thousands of times to create simulated datasets. This process involves drawing random samples from the original dataset. Breaking it down:\n",
    "\n",
    "* The bootstrap method has an equal probability of randomly drawing each original data point for inclusion in the resampled datasets.\n",
    "* The procedure can select a data point more than once for a resampled dataset. This property is the “with replacement” aspect of the process.\n",
    "* The procedure creates resampled datasets that are the same size as the original dataset.\n",
    "\n",
    "The process ends with your simulated datasets having many different combinations of the values that exist in the original dataset. Each simulated dataset has its own set of sample statistics, such as the mean. Bootstrapping procedures use the distribution of the sample statistics across the simulated samples as the sampling distribution.\n",
    "\n",
    "Keep in mind that bootstrapping does not create new data. Instead, it treats the original sample as a proxy for the real population and then draws random samples from it. Consequently, the central assumption for bootstrapping is that the original sample accurately represents the actual population. The resampling process creates many possible samples that a study could have drawn. The various combinations of values in the simulated samples collectively provide an estimate of the variability between random samples drawn from the same population. The range of these potential samples allows the procedure to construct confidence intervals and perform hypothesis testing. Importantly, as the sample size increases, bootstrapping converges on the correct sampling distribution under most conditions."
   ]
  },
  {
   "cell_type": "markdown",
   "metadata": {},
   "source": [
    "### Example \n",
    "When the population doesn't follow a normal (or we're uncertain)."
   ]
  },
  {
   "cell_type": "markdown",
   "metadata": {},
   "source": [
    "#### Manual bootstrapping:"
   ]
  },
  {
   "cell_type": "code",
   "execution_count": 29,
   "metadata": {},
   "outputs": [
    {
     "data": {
      "text/html": [
       "<table class=\"dataframe\">\n",
       "<caption>A data.frame: 97 × 1</caption>\n",
       "<thead>\n",
       "\t<tr><th scope=col>weight</th></tr>\n",
       "\t<tr><th scope=col>&lt;dbl&gt;</th></tr>\n",
       "</thead>\n",
       "<tbody>\n",
       "\t<tr><td>2.0</td></tr>\n",
       "\t<tr><td>2.0</td></tr>\n",
       "\t<tr><td>2.1</td></tr>\n",
       "\t<tr><td>2.2</td></tr>\n",
       "\t<tr><td>2.2</td></tr>\n",
       "\t<tr><td>2.2</td></tr>\n",
       "\t<tr><td>2.2</td></tr>\n",
       "\t<tr><td>2.2</td></tr>\n",
       "\t<tr><td>2.2</td></tr>\n",
       "\t<tr><td>2.2</td></tr>\n",
       "\t<tr><td>2.2</td></tr>\n",
       "\t<tr><td>2.3</td></tr>\n",
       "\t<tr><td>2.4</td></tr>\n",
       "\t<tr><td>2.4</td></tr>\n",
       "\t<tr><td>2.4</td></tr>\n",
       "\t<tr><td>2.4</td></tr>\n",
       "\t<tr><td>2.4</td></tr>\n",
       "\t<tr><td>2.5</td></tr>\n",
       "\t<tr><td>2.5</td></tr>\n",
       "\t<tr><td>2.5</td></tr>\n",
       "\t<tr><td>2.5</td></tr>\n",
       "\t<tr><td>2.5</td></tr>\n",
       "\t<tr><td>2.5</td></tr>\n",
       "\t<tr><td>2.5</td></tr>\n",
       "\t<tr><td>2.5</td></tr>\n",
       "\t<tr><td>2.6</td></tr>\n",
       "\t<tr><td>2.6</td></tr>\n",
       "\t<tr><td>2.6</td></tr>\n",
       "\t<tr><td>2.6</td></tr>\n",
       "\t<tr><td>2.6</td></tr>\n",
       "\t<tr><td>⋮</td></tr>\n",
       "\t<tr><td>3.2</td></tr>\n",
       "\t<tr><td>3.2</td></tr>\n",
       "\t<tr><td>3.2</td></tr>\n",
       "\t<tr><td>3.2</td></tr>\n",
       "\t<tr><td>3.2</td></tr>\n",
       "\t<tr><td>3.2</td></tr>\n",
       "\t<tr><td>3.3</td></tr>\n",
       "\t<tr><td>3.3</td></tr>\n",
       "\t<tr><td>3.3</td></tr>\n",
       "\t<tr><td>3.3</td></tr>\n",
       "\t<tr><td>3.3</td></tr>\n",
       "\t<tr><td>3.4</td></tr>\n",
       "\t<tr><td>3.4</td></tr>\n",
       "\t<tr><td>3.4</td></tr>\n",
       "\t<tr><td>3.4</td></tr>\n",
       "\t<tr><td>3.4</td></tr>\n",
       "\t<tr><td>3.5</td></tr>\n",
       "\t<tr><td>3.5</td></tr>\n",
       "\t<tr><td>3.5</td></tr>\n",
       "\t<tr><td>3.5</td></tr>\n",
       "\t<tr><td>3.5</td></tr>\n",
       "\t<tr><td>3.6</td></tr>\n",
       "\t<tr><td>3.6</td></tr>\n",
       "\t<tr><td>3.6</td></tr>\n",
       "\t<tr><td>3.6</td></tr>\n",
       "\t<tr><td>3.7</td></tr>\n",
       "\t<tr><td>3.8</td></tr>\n",
       "\t<tr><td>3.8</td></tr>\n",
       "\t<tr><td>3.9</td></tr>\n",
       "\t<tr><td>3.9</td></tr>\n",
       "</tbody>\n",
       "</table>\n"
      ],
      "text/latex": [
       "A data.frame: 97 × 1\n",
       "\\begin{tabular}{l}\n",
       " weight\\\\\n",
       " <dbl>\\\\\n",
       "\\hline\n",
       "\t 2.0\\\\\n",
       "\t 2.0\\\\\n",
       "\t 2.1\\\\\n",
       "\t 2.2\\\\\n",
       "\t 2.2\\\\\n",
       "\t 2.2\\\\\n",
       "\t 2.2\\\\\n",
       "\t 2.2\\\\\n",
       "\t 2.2\\\\\n",
       "\t 2.2\\\\\n",
       "\t 2.2\\\\\n",
       "\t 2.3\\\\\n",
       "\t 2.4\\\\\n",
       "\t 2.4\\\\\n",
       "\t 2.4\\\\\n",
       "\t 2.4\\\\\n",
       "\t 2.4\\\\\n",
       "\t 2.5\\\\\n",
       "\t 2.5\\\\\n",
       "\t 2.5\\\\\n",
       "\t 2.5\\\\\n",
       "\t 2.5\\\\\n",
       "\t 2.5\\\\\n",
       "\t 2.5\\\\\n",
       "\t 2.5\\\\\n",
       "\t 2.6\\\\\n",
       "\t 2.6\\\\\n",
       "\t 2.6\\\\\n",
       "\t 2.6\\\\\n",
       "\t 2.6\\\\\n",
       "\t ⋮\\\\\n",
       "\t 3.2\\\\\n",
       "\t 3.2\\\\\n",
       "\t 3.2\\\\\n",
       "\t 3.2\\\\\n",
       "\t 3.2\\\\\n",
       "\t 3.2\\\\\n",
       "\t 3.3\\\\\n",
       "\t 3.3\\\\\n",
       "\t 3.3\\\\\n",
       "\t 3.3\\\\\n",
       "\t 3.3\\\\\n",
       "\t 3.4\\\\\n",
       "\t 3.4\\\\\n",
       "\t 3.4\\\\\n",
       "\t 3.4\\\\\n",
       "\t 3.4\\\\\n",
       "\t 3.5\\\\\n",
       "\t 3.5\\\\\n",
       "\t 3.5\\\\\n",
       "\t 3.5\\\\\n",
       "\t 3.5\\\\\n",
       "\t 3.6\\\\\n",
       "\t 3.6\\\\\n",
       "\t 3.6\\\\\n",
       "\t 3.6\\\\\n",
       "\t 3.7\\\\\n",
       "\t 3.8\\\\\n",
       "\t 3.8\\\\\n",
       "\t 3.9\\\\\n",
       "\t 3.9\\\\\n",
       "\\end{tabular}\n"
      ],
      "text/markdown": [
       "\n",
       "A data.frame: 97 × 1\n",
       "\n",
       "| weight &lt;dbl&gt; |\n",
       "|---|\n",
       "| 2.0 |\n",
       "| 2.0 |\n",
       "| 2.1 |\n",
       "| 2.2 |\n",
       "| 2.2 |\n",
       "| 2.2 |\n",
       "| 2.2 |\n",
       "| 2.2 |\n",
       "| 2.2 |\n",
       "| 2.2 |\n",
       "| 2.2 |\n",
       "| 2.3 |\n",
       "| 2.4 |\n",
       "| 2.4 |\n",
       "| 2.4 |\n",
       "| 2.4 |\n",
       "| 2.4 |\n",
       "| 2.5 |\n",
       "| 2.5 |\n",
       "| 2.5 |\n",
       "| 2.5 |\n",
       "| 2.5 |\n",
       "| 2.5 |\n",
       "| 2.5 |\n",
       "| 2.5 |\n",
       "| 2.6 |\n",
       "| 2.6 |\n",
       "| 2.6 |\n",
       "| 2.6 |\n",
       "| 2.6 |\n",
       "| ⋮ |\n",
       "| 3.2 |\n",
       "| 3.2 |\n",
       "| 3.2 |\n",
       "| 3.2 |\n",
       "| 3.2 |\n",
       "| 3.2 |\n",
       "| 3.3 |\n",
       "| 3.3 |\n",
       "| 3.3 |\n",
       "| 3.3 |\n",
       "| 3.3 |\n",
       "| 3.4 |\n",
       "| 3.4 |\n",
       "| 3.4 |\n",
       "| 3.4 |\n",
       "| 3.4 |\n",
       "| 3.5 |\n",
       "| 3.5 |\n",
       "| 3.5 |\n",
       "| 3.5 |\n",
       "| 3.5 |\n",
       "| 3.6 |\n",
       "| 3.6 |\n",
       "| 3.6 |\n",
       "| 3.6 |\n",
       "| 3.7 |\n",
       "| 3.8 |\n",
       "| 3.8 |\n",
       "| 3.9 |\n",
       "| 3.9 |\n",
       "\n"
      ],
      "text/plain": [
       "   weight\n",
       "1  2.0   \n",
       "2  2.0   \n",
       "3  2.1   \n",
       "4  2.2   \n",
       "5  2.2   \n",
       "6  2.2   \n",
       "7  2.2   \n",
       "8  2.2   \n",
       "9  2.2   \n",
       "10 2.2   \n",
       "11 2.2   \n",
       "12 2.3   \n",
       "13 2.4   \n",
       "14 2.4   \n",
       "15 2.4   \n",
       "16 2.4   \n",
       "17 2.4   \n",
       "18 2.5   \n",
       "19 2.5   \n",
       "20 2.5   \n",
       "21 2.5   \n",
       "22 2.5   \n",
       "23 2.5   \n",
       "24 2.5   \n",
       "25 2.5   \n",
       "26 2.6   \n",
       "27 2.6   \n",
       "28 2.6   \n",
       "29 2.6   \n",
       "30 2.6   \n",
       "⋮  ⋮     \n",
       "68 3.2   \n",
       "69 3.2   \n",
       "70 3.2   \n",
       "71 3.2   \n",
       "72 3.2   \n",
       "73 3.2   \n",
       "74 3.3   \n",
       "75 3.3   \n",
       "76 3.3   \n",
       "77 3.3   \n",
       "78 3.3   \n",
       "79 3.4   \n",
       "80 3.4   \n",
       "81 3.4   \n",
       "82 3.4   \n",
       "83 3.4   \n",
       "84 3.5   \n",
       "85 3.5   \n",
       "86 3.5   \n",
       "87 3.5   \n",
       "88 3.5   \n",
       "89 3.6   \n",
       "90 3.6   \n",
       "91 3.6   \n",
       "92 3.6   \n",
       "93 3.7   \n",
       "94 3.8   \n",
       "95 3.8   \n",
       "96 3.9   \n",
       "97 3.9   "
      ]
     },
     "metadata": {},
     "output_type": "display_data"
    }
   ],
   "source": [
    "# sample data for duck plumage - each row represents a male duck who is a second generation cross of \n",
    "# mallard and pintail ducks. Plumage indices were calculates for each duck - ranged from 0 (identical in appearance\n",
    "# to a mallard) to 20 (identical to a pintail). \n",
    "\n",
    "data <- data.frame(weight = c(catsM$Bwt))\n",
    "n <- length(data$weight)\n",
    "data"
   ]
  },
  {
   "cell_type": "code",
   "execution_count": 30,
   "metadata": {},
   "outputs": [
    {
     "data": {
      "image/png": "[encoded data removed]",
      "text/plain": [
       "Plot with title “Histogram of data$weight”"
      ]
     },
     "metadata": {
      "image/png": {
       "height": 420,
       "width": 420
      }
     },
     "output_type": "display_data"
    }
   ],
   "source": [
    "# histogram of duck plumage indices\n",
    "hist(data$weight, breaks=10)"
   ]
  },
  {
   "cell_type": "code",
   "execution_count": 31,
   "metadata": {},
   "outputs": [
    {
     "data": {
      "text/html": [
       "2.9"
      ],
      "text/latex": [
       "2.9"
      ],
      "text/markdown": [
       "2.9"
      ],
      "text/plain": [
       "[1] 2.9"
      ]
     },
     "metadata": {},
     "output_type": "display_data"
    }
   ],
   "source": [
    "# mean of duck plumage indices\n",
    "mean <- mean(data$weight)\n",
    "mean"
   ]
  },
  {
   "cell_type": "code",
   "execution_count": 32,
   "metadata": {},
   "outputs": [
    {
     "data": {
      "image/png": "[encoded data removed]",
      "text/plain": [
       "Plot with title “Histogram of means”"
      ]
     },
     "metadata": {
      "image/png": {
       "height": 420,
       "width": 420
      }
     },
     "output_type": "display_data"
    }
   ],
   "source": [
    "# create 30 bootstrap samples and calculate their sample means\n",
    "bootReps <- 30\n",
    "means <- c()\n",
    "for(i in 1:bootReps){\n",
    "    sample <- sample(data$weight, size = n, replace = T)\n",
    "    means <- append(means, mean(sample))\n",
    "}\n",
    "hist(means)"
   ]
  },
  {
   "cell_type": "code",
   "execution_count": 33,
   "metadata": {},
   "outputs": [
    {
     "data": {
      "text/html": [
       "<style>\n",
       ".list-inline {list-style: none; margin:0; padding: 0}\n",
       ".list-inline>li {display: inline-block}\n",
       ".list-inline>li:not(:last-child)::after {content: \"\\00b7\"; padding: 0 .5ex}\n",
       "</style>\n",
       "<ol class=list-inline><li>2.88193138148221</li><li>2.9149071064903</li></ol>\n"
      ],
      "text/latex": [
       "\\begin{enumerate*}\n",
       "\\item 2.88193138148221\n",
       "\\item 2.9149071064903\n",
       "\\end{enumerate*}\n"
      ],
      "text/markdown": [
       "1. 2.88193138148221\n",
       "2. 2.9149071064903\n",
       "\n",
       "\n"
      ],
      "text/plain": [
       "[1] 2.881931 2.914907"
      ]
     },
     "metadata": {},
     "output_type": "display_data"
    }
   ],
   "source": [
    "# construct the CI for the above sampling distribution of sample means\n",
    "meanOfMeans <- mean(means)\n",
    "semOfMeans <- sd(means)/sqrt(bootReps)\n",
    "ciOfMeans <- c(meanOfMeans-qt(0.975,bootReps-1)*semOfMeans, meanOfMeans+qt(0.975,bootReps-1)*semOfMeans)\n",
    "ciOfMeans"
   ]
  },
  {
   "cell_type": "code",
   "execution_count": 34,
   "metadata": {},
   "outputs": [
    {
     "data": {
      "image/png": "[encoded data removed]",
      "text/plain": [
       "Plot with title “Histogram of means”"
      ]
     },
     "metadata": {
      "image/png": {
       "height": 420,
       "width": 420
      }
     },
     "output_type": "display_data"
    }
   ],
   "source": [
    "# create 100 bootstrap samples and calculate their sample means\n",
    "bootReps <- 100\n",
    "means <- c()\n",
    "for(i in 1:bootReps){\n",
    "    sample <- sample(data$weight, size = n, replace = T)\n",
    "    means <- append(means, mean(sample))\n",
    "}\n",
    "hist(means)"
   ]
  },
  {
   "cell_type": "code",
   "execution_count": 35,
   "metadata": {},
   "outputs": [
    {
     "data": {
      "text/html": [
       "<style>\n",
       ".list-inline {list-style: none; margin:0; padding: 0}\n",
       ".list-inline>li {display: inline-block}\n",
       ".list-inline>li:not(:last-child)::after {content: \"\\00b7\"; padding: 0 .5ex}\n",
       "</style>\n",
       "<ol class=list-inline><li>2.88960427797994</li><li>2.90785963954583</li></ol>\n"
      ],
      "text/latex": [
       "\\begin{enumerate*}\n",
       "\\item 2.88960427797994\n",
       "\\item 2.90785963954583\n",
       "\\end{enumerate*}\n"
      ],
      "text/markdown": [
       "1. 2.88960427797994\n",
       "2. 2.90785963954583\n",
       "\n",
       "\n"
      ],
      "text/plain": [
       "[1] 2.889604 2.907860"
      ]
     },
     "metadata": {},
     "output_type": "display_data"
    }
   ],
   "source": [
    "# construct the CI for the above sampling distribution of sample means\n",
    "meanOfMeans <- mean(means)\n",
    "semOfMeans <- sd(means)/sqrt(bootReps)\n",
    "ciOfMeans <- c(meanOfMeans-qt(0.975,bootReps-1)*semOfMeans, meanOfMeans+qt(0.975,bootReps-1)*semOfMeans)\n",
    "ciOfMeans"
   ]
  },
  {
   "cell_type": "code",
   "execution_count": 36,
   "metadata": {},
   "outputs": [
    {
     "data": {
      "image/png": "[encoded data removed]",
      "text/plain": [
       "Plot with title “Histogram of means”"
      ]
     },
     "metadata": {
      "image/png": {
       "height": 420,
       "width": 420
      }
     },
     "output_type": "display_data"
    }
   ],
   "source": [
    "# create 1000 bootstrap samples and calculate their sample means\n",
    "bootReps <- 1000\n",
    "means <- c()\n",
    "for(i in 1:bootReps){\n",
    "    sample <- sample(data$weight, size = n, replace = T)\n",
    "    means <- append(means, mean(sample))\n",
    "}\n",
    "hist(means)"
   ]
  },
  {
   "cell_type": "code",
   "execution_count": 37,
   "metadata": {},
   "outputs": [
    {
     "data": {
      "text/html": [
       "<style>\n",
       ".list-inline {list-style: none; margin:0; padding: 0}\n",
       ".list-inline>li {display: inline-block}\n",
       ".list-inline>li:not(:last-child)::after {content: \"\\00b7\"; padding: 0 .5ex}\n",
       "</style>\n",
       "<ol class=list-inline><li>2.89637135884228</li><li>2.90208843497215</li></ol>\n"
      ],
      "text/latex": [
       "\\begin{enumerate*}\n",
       "\\item 2.89637135884228\n",
       "\\item 2.90208843497215\n",
       "\\end{enumerate*}\n"
      ],
      "text/markdown": [
       "1. 2.89637135884228\n",
       "2. 2.90208843497215\n",
       "\n",
       "\n"
      ],
      "text/plain": [
       "[1] 2.896371 2.902088"
      ]
     },
     "metadata": {},
     "output_type": "display_data"
    }
   ],
   "source": [
    "# construct the CI for the above sampling distribution of sample means\n",
    "meanOfMeans <- mean(means)\n",
    "semOfMeans <- sd(means)/sqrt(bootReps)\n",
    "ciOfMeans <- c(meanOfMeans-qt(0.975,bootReps-1)*semOfMeans, meanOfMeans+qt(0.975,bootReps-1)*semOfMeans)\n",
    "ciOfMeans"
   ]
  },
  {
   "cell_type": "markdown",
   "metadata": {},
   "source": [
    "Notice how the sampling distribution in the histogram approximates a normal distribution even though the underlying data distribution is not. This approximation occurs thanks to the central limit theorem. As the sample size increases, the sampling distribution converges on a normal distribution regardless of the underlying data distribution (with a few exceptions).\n",
    "\n",
    "We can compare our original sample mean to the context of our simulated sample distribution."
   ]
  },
  {
   "cell_type": "markdown",
   "metadata": {},
   "source": [
    "#### Using `boot()`:\n",
    "\n",
    "`boot()` calls the statistic function R times. Each time, it generates a set of random indices, with replacement, from the integers `1:nrow(data)`. These indices are used within the statistic function to select a sample. The statistics are calculated on the sample and the results are accumulated in the bootobject. \n",
    "\n",
    "**Note:** The function should include an indices parameter that the `boot()` function can use to select cases for each replication. Refer to example."
   ]
  },
  {
   "cell_type": "code",
   "execution_count": 18,
   "metadata": {},
   "outputs": [],
   "source": [
    "?boot"
   ]
  },
  {
   "cell_type": "code",
   "execution_count": 38,
   "metadata": {},
   "outputs": [],
   "source": [
    "# create the `statistic` function for the mean\n",
    "mean_fun <- function(data,index){\n",
    "  return(mean(data[index,]))\n",
    "}"
   ]
  },
  {
   "cell_type": "code",
   "execution_count": 39,
   "metadata": {},
   "outputs": [
    {
     "data": {
      "text/plain": [
       "\n",
       "ORDINARY NONPARAMETRIC BOOTSTRAP\n",
       "\n",
       "\n",
       "Call:\n",
       "boot(data = data, statistic = mean_fun, R = 30)\n",
       "\n",
       "\n",
       "Bootstrap Statistics :\n",
       "    original       bias    std. error\n",
       "t1*      2.9 -0.003402062  0.05684025"
      ]
     },
     "metadata": {},
     "output_type": "display_data"
    }
   ],
   "source": [
    "# run a bootstrap analysis for 30 replicates\n",
    "res <- boot(data = data, R=30, statistic = mean_fun)\n",
    "res"
   ]
  },
  {
   "cell_type": "code",
   "execution_count": 40,
   "metadata": {},
   "outputs": [
    {
     "data": {
      "text/html": [
       "<table class=\"dataframe\">\n",
       "<caption>A matrix: 30 × 1 of type dbl</caption>\n",
       "<tbody>\n",
       "\t<tr><td>2.877320</td></tr>\n",
       "\t<tr><td>2.984536</td></tr>\n",
       "\t<tr><td>2.915464</td></tr>\n",
       "\t<tr><td>2.929897</td></tr>\n",
       "\t<tr><td>2.934021</td></tr>\n",
       "\t<tr><td>2.895876</td></tr>\n",
       "\t<tr><td>2.851546</td></tr>\n",
       "\t<tr><td>2.731959</td></tr>\n",
       "\t<tr><td>2.934021</td></tr>\n",
       "\t<tr><td>2.955670</td></tr>\n",
       "\t<tr><td>2.841237</td></tr>\n",
       "\t<tr><td>2.894845</td></tr>\n",
       "\t<tr><td>2.920619</td></tr>\n",
       "\t<tr><td>2.956701</td></tr>\n",
       "\t<tr><td>2.983505</td></tr>\n",
       "\t<tr><td>2.816495</td></tr>\n",
       "\t<tr><td>2.806186</td></tr>\n",
       "\t<tr><td>2.956701</td></tr>\n",
       "\t<tr><td>2.960825</td></tr>\n",
       "\t<tr><td>2.925773</td></tr>\n",
       "\t<tr><td>2.865979</td></tr>\n",
       "\t<tr><td>2.917526</td></tr>\n",
       "\t<tr><td>2.855670</td></tr>\n",
       "\t<tr><td>2.938144</td></tr>\n",
       "\t<tr><td>2.849485</td></tr>\n",
       "\t<tr><td>2.859794</td></tr>\n",
       "\t<tr><td>2.868041</td></tr>\n",
       "\t<tr><td>2.885567</td></tr>\n",
       "\t<tr><td>2.865979</td></tr>\n",
       "\t<tr><td>2.918557</td></tr>\n",
       "</tbody>\n",
       "</table>\n"
      ],
      "text/latex": [
       "A matrix: 30 × 1 of type dbl\n",
       "\\begin{tabular}{l}\n",
       "\t 2.877320\\\\\n",
       "\t 2.984536\\\\\n",
       "\t 2.915464\\\\\n",
       "\t 2.929897\\\\\n",
       "\t 2.934021\\\\\n",
       "\t 2.895876\\\\\n",
       "\t 2.851546\\\\\n",
       "\t 2.731959\\\\\n",
       "\t 2.934021\\\\\n",
       "\t 2.955670\\\\\n",
       "\t 2.841237\\\\\n",
       "\t 2.894845\\\\\n",
       "\t 2.920619\\\\\n",
       "\t 2.956701\\\\\n",
       "\t 2.983505\\\\\n",
       "\t 2.816495\\\\\n",
       "\t 2.806186\\\\\n",
       "\t 2.956701\\\\\n",
       "\t 2.960825\\\\\n",
       "\t 2.925773\\\\\n",
       "\t 2.865979\\\\\n",
       "\t 2.917526\\\\\n",
       "\t 2.855670\\\\\n",
       "\t 2.938144\\\\\n",
       "\t 2.849485\\\\\n",
       "\t 2.859794\\\\\n",
       "\t 2.868041\\\\\n",
       "\t 2.885567\\\\\n",
       "\t 2.865979\\\\\n",
       "\t 2.918557\\\\\n",
       "\\end{tabular}\n"
      ],
      "text/markdown": [
       "\n",
       "A matrix: 30 × 1 of type dbl\n",
       "\n",
       "| 2.877320 |\n",
       "| 2.984536 |\n",
       "| 2.915464 |\n",
       "| 2.929897 |\n",
       "| 2.934021 |\n",
       "| 2.895876 |\n",
       "| 2.851546 |\n",
       "| 2.731959 |\n",
       "| 2.934021 |\n",
       "| 2.955670 |\n",
       "| 2.841237 |\n",
       "| 2.894845 |\n",
       "| 2.920619 |\n",
       "| 2.956701 |\n",
       "| 2.983505 |\n",
       "| 2.816495 |\n",
       "| 2.806186 |\n",
       "| 2.956701 |\n",
       "| 2.960825 |\n",
       "| 2.925773 |\n",
       "| 2.865979 |\n",
       "| 2.917526 |\n",
       "| 2.855670 |\n",
       "| 2.938144 |\n",
       "| 2.849485 |\n",
       "| 2.859794 |\n",
       "| 2.868041 |\n",
       "| 2.885567 |\n",
       "| 2.865979 |\n",
       "| 2.918557 |\n",
       "\n"
      ],
      "text/plain": [
       "      [,1]    \n",
       " [1,] 2.877320\n",
       " [2,] 2.984536\n",
       " [3,] 2.915464\n",
       " [4,] 2.929897\n",
       " [5,] 2.934021\n",
       " [6,] 2.895876\n",
       " [7,] 2.851546\n",
       " [8,] 2.731959\n",
       " [9,] 2.934021\n",
       "[10,] 2.955670\n",
       "[11,] 2.841237\n",
       "[12,] 2.894845\n",
       "[13,] 2.920619\n",
       "[14,] 2.956701\n",
       "[15,] 2.983505\n",
       "[16,] 2.816495\n",
       "[17,] 2.806186\n",
       "[18,] 2.956701\n",
       "[19,] 2.960825\n",
       "[20,] 2.925773\n",
       "[21,] 2.865979\n",
       "[22,] 2.917526\n",
       "[23,] 2.855670\n",
       "[24,] 2.938144\n",
       "[25,] 2.849485\n",
       "[26,] 2.859794\n",
       "[27,] 2.868041\n",
       "[28,] 2.885567\n",
       "[29,] 2.865979\n",
       "[30,] 2.918557"
      ]
     },
     "metadata": {},
     "output_type": "display_data"
    }
   ],
   "source": [
    "res$t"
   ]
  },
  {
   "cell_type": "code",
   "execution_count": 41,
   "metadata": {},
   "outputs": [
    {
     "data": {
      "image/png": "[encoded data removed]",
      "text/plain": [
       "Plot with title “Histogram of t”"
      ]
     },
     "metadata": {
      "image/png": {
       "height": 420,
       "width": 420
      }
     },
     "output_type": "display_data"
    }
   ],
   "source": [
    "plot(res)"
   ]
  },
  {
   "cell_type": "code",
   "execution_count": 42,
   "metadata": {},
   "outputs": [
    {
     "data": {
      "text/plain": [
       "BOOTSTRAP CONFIDENCE INTERVAL CALCULATIONS\n",
       "Based on 30 bootstrap replicates\n",
       "\n",
       "CALL : \n",
       "boot.ci(boot.out = res, conf = 0.95, type = \"norm\")\n",
       "\n",
       "Intervals : \n",
       "Level      Normal        \n",
       "95%   ( 2.792,  3.015 )  \n",
       "Calculations and Intervals on Original Scale"
      ]
     },
     "metadata": {},
     "output_type": "display_data"
    }
   ],
   "source": [
    "boot.ci(res, conf = 0.95, type = \"norm\")"
   ]
  },
  {
   "cell_type": "code",
   "execution_count": 43,
   "metadata": {},
   "outputs": [
    {
     "data": {
      "text/plain": [
       "\n",
       "ORDINARY NONPARAMETRIC BOOTSTRAP\n",
       "\n",
       "\n",
       "Call:\n",
       "boot(data = data, statistic = mean_fun, R = 100)\n",
       "\n",
       "\n",
       "Bootstrap Statistics :\n",
       "    original       bias    std. error\n",
       "t1*      2.9 -0.000814433  0.04467842"
      ]
     },
     "metadata": {},
     "output_type": "display_data"
    }
   ],
   "source": [
    "# run a bootstrap analysis for 100 replicates\n",
    "res <- boot(data = data, R=100, statistic = mean_fun)\n",
    "res"
   ]
  },
  {
   "cell_type": "code",
   "execution_count": 44,
   "metadata": {},
   "outputs": [
    {
     "data": {
      "image/png": "[encoded data removed]",
      "text/plain": [
       "Plot with title “Histogram of t”"
      ]
     },
     "metadata": {
      "image/png": {
       "height": 420,
       "width": 420
      }
     },
     "output_type": "display_data"
    }
   ],
   "source": [
    "plot(res)"
   ]
  },
  {
   "cell_type": "code",
   "execution_count": 45,
   "metadata": {},
   "outputs": [
    {
     "data": {
      "text/plain": [
       "BOOTSTRAP CONFIDENCE INTERVAL CALCULATIONS\n",
       "Based on 100 bootstrap replicates\n",
       "\n",
       "CALL : \n",
       "boot.ci(boot.out = res, conf = 0.95, type = \"norm\")\n",
       "\n",
       "Intervals : \n",
       "Level      Normal        \n",
       "95%   ( 2.813,  2.988 )  \n",
       "Calculations and Intervals on Original Scale"
      ]
     },
     "metadata": {},
     "output_type": "display_data"
    }
   ],
   "source": [
    "boot.ci(res, conf = 0.95, type = \"norm\")"
   ]
  },
  {
   "cell_type": "code",
   "execution_count": 46,
   "metadata": {},
   "outputs": [
    {
     "data": {
      "text/plain": [
       "\n",
       "ORDINARY NONPARAMETRIC BOOTSTRAP\n",
       "\n",
       "\n",
       "Call:\n",
       "boot(data = data, statistic = mean_fun, R = 1000)\n",
       "\n",
       "\n",
       "Bootstrap Statistics :\n",
       "    original        bias    std. error\n",
       "t1*      2.9 -4.123711e-05  0.04712429"
      ]
     },
     "metadata": {},
     "output_type": "display_data"
    }
   ],
   "source": [
    "# run a bootstrap analysis for 1000 replicates\n",
    "res <- boot(data = data, R=1000, statistic = mean_fun)\n",
    "res"
   ]
  },
  {
   "cell_type": "code",
   "execution_count": 47,
   "metadata": {},
   "outputs": [
    {
     "data": {
      "image/png": "[encoded data removed]",
      "text/plain": [
       "Plot with title “Histogram of t”"
      ]
     },
     "metadata": {
      "image/png": {
       "height": 420,
       "width": 420
      }
     },
     "output_type": "display_data"
    }
   ],
   "source": [
    "plot(res)"
   ]
  },
  {
   "cell_type": "code",
   "execution_count": 48,
   "metadata": {},
   "outputs": [
    {
     "data": {
      "text/plain": [
       "BOOTSTRAP CONFIDENCE INTERVAL CALCULATIONS\n",
       "Based on 1000 bootstrap replicates\n",
       "\n",
       "CALL : \n",
       "boot.ci(boot.out = res, conf = 0.95, type = \"norm\")\n",
       "\n",
       "Intervals : \n",
       "Level      Normal        \n",
       "95%   ( 2.808,  2.992 )  \n",
       "Calculations and Intervals on Original Scale"
      ]
     },
     "metadata": {},
     "output_type": "display_data"
    }
   ],
   "source": [
    "boot.ci(res, conf = 0.95, type = \"norm\")"
   ]
  },
  {
   "cell_type": "code",
   "execution_count": 50,
   "metadata": {},
   "outputs": [
    {
     "data": {
      "text/html": [
       "<style>\n",
       ".list-inline {list-style: none; margin:0; padding: 0}\n",
       ".list-inline>li {display: inline-block}\n",
       ".list-inline>li:not(:last-child)::after {content: \"\\00b7\"; padding: 0 .5ex}\n",
       "</style>\n",
       "<ol class=list-inline><li>2.89703447957562</li><li>2.90288304619758</li></ol>\n"
      ],
      "text/latex": [
       "\\begin{enumerate*}\n",
       "\\item 2.89703447957562\n",
       "\\item 2.90288304619758\n",
       "\\end{enumerate*}\n"
      ],
      "text/markdown": [
       "1. 2.89703447957562\n",
       "2. 2.90288304619758\n",
       "\n",
       "\n"
      ],
      "text/plain": [
       "[1] 2.897034 2.902883"
      ]
     },
     "metadata": {},
     "output_type": "display_data"
    }
   ],
   "source": [
    "mean <- mean(res$t)\n",
    "sem <- sd(res$t)/sqrt(1000)\n",
    "ci <- c(mean - qt(0.975, 999)*sem, mean + qt(0.975, 999)*sem)\n",
    "ci"
   ]
  },
  {
   "cell_type": "code",
   "execution_count": 55,
   "metadata": {},
   "outputs": [
    {
     "data": {
      "text/plain": [
       "\n",
       "\tWelch Two Sample t-test\n",
       "\n",
       "data:  Bwt by Sex\n",
       "t = -8.7095, df = 136.84, p-value = 8.831e-15\n",
       "alternative hypothesis: true difference in means is not equal to 0\n",
       "95 percent confidence interval:\n",
       " -0.6631268 -0.4177242\n",
       "sample estimates:\n",
       "mean in group F mean in group M \n",
       "       2.359574        2.900000 \n"
      ]
     },
     "metadata": {},
     "output_type": "display_data"
    }
   ],
   "source": [
    "# is there a statistically significant difference in weights between male and female cats?\n",
    "library(MASS)\n",
    "t.test(Bwt ~ Sex, data = cats)"
   ]
  }
 ],
 "metadata": {
  "kernelspec": {
   "display_name": "R",
   "language": "R",
   "name": "ir"
  },
  "language_info": {
   "codemirror_mode": "r",
   "file_extension": ".r",
   "mimetype": "text/x-r-source",
   "name": "R",
   "pygments_lexer": "r",
   "version": "4.0.4"
  }
 },
 "nbformat": 4,
 "nbformat_minor": 4
}
