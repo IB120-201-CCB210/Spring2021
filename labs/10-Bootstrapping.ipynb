{
 "cells": [
  {
   "cell_type": "code",
   "execution_count": null,
   "metadata": {},
   "outputs": [],
   "source": [
    "library(boot)\n",
    "library(stats)"
   ]
  },
  {
   "cell_type": "markdown",
   "metadata": {},
   "source": [
    "## Confidence Intervals"
   ]
  },
  {
   "cell_type": "markdown",
   "metadata": {},
   "source": [
    "You take a random sample of size n and calculate the sample mean. We use this sample mean as an *estimator* for the true population mean, also known as a \"point estimate\". A point estimate by itself is of limited usefulness because it does not reveal the uncertainty associated with the estimate or sampling method. Confidence intervals supply us with more information about the estimate by giving us an *interval*, with an associated *level of confidence*, that likely would contain the true population mean.  \n"
   ]
  },
  {
   "cell_type": "markdown",
   "metadata": {},
   "source": [
    "* A confidence interval (CI) is an interval of values instead of a single point estimate.\n",
    "* The level of confidence corresponds to the expected proportion of intervals that will contain the parameter if many confidence intervals are constructed of the same sample size from the same population. Another way of saying this is: \n",
    "    * 90% of confidence intervals computed at the 90% confidence level contain the true parameter\n",
    "    * 95% of confidence intervals computed at the 95% confidence level contain the parameter\n",
    "    * etc...\n",
    "* Our uncertainty is about whether our particular CI is one of those that truly contains the true value of the parameter.\n",
    "* Constructing confidence intervals requires knowledge about the sample distribution - sample mean and either population SD or sample SD. \n",
    "* Calculating CIs, theoretically, does not require that the population follow a normal distribution, however the math for such situations can get tricky. For this reason, if we know the population doesn't follow a normal, or we're just unsure, we can instead calculate an asymptotical CI on the *sample distribution for the sample mean* (according to the Central Limit Theorem, the sampling distribution for the sample mean approaches normal).  \n"
   ]
  },
  {
   "cell_type": "markdown",
   "metadata": {},
   "source": [
    "General form:\n",
    "\n",
    "sample statistic $\\pm$ margin of error\n",
    "\n",
    "margin of error $=$ multiplier(standard error)"
   ]
  },
  {
   "cell_type": "markdown",
   "metadata": {},
   "source": [
    "From Lab 8, we learned standard error $= \\frac{\\hat\\sigma}{\\sqrt n}$. The multiplier is calculated using t-statistics from a t-distribution. (There's a lot of theory behind this, but in short - this distribution applies when a test statistic we're interested in would follow a normal distribution *if* the value of a scaling term in the test statistic were known. When it's unknown, the scaling term is replaced by an estimate based on the data (the SEM).) Other statistical methods can be used to calculate the multiplier, but the t-distribution is widely used for when we don't know the true population standar deviation (which we rarely do). "
   ]
  },
  {
   "cell_type": "markdown",
   "metadata": {},
   "source": [
    "### Example \n",
    "When the population follows a normal"
   ]
  },
  {
   "cell_type": "code",
   "execution_count": 52,
   "metadata": {},
   "outputs": [
    {
     "data": {
      "text/html": [
       "<style>\n",
       ".list-inline {list-style: none; margin:0; padding: 0}\n",
       ".list-inline>li {display: inline-block}\n",
       ".list-inline>li:not(:last-child)::after {content: \"\\00b7\"; padding: 0 .5ex}\n",
       "</style>\n",
       "<ol class=list-inline><li>1.19994295245041</li><li>1.62789122816833</li><li>-0.053729779206228</li><li>-0.199737602030516</li><li>2.91284458877778</li><li>0.0678671173728141</li><li>2.25082651173254</li><li>-0.606348615385324</li><li>-0.426363670045986</li><li>0.563923377619113</li><li>-0.0306955781553353</li><li>1.40294120942772</li><li>-0.714383354333474</li><li>-0.719914172208699</li><li>-0.263156934648015</li><li>0.264912531213855</li><li>-0.519132613071265</li><li>1.7831736644369</li><li>-0.347611836755003</li><li>1.55670113946992</li><li>0.27855160378943</li><li>0.540783103628498</li><li>1.4262795747347</li><li>1.11807464058131</li><li>0.338972631646402</li><li>-0.283651104320561</li><li>-1.04713251003464</li><li>-0.219908983458768</li><li>2.32570335563513</li><li>0.724119096746694</li><li>-1.56208796901129</li><li>-1.31598044448345</li><li>-0.049889232135167</li><li>1.12772718371062</li><li>1.50359510449999</li><li>-1.05621600300874</li><li>0.204753191669696</li><li>0.205326084706773</li><li>0.265903216651543</li><li>-1.85672748607047</li><li>-0.316332182237839</li><li>-1.73342293370319</li><li>0.757675472771955</li><li>0.35208737152393</li><li>-0.133419416376464</li><li>-1.89286577010518</li><li>0.194840836723372</li><li>-0.820369011882524</li><li>0.0598855186788393</li><li>-1.28057475882686</li></ol>\n"
      ],
      "text/latex": [
       "\\begin{enumerate*}\n",
       "\\item 1.19994295245041\n",
       "\\item 1.62789122816833\n",
       "\\item -0.053729779206228\n",
       "\\item -0.199737602030516\n",
       "\\item 2.91284458877778\n",
       "\\item 0.0678671173728141\n",
       "\\item 2.25082651173254\n",
       "\\item -0.606348615385324\n",
       "\\item -0.426363670045986\n",
       "\\item 0.563923377619113\n",
       "\\item -0.0306955781553353\n",
       "\\item 1.40294120942772\n",
       "\\item -0.714383354333474\n",
       "\\item -0.719914172208699\n",
       "\\item -0.263156934648015\n",
       "\\item 0.264912531213855\n",
       "\\item -0.519132613071265\n",
       "\\item 1.7831736644369\n",
       "\\item -0.347611836755003\n",
       "\\item 1.55670113946992\n",
       "\\item 0.27855160378943\n",
       "\\item 0.540783103628498\n",
       "\\item 1.4262795747347\n",
       "\\item 1.11807464058131\n",
       "\\item 0.338972631646402\n",
       "\\item -0.283651104320561\n",
       "\\item -1.04713251003464\n",
       "\\item -0.219908983458768\n",
       "\\item 2.32570335563513\n",
       "\\item 0.724119096746694\n",
       "\\item -1.56208796901129\n",
       "\\item -1.31598044448345\n",
       "\\item -0.049889232135167\n",
       "\\item 1.12772718371062\n",
       "\\item 1.50359510449999\n",
       "\\item -1.05621600300874\n",
       "\\item 0.204753191669696\n",
       "\\item 0.205326084706773\n",
       "\\item 0.265903216651543\n",
       "\\item -1.85672748607047\n",
       "\\item -0.316332182237839\n",
       "\\item -1.73342293370319\n",
       "\\item 0.757675472771955\n",
       "\\item 0.35208737152393\n",
       "\\item -0.133419416376464\n",
       "\\item -1.89286577010518\n",
       "\\item 0.194840836723372\n",
       "\\item -0.820369011882524\n",
       "\\item 0.0598855186788393\n",
       "\\item -1.28057475882686\n",
       "\\end{enumerate*}\n"
      ],
      "text/markdown": [
       "1. 1.19994295245041\n",
       "2. 1.62789122816833\n",
       "3. -0.053729779206228\n",
       "4. -0.199737602030516\n",
       "5. 2.91284458877778\n",
       "6. 0.0678671173728141\n",
       "7. 2.25082651173254\n",
       "8. -0.606348615385324\n",
       "9. -0.426363670045986\n",
       "10. 0.563923377619113\n",
       "11. -0.0306955781553353\n",
       "12. 1.40294120942772\n",
       "13. -0.714383354333474\n",
       "14. -0.719914172208699\n",
       "15. -0.263156934648015\n",
       "16. 0.264912531213855\n",
       "17. -0.519132613071265\n",
       "18. 1.7831736644369\n",
       "19. -0.347611836755003\n",
       "20. 1.55670113946992\n",
       "21. 0.27855160378943\n",
       "22. 0.540783103628498\n",
       "23. 1.4262795747347\n",
       "24. 1.11807464058131\n",
       "25. 0.338972631646402\n",
       "26. -0.283651104320561\n",
       "27. -1.04713251003464\n",
       "28. -0.219908983458768\n",
       "29. 2.32570335563513\n",
       "30. 0.724119096746694\n",
       "31. -1.56208796901129\n",
       "32. -1.31598044448345\n",
       "33. -0.049889232135167\n",
       "34. 1.12772718371062\n",
       "35. 1.50359510449999\n",
       "36. -1.05621600300874\n",
       "37. 0.204753191669696\n",
       "38. 0.205326084706773\n",
       "39. 0.265903216651543\n",
       "40. -1.85672748607047\n",
       "41. -0.316332182237839\n",
       "42. -1.73342293370319\n",
       "43. 0.757675472771955\n",
       "44. 0.35208737152393\n",
       "45. -0.133419416376464\n",
       "46. -1.89286577010518\n",
       "47. 0.194840836723372\n",
       "48. -0.820369011882524\n",
       "49. 0.0598855186788393\n",
       "50. -1.28057475882686\n",
       "\n",
       "\n"
      ],
      "text/plain": [
       " [1]  1.19994295  1.62789123 -0.05372978 -0.19973760  2.91284459  0.06786712\n",
       " [7]  2.25082651 -0.60634862 -0.42636367  0.56392338 -0.03069558  1.40294121\n",
       "[13] -0.71438335 -0.71991417 -0.26315693  0.26491253 -0.51913261  1.78317366\n",
       "[19] -0.34761184  1.55670114  0.27855160  0.54078310  1.42627957  1.11807464\n",
       "[25]  0.33897263 -0.28365110 -1.04713251 -0.21990898  2.32570336  0.72411910\n",
       "[31] -1.56208797 -1.31598044 -0.04988923  1.12772718  1.50359510 -1.05621600\n",
       "[37]  0.20475319  0.20532608  0.26590322 -1.85672749 -0.31633218 -1.73342293\n",
       "[43]  0.75767547  0.35208737 -0.13341942 -1.89286577  0.19484084 -0.82036901\n",
       "[49]  0.05988552 -1.28057476"
      ]
     },
     "metadata": {},
     "output_type": "display_data"
    }
   ],
   "source": [
    "# draw a random sample from the normal distribution\n",
    "n <- 50\n",
    "x <- rnorm(n, 0, 1) \n",
    "x"
   ]
  },
  {
   "cell_type": "code",
   "execution_count": null,
   "metadata": {},
   "outputs": [],
   "source": [
    "# histogram of the sample\n",
    "hist(x)"
   ]
  },
  {
   "cell_type": "code",
   "execution_count": null,
   "metadata": {},
   "outputs": [],
   "source": [
    "# sample mean\n",
    "mean <- mean(x)\n",
    "mean"
   ]
  },
  {
   "cell_type": "markdown",
   "metadata": {},
   "source": [
    "**Question - Is there evidence that our true population mean is different from our sample mean?**"
   ]
  },
  {
   "cell_type": "code",
   "execution_count": null,
   "metadata": {},
   "outputs": [],
   "source": [
    "# standard error of the mean\n",
    "sem <- sd(x)/sqrt(n)\n",
    "sem"
   ]
  },
  {
   "cell_type": "code",
   "execution_count": null,
   "metadata": {},
   "outputs": [],
   "source": [
    "# confidence interval with a confidence level of 95%\n",
    "ci <- c(mean-qt(0.975, n-1)*sem, mean+qt(0.975, n-1)*sem)\n",
    "ci"
   ]
  },
  {
   "cell_type": "markdown",
   "metadata": {},
   "source": [
    "How do we interpret this? \n",
    "\n",
    "We are 95% confident that the true mean is within the above CI. Because the interval is centered around our sample mean, the answer to the above question is **no, there is no evidence that our true population mean is different from our sample mean**. \n",
    "\n",
    "---"
   ]
  },
  {
   "cell_type": "markdown",
   "metadata": {},
   "source": [
    "**Hypothesis Testing**"
   ]
  },
  {
   "cell_type": "code",
   "execution_count": 53,
   "metadata": {},
   "outputs": [
    {
     "data": {
      "text/plain": [
       "\n",
       "\tOne Sample t-test\n",
       "\n",
       "data:  x\n",
       "t = 0.97495, df = 49, p-value = 0.3344\n",
       "alternative hypothesis: true mean is not equal to 0\n",
       "95 percent confidence interval:\n",
       " -0.1614248  0.4656508\n",
       "sample estimates:\n",
       "mean of x \n",
       " 0.152113 \n"
      ]
     },
     "metadata": {},
     "output_type": "display_data"
    }
   ],
   "source": [
    "# one-sample t-test\n",
    "t.test(x)"
   ]
  },
  {
   "cell_type": "markdown",
   "metadata": {},
   "source": [
    "We learned about one-sample t-tests in lecture, which determined whether our population mean was different from a particular value. We can also conduct two-sample t-tests to determine if there is a significant difference between the population means of two groups. Unlike the one-sample t-test, where the t-statistic is calculated using the difference between the sample mean and the value, divided by the standard error ($t = \\frac{difference}{standard error}$), the t-statistic for a two-sample t-test is $t = \\frac{difference of group averages}{standard error of difference}$. We then compare this t-statistic to a t-value, which depends on our chosen significance value and degrees of freedom. "
   ]
  },
  {
   "cell_type": "code",
   "execution_count": null,
   "metadata": {},
   "outputs": [],
   "source": [
    "# two-sample t-test\n",
    "# draw a random sample from the normal distribution\n",
    "n <- 50\n",
    "y <- rnorm(n, 0, 1) \n",
    "print(mean(y))\n",
    "t.test(x, y)\n"
   ]
  },
  {
   "cell_type": "markdown",
   "metadata": {},
   "source": [
    "---\n",
    "As mentioned, if the population doesn't follow a normal distribution, or we're unsure, we can construct a CI on the sampling distribution of the sample mean. However, collecting multiple samples, from which we can calculate sample means, is not always feasible. This is where bootstrapping comes in handy."
   ]
  },
  {
   "cell_type": "code",
   "execution_count": null,
   "metadata": {},
   "outputs": [],
   "source": []
  },
  {
   "cell_type": "markdown",
   "metadata": {},
   "source": [
    "## Bootstrapping"
   ]
  },
  {
   "cell_type": "markdown",
   "metadata": {},
   "source": [
    "How it works:\n",
    "\n",
    "Bootstrapping resamples the original dataset with replacement many thousands of times to create simulated datasets. This process involves drawing random samples from the original dataset. Breaking it down:\n",
    "\n",
    "* The bootstrap method has an equal probability of randomly drawing each original data point for inclusion in the resampled datasets.\n",
    "* The procedure can select a data point more than once for a resampled dataset. This property is the “with replacement” aspect of the process.\n",
    "* The procedure creates resampled datasets that are the same size as the original dataset.\n",
    "\n",
    "The process ends with your simulated datasets having many different combinations of the values that exist in the original dataset. Each simulated dataset has its own set of sample statistics, such as the mean. Bootstrapping procedures use the distribution of the sample statistics across the simulated samples as the sampling distribution.\n",
    "\n",
    "Keep in mind that bootstrapping does not create new data. Instead, it treats the original sample as a proxy for the real population and then draws random samples from it. Consequently, the central assumption for bootstrapping is that the original sample accurately represents the actual population. The resampling process creates many possible samples that a study could have drawn. The various combinations of values in the simulated samples collectively provide an estimate of the variability between random samples drawn from the same population. The range of these potential samples allows the procedure to construct confidence intervals and perform hypothesis testing. Importantly, as the sample size increases, bootstrapping converges on the correct sampling distribution under most conditions."
   ]
  },
  {
   "cell_type": "markdown",
   "metadata": {},
   "source": [
    "### Example \n",
    "When the population doesn't follow a normal (or we're uncertain)."
   ]
  },
  {
   "cell_type": "markdown",
   "metadata": {},
   "source": [
    "#### Manual bootstrapping:"
   ]
  },
  {
   "cell_type": "code",
   "execution_count": null,
   "metadata": {},
   "outputs": [],
   "source": [
    "# sample data for duck plumage - each row represents a male duck who is a second generation cross of \n",
    "# mallard and pintail ducks. Plumage indices were calculates for each duck - ranged from 0 (identical in appearance\n",
    "# to a mallard) to 20 (identical to a pintail). \n",
    "\n",
    "data <- data.frame(weight = c(catsM$Bwt))\n",
    "n <- length(data$weight)\n",
    "data"
   ]
  },
  {
   "cell_type": "code",
   "execution_count": null,
   "metadata": {},
   "outputs": [],
   "source": [
    "# histogram of duck plumage indices\n",
    "hist(data$weight, breaks=10)"
   ]
  },
  {
   "cell_type": "code",
   "execution_count": null,
   "metadata": {},
   "outputs": [],
   "source": [
    "# mean of duck plumage indices\n",
    "mean <- mean(data$weight)\n",
    "mean"
   ]
  },
  {
   "cell_type": "code",
   "execution_count": null,
   "metadata": {},
   "outputs": [],
   "source": [
    "# create 30 bootstrap samples and calculate their sample means\n",
    "bootReps <- 30\n",
    "means <- c()\n",
    "for(i in 1:bootReps){\n",
    "    sample <- sample(data$weight, size = n, replace = T)\n",
    "    means <- append(means, mean(sample))\n",
    "}\n",
    "hist(means)"
   ]
  },
  {
   "cell_type": "code",
   "execution_count": null,
   "metadata": {},
   "outputs": [],
   "source": [
    "# construct the CI for the above sampling distribution of sample means\n",
    "meanOfMeans <- mean(means)\n",
    "semOfMeans <- sd(means)/sqrt(bootReps)\n",
    "ciOfMeans <- c(meanOfMeans-qt(0.975,bootReps-1)*semOfMeans, meanOfMeans+qt(0.975,bootReps-1)*semOfMeans)\n",
    "ciOfMeans"
   ]
  },
  {
   "cell_type": "code",
   "execution_count": null,
   "metadata": {},
   "outputs": [],
   "source": [
    "# create 100 bootstrap samples and calculate their sample means\n",
    "bootReps <- 100\n",
    "means <- c()\n",
    "for(i in 1:bootReps){\n",
    "    sample <- sample(data$weight, size = n, replace = T)\n",
    "    means <- append(means, mean(sample))\n",
    "}\n",
    "hist(means)"
   ]
  },
  {
   "cell_type": "code",
   "execution_count": null,
   "metadata": {},
   "outputs": [],
   "source": [
    "# construct the CI for the above sampling distribution of sample means\n",
    "meanOfMeans <- mean(means)\n",
    "semOfMeans <- sd(means)/sqrt(bootReps)\n",
    "ciOfMeans <- c(meanOfMeans-qt(0.975,bootReps-1)*semOfMeans, meanOfMeans+qt(0.975,bootReps-1)*semOfMeans)\n",
    "ciOfMeans"
   ]
  },
  {
   "cell_type": "code",
   "execution_count": null,
   "metadata": {},
   "outputs": [],
   "source": [
    "# create 1000 bootstrap samples and calculate their sample means\n",
    "bootReps <- 1000\n",
    "means <- c()\n",
    "for(i in 1:bootReps){\n",
    "    sample <- sample(data$weight, size = n, replace = T)\n",
    "    means <- append(means, mean(sample))\n",
    "}\n",
    "hist(means)"
   ]
  },
  {
   "cell_type": "code",
   "execution_count": null,
   "metadata": {},
   "outputs": [],
   "source": [
    "# construct the CI for the above sampling distribution of sample means\n",
    "meanOfMeans <- mean(means)\n",
    "semOfMeans <- sd(means)/sqrt(bootReps)\n",
    "ciOfMeans <- c(meanOfMeans-qt(0.975,bootReps-1)*semOfMeans, meanOfMeans+qt(0.975,bootReps-1)*semOfMeans)\n",
    "ciOfMeans"
   ]
  },
  {
   "cell_type": "markdown",
   "metadata": {},
   "source": [
    "Notice how the sampling distribution in the histogram approximates a normal distribution even though the underlying data distribution is not. This approximation occurs thanks to the central limit theorem. As the sample size increases, the sampling distribution converges on a normal distribution regardless of the underlying data distribution (with a few exceptions).\n",
    "\n",
    "We can compare our original sample mean to the context of our simulated sample distribution."
   ]
  },
  {
   "cell_type": "markdown",
   "metadata": {},
   "source": [
    "#### Using `boot()`:\n",
    "\n",
    "`boot()` calls the statistic function R times. Each time, it generates a set of random indices, with replacement, from the integers `1:nrow(data)`. These indices are used within the statistic function to select a sample. The statistics are calculated on the sample and the results are accumulated in the bootobject. \n",
    "\n",
    "**Note:** The function should include an indices parameter that the `boot()` function can use to select cases for each replication. Refer to example."
   ]
  },
  {
   "cell_type": "code",
   "execution_count": null,
   "metadata": {},
   "outputs": [],
   "source": [
    "?boot"
   ]
  },
  {
   "cell_type": "code",
   "execution_count": null,
   "metadata": {},
   "outputs": [],
   "source": [
    "# create the `statistic` function for the mean\n",
    "mean_fun <- function(data,index){\n",
    "  return(mean(data[index,]))\n",
    "}"
   ]
  },
  {
   "cell_type": "code",
   "execution_count": null,
   "metadata": {},
   "outputs": [],
   "source": [
    "# run a bootstrap analysis for 30 replicates\n",
    "res <- boot(data = data, R=30, statistic = mean_fun)\n",
    "res"
   ]
  },
  {
   "cell_type": "code",
   "execution_count": null,
   "metadata": {},
   "outputs": [],
   "source": [
    "res$t"
   ]
  },
  {
   "cell_type": "code",
   "execution_count": null,
   "metadata": {},
   "outputs": [],
   "source": [
    "plot(res)"
   ]
  },
  {
   "cell_type": "code",
   "execution_count": null,
   "metadata": {},
   "outputs": [],
   "source": [
    "boot.ci(res, conf = 0.95, type = \"norm\")"
   ]
  },
  {
   "cell_type": "code",
   "execution_count": null,
   "metadata": {},
   "outputs": [],
   "source": [
    "# run a bootstrap analysis for 100 replicates\n",
    "res <- boot(data = data, R=100, statistic = mean_fun)\n",
    "res"
   ]
  },
  {
   "cell_type": "code",
   "execution_count": null,
   "metadata": {},
   "outputs": [],
   "source": [
    "plot(res)"
   ]
  },
  {
   "cell_type": "code",
   "execution_count": null,
   "metadata": {},
   "outputs": [],
   "source": [
    "boot.ci(res, conf = 0.95, type = \"norm\")"
   ]
  },
  {
   "cell_type": "code",
   "execution_count": null,
   "metadata": {},
   "outputs": [],
   "source": [
    "# run a bootstrap analysis for 1000 replicates\n",
    "res <- boot(data = data, R=1000, statistic = mean_fun)\n",
    "res"
   ]
  },
  {
   "cell_type": "code",
   "execution_count": null,
   "metadata": {},
   "outputs": [],
   "source": [
    "plot(res)"
   ]
  },
  {
   "cell_type": "code",
   "execution_count": null,
   "metadata": {},
   "outputs": [],
   "source": [
    "boot.ci(res, conf = 0.95, type = \"norm\")"
   ]
  },
  {
   "cell_type": "code",
   "execution_count": null,
   "metadata": {},
   "outputs": [],
   "source": [
    "mean <- mean(res$t)\n",
    "sem <- sd(res$t)/sqrt(1000)\n",
    "ci <- c(mean - qt(0.975, 999)*sem, mean + qt(0.975, 999)*sem)\n",
    "ci"
   ]
  },
  {
   "cell_type": "markdown",
   "metadata": {},
   "source": [
    "**Question - Is there a statistically significant difference in weights between male and female cats?**"
   ]
  },
  {
   "cell_type": "code",
   "execution_count": 54,
   "metadata": {},
   "outputs": [
    {
     "data": {
      "text/plain": [
       "\n",
       "\tWelch Two Sample t-test\n",
       "\n",
       "data:  Bwt by Sex\n",
       "t = -8.7095, df = 136.84, p-value = 8.831e-15\n",
       "alternative hypothesis: true difference in means is not equal to 0\n",
       "95 percent confidence interval:\n",
       " -0.6631268 -0.4177242\n",
       "sample estimates:\n",
       "mean in group F mean in group M \n",
       "       2.359574        2.900000 \n"
      ]
     },
     "metadata": {},
     "output_type": "display_data"
    }
   ],
   "source": [
    "# is there a statistically significant difference in weights between male and female cats?\n",
    "library(MASS)\n",
    "t.test(Bwt ~ Sex, data = cats)"
   ]
  }
 ],
 "metadata": {
  "kernelspec": {
   "display_name": "R",
   "language": "R",
   "name": "ir"
  },
  "language_info": {
   "codemirror_mode": "r",
   "file_extension": ".r",
   "mimetype": "text/x-r-source",
   "name": "R",
   "pygments_lexer": "r",
   "version": "4.0.4"
  }
 },
 "nbformat": 4,
 "nbformat_minor": 4
}
