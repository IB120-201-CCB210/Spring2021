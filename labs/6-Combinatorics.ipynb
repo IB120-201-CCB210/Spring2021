{
 "cells": [
  {
   "cell_type": "markdown",
   "metadata": {},
   "source": [
    "## Conditional Probability"
   ]
  },
  {
   "cell_type": "markdown",
   "metadata": {},
   "source": [
    "### An example"
   ]
  },
  {
   "cell_type": "markdown",
   "metadata": {},
   "source": [
    "A researcher is interested in evaluating how well a diagnostic test works for detecting renal disease in patients with high blood pressure. She performs the diagnostic test on 137 patients — 67 with known renal disease and 70 who are known to be healthy. The diagnostic test comes back either positive (the patient has renal disease) or negative (the patient does not have renal disease). Here are the results of her experiment (these are called contingency tables):"
   ]
  },
  {
   "cell_type": "markdown",
   "metadata": {},
   "source": [
    "| Truth | Positive | Negative | Total | Percentage |\n",
    "| ----- | -------- | -------- | ----- | ---------- |\n",
    "| Renal Disease| 44 | 23 | 67 | 67/137 = P(D) = 0.489 |\n",
    "| Healthy |\t10 | 60 | 70 | 70/137 = P(H) = 0.511 |\n",
    "| Total | 54 | 83 | 137 | 137/137 = 1 |\n",
    "| Percentage | 54/137 = P(T+) = 0.394 | 83/137 = P(T-) = 0.606 | 137/137 = 1 |"
   ]
  },
  {
   "cell_type": "markdown",
   "metadata": {},
   "source": [
    "If we let  be the event that the person tests positive, we can use the relative frequency approach to assigning probability to determine that: $P(T+) = \\frac{54}{137}$, because, of the 137 patients, 54 tested positive. "
   ]
  },
  {
   "cell_type": "markdown",
   "metadata": {},
   "source": [
    "If we let  be the event that the person is truly diseased, we determine that: $P(D) = \\frac{67}{137}$, because, of the 137 patients, 67 are truly diseased."
   ]
  },
  {
   "cell_type": "markdown",
   "metadata": {},
   "source": [
    "Recall that these are called **marginal** probabilities. Marginal probabilities of a random variable sum to 1, because you're adding all possible outcomes of a random variable. You can think of the rows belonging to one random variable (\"truth\"), and the columns belonging to another (\"test results\"). So $P(H)+P(D) = 1$ and $P(T+)+P(T-) = 1$."
   ]
  },
  {
   "cell_type": "markdown",
   "metadata": {},
   "source": [
    "The question that the researcher is really interested in is this:\n",
    "\n",
    "<span style=\"color:red\">If a person has renal disease</span>, <span style=\"color:green\">what is the probability that he/she tests positive for the disease?</span>"
   ]
  },
  {
   "cell_type": "markdown",
   "metadata": {},
   "source": [
    "The <span style=\"color:red\">red</span> portion of the question is a \"conditional\", while the <span style=\"color:green\">green</span> portion is a \"probability\", hence \"conditional probability\"."
   ]
  },
  {
   "cell_type": "markdown",
   "metadata": {},
   "source": [
    "We can again use the relative frequency approach and the data the researcher collected to determine: $P(T+|D) = ?$\n",
    "\n",
    "The bar ( | ) is always read as \"given.\" The probability we are looking for precedes the bar, and the conditional follows the bar. \n",
    "\n",
    "Determining the conditional probability involves a two-step process. In the first step, we restrict the sample space to only those who are diseased. Then, in the second step, we determine the number of interest based on the new sample space.\n",
    "The trick is - start with the denominator - what **must** be true when given a conditional?"
   ]
  },
  {
   "cell_type": "markdown",
   "metadata": {},
   "source": [
    "Hopefully the above example helped you with understanding why we're interested in conditional probabilities. However, is there a way to calculate these conditional probabilities with less thinking?"
   ]
  },
  {
   "cell_type": "markdown",
   "metadata": {},
   "source": [
    "The conditional probability of an event A given that an event B has occurred is written: $P(A|B)$\n",
    "\n",
    "and is calculated using: $P(A|B) = \\frac{P(A \\bigcap B)}{P(B)}$, as long as $P(B) >0$."
   ]
  },
  {
   "cell_type": "markdown",
   "metadata": {},
   "source": [
    "Let's return to our diagnostic test for renal disease. Recall that the researcher collected the following data:\n",
    "\n",
    "| Truth | Positive | Negative | Total |\n",
    "| ----- | -------- | -------- | ----- |\n",
    "| Renal Disease| 44 | 23 | 67 |\n",
    "| Healthy |\t10 | 60 | 70 |\n",
    "| Total | 54 | 83 | 137 |"
   ]
  },
  {
   "cell_type": "markdown",
   "metadata": {},
   "source": [
    "When a researcher is developing a diagnostic test, the question they care about is the one we investigated previously, namely:\n",
    "\n",
    "\"If a person has renal disease, what is the probability of testing positive?\" This quantity is what we would call the **sensitivity** of a diagnostic test."
   ]
  },
  {
   "cell_type": "markdown",
   "metadata": {},
   "source": [
    "As patients, we are interested in knowing what is called the **positive predictive value** of a diagnostic test. That is, we are interested in this question:\n",
    "\n",
    "\"If I receive a positive test, what is the probability that I actually have the disease?\"\n",
    "\n",
    "We would hope, of course, that the probability is 1. But, only rarely is a diagnostic test perfect. The collected data suggest that the renal disease test is not perfect. How good is it? That is, what is the positive predictive value of the test?"
   ]
  },
  {
   "cell_type": "markdown",
   "metadata": {},
   "source": [
    "Let's use the formal mathematical definition of conditional probabilities to calculate the positive predictive value:\n",
    "\n",
    "$P(D|T+) = \\frac{P(D \\bigcap T+)}{P(T+)} = \\frac{ }{ }$"
   ]
  },
  {
   "cell_type": "markdown",
   "metadata": {},
   "source": [
    "---\n",
    "### Questions\n",
    "\n",
    "A box contains 6 white balls and 4 red balls. We randomly (and without replacement) draw two balls from the box. "
   ]
  },
  {
   "cell_type": "markdown",
   "metadata": {},
   "source": [
    "1. What is the probability that the second ball selected is red, given that the first ball selected is white?"
   ]
  },
  {
   "cell_type": "markdown",
   "metadata": {},
   "source": [
    "2. What is the probability that both balls selected are red?"
   ]
  },
  {
   "cell_type": "markdown",
   "metadata": {},
   "source": [
    "---\n",
    "### Multiplication Rule\n",
    "$P(A \\bigcap B) = P(B) \\times P(A|B)$ or\n",
    "\n",
    "$P(A \\bigcap B) = P(A) \\times P(B|A)$"
   ]
  },
  {
   "cell_type": "markdown",
   "metadata": {},
   "source": [
    "## Independence"
   ]
  },
  {
   "cell_type": "markdown",
   "metadata": {},
   "source": [
    "Events A and B are **independent events** if the occurrence of one of them does not affect the probability of the occurrence of the other. That is, two events are independent if either:\n",
    "* $P(A|B) = P(A)$, or\n",
    "* $P(B|A) = P(B)$"
   ]
  },
  {
   "cell_type": "markdown",
   "metadata": {},
   "source": [
    "Since independence tells us that $P(B|A) = P(B)$, we can substitute $P(B)$ in for $P(B|A)$ in the formula given to us by the multiplication rule:\n",
    "\n",
    "$P(A \\bigcap B) = P(A) \\times P(B)$ "
   ]
  },
  {
   "cell_type": "markdown",
   "metadata": {},
   "source": [
    "So this substitution leads us to an alternative definition of independence.\n",
    "\n",
    "Events A and B are **independent events** if and only if $P(A \\bigcap B) = P(A) \\times P(B)$\n",
    "\n",
    "The \"if and only if\" (often written as \"iff\") in that definition means that the if-then statement works in both directions. That is, the definition tells us two things:\n",
    "* If events A and B are independent, then $P(A \\bigcap B) = P(A) \\times P(B)$\n",
    "* If $P(A \\bigcap B) = P(A) \\times P(B)$, then events A and B are independent"
   ]
  },
  {
   "cell_type": "markdown",
   "metadata": {},
   "source": [
    "## Bayes Rules!"
   ]
  },
  {
   "cell_type": "markdown",
   "metadata": {},
   "source": [
    "### An example"
   ]
  },
  {
   "cell_type": "markdown",
   "metadata": {},
   "source": [
    "A desk lamp produced by The Luminar Company was found to be defective (D). There are three factories (A, B, C) where such desk lamps are manufactured. A Quality Control Manager (QCM) is responsible for investigating the source of found defects. This is what the QCM knows about the company's desk lamp production and the possible source of defects:"
   ]
  },
  {
   "cell_type": "markdown",
   "metadata": {},
   "source": [
    "| Factory | % of Total Production | Probability of Defective Lamps |\n",
    "| ------- | --------------------- | ------------------------------ |\n",
    "| A | 0.35 = P(A) | 0.015 = P(D\\|A) |\n",
    "| B | 0.35 = P(B) | 0.010 = P(D\\|B) |\n",
    "| C | 0.30 = P(C) | 0.020 = P(D\\|C) |"
   ]
  },
  {
   "cell_type": "markdown",
   "metadata": {},
   "source": [
    "The QCM would like to answer the following question: If a randomly selected lamp is defective, what is the probability that the lamp was manufactured in factory C, written as $P(C|D)$?"
   ]
  },
  {
   "cell_type": "markdown",
   "metadata": {},
   "source": [
    "We can figure this out using our mathematical definition of *conditional probabilities*.\n",
    "\n",
    "$P(C|D) = \\frac{P(C \\bigcap D)}{P(D)}$\n",
    "\n",
    "which can be rewritten as (using the multiplication rule) $P(C|D) = \\frac{P(C)\\times P(D|C)}{P(D)} = \\frac{0.30\\times0.020}{P(D)}$.\n",
    "\n",
    "How do we deal with $P(D)$? We can recognize that defective lamps can occur in 1 of 3 ways: $P(D) = P[(A \\bigcap D) \\bigcup (B \\bigcap D) \\bigcup (C \\bigcap D)]$. Again using the multiplication rule, we can expand this out and substitute in the appropriate numbers:\n",
    "\n",
    "$P(D) = P(D|A)P(A) + P(D|B)P(B) + P(D|C)P(C) = 0.015(0.35) + 0.010(0.35) + 0.020(0.30) = 0.01475$. Then, $P(C|D) = \\frac{0.30\\times0.020}{0.01475} = 0.407$."
   ]
  },
  {
   "cell_type": "markdown",
   "metadata": {},
   "source": [
    "---\n",
    "### Questions"
   ]
  },
  {
   "cell_type": "markdown",
   "metadata": {},
   "source": [
    "* Now, if a randomly selected lamp is defective, what is the probability that the lamp was manufactured in factory A?\n",
    "\n",
    "* And, if a randomly selected lamp is defective, what is the probability that the lamp was manufactured in factory B?\n",
    "\n",
    "(Note: these will be simpler since we've already calculated $P(D)$)"
   ]
  },
  {
   "cell_type": "markdown",
   "metadata": {},
   "source": [
    "---\n",
    "Awesome, so now instead of always doing that mental gymnastics, we can *try* to remember the neat little theorem - **Bayes' Theorem**, or Bayes' Rule:\n",
    "\n",
    "$P(A|B) = \\frac{P(B|A)P(A)}{P(B)}$\n",
    "\n",
    "$P(A)$ in this theorem is referred to as the **prior probability**, because it is the probability of an event $A$ that we know *prior* to obtaining any additional information. In the defective lamps example above, $P(A)$, $P(B)$, and $P(C)$ are our *prior probabilities*. \n",
    "\n",
    "$P(B|A)$ is still referred to as the **conditional probability**. In the defective lamps example, $P(D|A), P(D|B), P(D|C)$ were each *conditional probabilities*.\n",
    "\n",
    "$P(B)$ is called the **marginal probability**. This again goes back to our very first example in today's lesson, where if we add up all the probabilities for each outcome of a random variable, *given* a particular outcome of a separate random variable, it'll give us the *marginal probability*. In the defective lamps example, $P(D)$ is our *marginal probability*, because $P(D) = P[(A \\bigcap D) \\bigcup (B \\bigcap D) \\bigcup (C \\bigcap D)]$ ($D$ is the particular outcome of a random variable (let's say \"lamp health\", the alternative is not defective), and $A, B, C$ are all possible outcomes for the random variable \"factory\").\n",
    "\n",
    "The first term of the theorem, $P(A|B)$ is referred to as the **posterior probability**, because it is the probability of an event after (\"post\") we have obtained additional information. In the defective lamps example, $P(A|D), P(B|D), P(C|D)$ were each *posterior probabilities*. Again note that for a given outcome of a random variable, the sum of posterior probabilities for that outcome will also sum to 1.\n",
    "\n",
    "Bayes' theorem comes in handy when we want to know the conditional probability of two events and have information on the \"reverse\" conditional probability. "
   ]
  },
  {
   "cell_type": "markdown",
   "metadata": {},
   "source": [
    "### Questions"
   ]
  },
  {
   "cell_type": "markdown",
   "metadata": {},
   "source": [
    "Going back to the renal disease example, confirm our calculation for the *positive predictive value* using Bayes' theorem: \n",
    "\n",
    "$P(D|T+) = $"
   ]
  },
  {
   "cell_type": "markdown",
   "metadata": {},
   "source": [
    "## Combinatorics"
   ]
  },
  {
   "cell_type": "markdown",
   "metadata": {},
   "source": [
    "In the previous lab, we learned that the classical approach to assigning probability to an event involves determining the number of elements in the event and the sample space. There are many situations in which it would be too difficult and/or too tedious to list all of the possible outcomes in a sample space. In this lesson, we will learn various ways of counting the number of elements in a sample space without actually having to identify the specific outcomes. The specific counting techniques we will explore include the multiplication rule, permutations and combinations.\n",
    "\n",
    "Combinatorics is the field of mathematics that is primarily concerned with counting, and problems of selection and arrangement of objects."
   ]
  },
  {
   "cell_type": "markdown",
   "metadata": {},
   "source": [
    "### Multiplication Principle"
   ]
  },
  {
   "cell_type": "markdown",
   "metadata": {},
   "source": [
    "If there are:\n",
    "\n",
    "* $n_1$ outcomes of a random experiment $E_1$\n",
    "* $n_2$ outcomes of a random experiment $E_2$  \n",
    ".\n",
    ".\n",
    ".\n",
    "* and $n_m$ outcomes of a random experiment $E_m$\n",
    "\n",
    "then there are $n_1 \\times n_2 \\times ... \\times n_m$ outcomes of the composite experiment $E_1E_2...E_m$.\n",
    "\n"
   ]
  },
  {
   "cell_type": "markdown",
   "metadata": {},
   "source": [
    "### Examples"
   ]
  },
  {
   "cell_type": "markdown",
   "metadata": {},
   "source": [
    "*Example 1*\n",
    "\n",
    "You roll a fair six-sided die and toss a fair coin. You want to calculate the probability that you'll get a 6 on the die and a heads on the coin. We can use the classical approach of assigning probability to this event of interest. The probability of his event A, say, is: \n",
    "\n",
    "$P(A) = \\frac{N(A)}{N(S)}$,\n",
    "\n",
    "where $N(A)$ is the number of ways that he can get a 6 and a head, and $N(S)$ is the number of all of the possible outcomes of the rolls and tosses. There is of course only one possible way of getting a 6 and a head. Therefore, $N(A)$ is simply 1. To determine $N(S)$, we could enumerate all of the possible outcomes: $S = {1H, 1T, 2H, 2T, ...}$ and then count them up (tedious). Alternatively, we could use what is called the **Multiplication Principle** and recognize that for each of the 2 possible outcomes of a tossing a coin, there are exactly 6 possible outcomes of rolling a die. Therefore, there must be 6(2) possible outcomes in the sample space. The probability of interest here is then $P(A) = 1/12$.\n",
    "\n",
    "The main takeaway point should be that the Multiplication Principle exists and can be extremely useful for determining the number of outcomes of an experiment (or procedure), especially in situations when enumerating all of the possible outcomes of an experiment (procedure) is time- and/or cost-prohibitive. The hardest part of using the Multiplication Principle is determining the number of possible outcomes for each random experiment (procedure) performed. You'll want to pay particular attention to:\n",
    "* whether replication is permitted\n",
    "* whether other restrictions exist"
   ]
  },
  {
   "cell_type": "markdown",
   "metadata": {},
   "source": [
    "*Example 2*\n",
    "\n",
    "How many possible license plates could be stamped if each license plate were required to have exactly 3 letters and 4 numbers? If you think of stamping the license plate as filling the first three positions with one of 26 possible letters and the last four positions with one of 10 possible digits, the Multiplication Principle tells us that there are: $(26\\times26\\times26)\\times(10\\times10\\times10)$, or 175,760,000 possible license plates. If you're hoping for one particular license plate, your chance (1 divided by 175,760,000) of getting it are practically nil."
   ]
  },
  {
   "cell_type": "markdown",
   "metadata": {},
   "source": [
    "---\n",
    "### Questions"
   ]
  },
  {
   "cell_type": "markdown",
   "metadata": {},
   "source": [
    "How many possible license plates could be stamped if each license plate were required to have 3 *unique* letters and 4 *unique* numbers? (can just leave it as a product)"
   ]
  },
  {
   "cell_type": "markdown",
   "metadata": {},
   "source": [
    "---\n",
    "*Example 3*\n",
    "\n",
    "Let's take a look at one last example. How many subsets are possible out of a set of 10 elements? Let's suppose that the ten elements are the letters A through J: A, B, C, D, E, F, G, H, I, J.\n",
    "\n",
    "Well, there are 10 subsets consisting of only one element: {A}, {B}, ..., and {J}. If you're patient, you can determine that there are 45 subsets consisting of two elements: {AB}, {AC}, {AD}, ..., {IJ}. Rather than laboriously working through and counting all of the possible subsets, we could think of each element as something that could either get chosen or not get chosen to be in a subset. That is, A is either chosen or not... that's two possibilities. B is either chosen or not... that's two possibilities. C is either chosen or not... that's two possibilities. And so on. Thinking of the problem in this way, the Multiplication Principle then readily tells us that there are: $2\\times2\\times2\\times2\\times2\\times2\\times2\\times2\\times2\\times2$, or $2^{10}=1024$ possible subsets."
   ]
  },
  {
   "cell_type": "markdown",
   "metadata": {},
   "source": [
    "### Permutations"
   ]
  },
  {
   "cell_type": "markdown",
   "metadata": {},
   "source": [
    "A principle related to the Multiplication Principle is **permutations**. A permutation is defined as an *ordered* arrangement of *n* different objects in *r* positions, when $r \\leq n$. The number of such permutations is: \n",
    "\n",
    "$_{n}P_{r} = \\frac{n!}{(n-r)!}$\n",
    "\n",
    "This is read as \"n permute r\". The subscripted *n* represents the number of objects you are wanting to arrange, while the subscripted *r* represents the number of positions you have for the objects to fill.\n",
    "\n",
    "[Recall that $n!$ (read as \"n factorial\") is defined as the product of all whole numbers less than n and including n itself.]\n",
    "\n",
    "---\n",
    "We can see that the above formal definition of permutations is true through the Multiplication Principle:\n",
    "\n",
    "Suppose there are *r* positions to be filled with *n* different objects, in which there are:\n",
    "* *n* choices for the 1st position\n",
    "* *n-1* choices for the 2nd position\n",
    "* *n-2* choices for the 3rd position  \n",
    ".\n",
    ".\n",
    ".\n",
    "\n",
    "* and *n-(r-1)* choices for the last position\n",
    "\n",
    "The Multiplication Principle tells us there are in general: $n\\times(n-1)\\times(n-2)\\times...\\times[n-(r-1)]$ ways of filling the  positions. This can be proven (but I'm not going to - you can look up the proof if you reallyyyyyyy want to know) that this can be simplified to $\\frac{n!}{(n-r)!}$.\n"
   ]
  },
  {
   "cell_type": "markdown",
   "metadata": {},
   "source": [
    "---\n",
    "### Examples"
   ]
  },
  {
   "cell_type": "markdown",
   "metadata": {},
   "source": [
    "*Example 1*\n",
    "\n",
    "Let's look at an example when $r=n$.\n",
    "\n",
    "In how many ways can 7 different books be arranged on a shelf? (Since the shelf doesn't have positions, we can assume we want all books on the shelf.) We can use the Multiplication Principle, or alternatively, the permutations approach:\n",
    "\n",
    "$_7P_7 = \\frac{n!}{(n-r)!} = \\frac{7!}{0!} = 7! = 5040$\n",
    "\n",
    "**\"Whaaaaaaat?!\"**, you scream. Shouldn't $0!$ be 0??? Nope. It is 1. Remember this. Here's a fun, simple proof of this fact: https://www.chilimath.com/lessons/intermediate-algebra/zero-factorial/"
   ]
  },
  {
   "cell_type": "markdown",
   "metadata": {},
   "source": [
    "*Example 2*\n",
    "\n",
    "How about when $r<n$?\n",
    "\n",
    "How many ways can 4 people fill 3 chairs?\n",
    "\n",
    "$_4P_3 = \\frac{4!}{1!} = 4! = 4 \\times 3 \\times 2 \\times 1 = 24$ possible ways to fill chairs. "
   ]
  },
  {
   "cell_type": "markdown",
   "metadata": {},
   "source": [
    "---\n",
    "### Questions"
   ]
  },
  {
   "cell_type": "markdown",
   "metadata": {},
   "source": [
    "An artist has 9 paintings. How many ways can he hang 4 paintings side-by-side on a gallery wall? (can just leave it as a product)"
   ]
  },
  {
   "cell_type": "markdown",
   "metadata": {},
   "source": [
    "---\n",
    "### Combinations"
   ]
  },
  {
   "cell_type": "markdown",
   "metadata": {},
   "source": [
    "A **combination** is defined as the number of *unordered subsets* for *n* objects taken *r* at a time, which can be calculated as such:\n",
    "\n",
    "$_nC_r = {n \\choose r} = \\frac{n!}{r!(n-r)!}$\n",
    "\n",
    "This is read as \"n choose r\". The ${n \\choose r}$ is called the \"binomial coefficient\". The $r$ represents the number of objects you'd like to select (without replacement and without regard to order) from the $n$ objects you have."
   ]
  },
  {
   "cell_type": "markdown",
   "metadata": {},
   "source": [
    "### Examples"
   ]
  },
  {
   "cell_type": "markdown",
   "metadata": {},
   "source": [
    "*Example 1*\n",
    "\n",
    "You have 3 tickets for a concert. You want to use one for yourself. You can offer the other 2 to any of four friends (A, B, C, D). How many ways can 2 people be selected from 4 to go to a concert?\n",
    "\n",
    "We can assume here that order doesn't matter (if it did, we would use the permutation method - but who cares if you invite friend A or B first). But let's say for the time being that order does matter. Let's depict what that would look like:\n",
    "\n",
    "A-B | B-A | B-C | C-B  \n",
    "A-C | C-A | B-D | D-B  \n",
    "A-D | D-A | C-D | D-C\n",
    "\n",
    "That's 12 ways we can permute that. We can check this with $_4P_2 = \\frac{4!}{2!} = 4\\times3 = 12$. Check.\n",
    "\n",
    "However, like mentioned, we don't actually care about the order. So what's the number of *unordered* subsets? Again, we can write this out:\n",
    "\n",
    "A-B | B-C  \n",
    "A-C | B-D  \n",
    "A-D | C-D\n",
    "\n",
    "That's  6 ways we can choose 2 friends. So this was to show you the difference between *ordered* and *unordered* matters. In this case, when we have the flexibility to *choose* (pun intended) our objects without considering order, we use the combination method. \n",
    "\n",
    "So, back to the question - How many ways can 2 people be selected from 4 to go to a concert?:\n",
    "\n",
    "$_4C_2 = {4 \\choose 2} = \\frac{4!}{2!2!} = \\frac{24}{4} = 6$. This checks out."
   ]
  },
  {
   "cell_type": "markdown",
   "metadata": {},
   "source": [
    "*Example 2*\n",
    "\n",
    "Twelve (12) patients are available for use in a research study. Only seven (7) should be assigned to receive the study treatment. How many different subsets of seven patients can be selected?\n",
    "\n",
    "$_{12}C_7 = {12 \\choose 7} = \\frac{12!}{7!5!} = 792$"
   ]
  },
  {
   "cell_type": "markdown",
   "metadata": {},
   "source": [
    "---\n",
    "### Questions\n",
    "\n",
    "(You can leave the answers in binomial coefficient form.)"
   ]
  },
  {
   "cell_type": "markdown",
   "metadata": {},
   "source": [
    "1. Let's use a standard deck of cards containing 13 face values (Ace, 2, 3, 4, 5, 6, 7, 8, 9, 10, Jack, Queen, and King) and 4 different suits (Clubs, Diamonds, Hearts, and Spades) to play five-card poker. If you are dealt five cards, what is the probability of getting a full-house hand containing three kings and two aces (KKKAA)?\n",
    "\n",
    "**Hint:** It's asking for *probability*, so think of the classical approach to probability: $P(A) = \\frac{N(A)}{N(S)}$ as described earlier today. Then we can break this problem down into two parts - figuring out how to *count* the number of ways we can get (KKKAAA), and how to count the denominator. Look back at the question - what are your givens? What is the denominator based on what you were given? "
   ]
  },
  {
   "cell_type": "markdown",
   "metadata": {},
   "source": [
    "2. If you are dealt five cards, what is the probability of getting any full-house hand? (a hand containing three of a kind and a pair)\n",
    "\n",
    "**Hint:** Here the numerator will be structured slightly differently than the previous question. In the last one, we knew which of the face values we wanted, so we only had two terms, each counting the number of ways to obtain those face values. Here, we're leaving it arbitrary, so we're going to have 4 terms - 2 for the number of ways of choosing a particular face value, and then 2 for the number of ways of choosing either 3 or 2 of each face value.  "
   ]
  },
  {
   "cell_type": "markdown",
   "metadata": {},
   "source": [
    "---\n",
    "### *Distinguishable* Permutations"
   ]
  },
  {
   "cell_type": "markdown",
   "metadata": {},
   "source": [
    "Suppose we toss a fair coin 3 times. What is the probability that the sequence of 3 tosses yields 2 heads (H) and 1 tails (T) ($P(2H1T | 3 flips)$)?\n",
    "\n",
    "Two such sequences, for example, might look like this: HHT or HTH. Since each outcome is equally likely, according to the Multiplication Principle, the number of possible outcomes for 8 coin tosses is $2^3 = 8$.\n",
    "\n",
    "Now, when counting the number of sequences of 2 heads and 1 tails, we need to recognize that we are dealing with arrangements or permutations of the letters, since order matters, but in this case not all of the objects are distinct. What I mean is this:\n",
    "\n",
    "Possible outcomes of 2H1T:  \n",
    "$H_1H_2T | H_2H_1T$  \n",
    "$H_1TH_2 | H_2TH_1$  \n",
    "$TH_1H_2 | TH_2H_1$\n",
    "This is the same as saying $_3P_3 = 3! = 6$ (because order matters). However, in reality, we can't actually distinguish between the columns, so if the subscripts disappear, then the possible outcomes of 2H1T are:  \n",
    "$HHT$   \n",
    "$HTH$   \n",
    "$THH$ \n",
    "\n",
    "This might look familiar from the combinations section. So let's establish a formal definition of *distinguishable permutations*:\n",
    "\n",
    "The number of *distinguishable* permutations of n objects, when\n",
    "* $n_1$ of one type\n",
    "* $n_2$ of a second type   \n",
    ".\n",
    ".\n",
    ".\n",
    "\n",
    "* $n_k$ of the last type  \n",
    "* and $n = n_1+n_2+...+n_k$,\n",
    "\n",
    "is given by $\\frac{n!}{n_1!n_2!...n_k!}$. \n",
    "\n",
    "When there are only two types, we can see this is equivalent to $_nC_r = \\frac{n!}{r!(n-r)!}$. So in the example above, the number of distinguishable permutations, with only two types (H,T), is $_3C_2 = {3 \\choose 2} = \\frac{3!}{2!} = 3$. You can think of this as \"*choosing*\" $r=2$ positions for the heads out of the $n=3$ possible tosses."
   ]
  },
  {
   "cell_type": "markdown",
   "metadata": {},
   "source": [
    "---\n",
    "### Questions\n",
    "\n",
    "(You can leave the answers in fraction & factorial form.)"
   ]
  },
  {
   "cell_type": "markdown",
   "metadata": {},
   "source": [
    "1. Suppose we toss a fair coin 8 times. What is the probability that the sequence of 8 tosses yields 3 heads (H) and 5 tails (T)?"
   ]
  },
  {
   "cell_type": "markdown",
   "metadata": {},
   "source": [
    "2. How many ordered arrangements are there of the letters in MISSISSIPPI?"
   ]
  }
 ],
 "metadata": {
  "kernelspec": {
   "display_name": "R",
   "language": "R",
   "name": "ir"
  },
  "language_info": {
   "codemirror_mode": "r",
   "file_extension": ".r",
   "mimetype": "text/x-r-source",
   "name": "R",
   "pygments_lexer": "r",
   "version": "4.0.3"
  }
 },
 "nbformat": 4,
 "nbformat_minor": 4
}
