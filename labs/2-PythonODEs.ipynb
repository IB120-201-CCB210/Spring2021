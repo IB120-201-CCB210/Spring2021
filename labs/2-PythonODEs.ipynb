{
 "cells": [
  {
   "cell_type": "markdown",
   "metadata": {},
   "source": [
    "# Python Basics II\n",
    "## Review"
   ]
  },
  {
   "cell_type": "code",
   "execution_count": 1,
   "metadata": {
    "code_folding": [
     0
    ]
   },
   "outputs": [],
   "source": [
    "#####SECRET CODE#####\n",
    "\"\"\"\n",
    "In this block I am activating a new function to print out dictionaries \n",
    "in a pretty fashion - it's not part of the lesson\n",
    "\"\"\"\n",
    "import json\n",
    "\n",
    "def dprint(d):\n",
    "    print(json.dumps(d,\n",
    "                     sort_keys=True,\n",
    "                     indent=4))\n"
   ]
  },
  {
   "cell_type": "code",
   "execution_count": 2,
   "metadata": {
    "code_folding": [
     0
    ]
   },
   "outputs": [
    {
     "data": {
      "text/plain": [
       "[8, 7, 6, 6, 5, 4, 3, 2, 1]"
      ]
     },
     "execution_count": 2,
     "metadata": {},
     "output_type": "execute_result"
    }
   ],
   "source": [
    "## REVIEW\n",
    "\n",
    "\"\"\"\n",
    "What will the result of the below code snippet be?\n",
    "\"\"\"\n",
    "\n",
    "a=[1,2,3,4,5,6]\n",
    "b=[3,4,5,6,7,8]\n",
    "\n",
    "#(a+b[3:])[::-1]"
   ]
  },
  {
   "cell_type": "code",
   "execution_count": 4,
   "metadata": {
    "code_folding": [
     0
    ]
   },
   "outputs": [
    {
     "name": "stdout",
     "output_type": "stream",
     "text": [
      "['The Invisible Man,91', ' Onward,87', ' Star Wars: The Rise of Skywalker,52']\n"
     ]
    }
   ],
   "source": [
    "## REVIEW 2 How about this snippet\n",
    "\n",
    "my_string = \"The Invisible Man, Score 91; Onward, Score 87; Star Wars: The Rise of Skywalker, Score 52;,,,\"\n",
    "\n",
    "print(my_string.rstrip(\",\").replace(\" Score \",\"\").rstrip(\";\").split(\";\"))\n",
    "\n",
    "             "
   ]
  },
  {
   "cell_type": "markdown",
   "metadata": {},
   "source": [
    "## Loops"
   ]
  },
  {
   "cell_type": "code",
   "execution_count": 5,
   "metadata": {
    "code_folding": [
     0
    ]
   },
   "outputs": [
    {
     "name": "stdout",
     "output_type": "stream",
     "text": [
      "pigs\n",
      "sheep\n",
      "wolves\n"
     ]
    }
   ],
   "source": [
    "## loops\n",
    "\n",
    "\"\"\"\n",
    "In the above example, we were able to split our string\n",
    "into the 3 pieces, one for each movie score, but, ideally we\n",
    "would like to now do some operations on each of those strings \n",
    "individually. For example, we could create a dictionary\n",
    "linking the movie name to the score, or we could create a list\n",
    "of all the scores and then take the mean, etc.\n",
    "\n",
    "loops provide a way to perform some task over \n",
    "and over again a set number of times\n",
    "\n",
    "in python, the way we implement loops is often tightly \n",
    "associated with containers \n",
    "\n",
    "\"\"\"\n",
    "\n",
    "x = [\"pigs\",\"sheep\",\"wolves\"]\n",
    "\n",
    "for item in x:  # for each item in the list x\n",
    "    print(item) # indented code is run each time"
   ]
  },
  {
   "cell_type": "code",
   "execution_count": 8,
   "metadata": {
    "code_folding": [
     0
    ]
   },
   "outputs": [
    {
     "name": "stdout",
     "output_type": "stream",
     "text": [
      "[(0, 'pigs'), (1, 'sheep'), (2, 'wolves')]\n",
      "0:pigs\n",
      "1:sheep\n",
      "2:wolves\n"
     ]
    }
   ],
   "source": [
    "## loops continued\n",
    "\"\"\"\n",
    "\n",
    "often it's helpful to also have the index of the element\n",
    "we are accessing. Python has a handy way of doing this\n",
    "using the enumerate function. This function has the following syntax:\n",
    "\n",
    "for counter, value in enumerate(iterable_list): ...\n",
    "\n",
    "\"\"\"\n",
    "\n",
    "x = [\"pigs\",\"sheep\",\"wolves\"]\n",
    "print(list(enumerate(x)))\n",
    "\n",
    "for idx, item in enumerate(x):  # ***for each item and its index \"idx, item\"***\n",
    "    print(\"{i}:{item}\".format(i=idx,item=item)) # indented code is run each time\n",
    "    #print(idx,item)"
   ]
  },
  {
   "cell_type": "code",
   "execution_count": 25,
   "metadata": {
    "code_folding": [
     0
    ]
   },
   "outputs": [
    {
     "name": "stdout",
     "output_type": "stream",
     "text": [
      "0:pigs\n",
      "1:sheep\n",
      "2:wolves\n",
      "\n",
      "\n"
     ]
    }
   ],
   "source": [
    "## loops continued\n",
    "\"\"\"\n",
    "here is another \"less elegent\" \"less pythonic\" way of doing this\n",
    "... it's not wrong! But it's harder to read\n",
    "\"\"\"\n",
    "\n",
    "x = [\"pigs\",\"sheep\",\"wolves\"]\n",
    "\n",
    "idx=0\n",
    "for item in x:\n",
    "    print(\"{i}:{item}\".format(i=idx,item=item))\n",
    "    idx=idx+1\n",
    "\n",
    "print(\"\\n\") ##new line character"
   ]
  },
  {
   "cell_type": "code",
   "execution_count": 26,
   "metadata": {
    "code_folding": [
     0
    ]
   },
   "outputs": [
    {
     "name": "stdout",
     "output_type": "stream",
     "text": [
      "[4, 5, 6]\n"
     ]
    }
   ],
   "source": [
    "## constructing lists in loops\n",
    "\n",
    "x = [\"pigs\",\"sheep\",\"wolves\"]\n",
    "y  = [] #this is how you create an empty list of an unspecified dimension that you can fill in later\n",
    "\n",
    "for item in x:\n",
    "    y.append(len(item))\n",
    "\n",
    "print(y)"
   ]
  },
  {
   "cell_type": "code",
   "execution_count": 27,
   "metadata": {
    "code_folding": [
     0
    ]
   },
   "outputs": [
    {
     "name": "stdout",
     "output_type": "stream",
     "text": [
      "0\n",
      "1\n",
      "2\n",
      "3\n",
      "4\n"
     ]
    }
   ],
   "source": [
    "## the range function\n",
    "\n",
    "\"\"\"\n",
    "sometimes we want to loop some code, but we don't explicitly \n",
    "have a list to loop over\n",
    "\n",
    "In this case we can use the range function:\n",
    "\n",
    "The range function `range(n)` gives us 0..n (exlusive of n) elements\n",
    "\n",
    "\"\"\"\n",
    "\n",
    "for i in range(5):\n",
    "    print(i)"
   ]
  },
  {
   "cell_type": "code",
   "execution_count": 28,
   "metadata": {
    "code_folding": [
     0
    ]
   },
   "outputs": [
    {
     "name": "stdout",
     "output_type": "stream",
     "text": [
      "[0, 1, 2, 3, 1, 2, 3, 4, 2, 3, 4, 5, 3, 4, 5, 6]\n"
     ]
    }
   ],
   "source": [
    "## we can nest loops too\n",
    "\n",
    "\"\"\"\n",
    "Note that the most inner level of the loop is indented twice\n",
    "\"\"\"\n",
    "\n",
    "y = []\n",
    "for i in range(4):\n",
    "    for j in range(4): #indented one time \n",
    "        y.append(i+j) #indented two times\n",
    "print(y)"
   ]
  },
  {
   "cell_type": "code",
   "execution_count": 32,
   "metadata": {
    "code_folding": [
     0
    ]
   },
   "outputs": [
    {
     "name": "stdout",
     "output_type": "stream",
     "text": [
      "dict_keys([291910, 13004, 23])\n",
      "method 1\n",
      "gene id 291910 : gene name FOXP2\n",
      "gene id 13004 : gene name APOE4\n",
      "gene id 23 : gene name CCL3L1\n",
      "\n",
      "method 2\n",
      "gene id 291910 : gene name FOXP2\n",
      "gene id 13004 : gene name APOE4\n",
      "gene id 23 : gene name CCL3L1\n"
     ]
    }
   ],
   "source": [
    "## looping over dictionaries\n",
    "\n",
    "\"\"\"\n",
    "In the same way that we looped over lists, we can \n",
    "loop over dictionaries\n",
    "\n",
    "*** we can make no assumptions about the order in which\n",
    "these elements will appear though!***\n",
    "\n",
    "\"\"\"\n",
    "\n",
    "gnames_by_id = {291910:\"FOXP2\", 13004:\"APOE4\", 23:\"CCL3L1\"}\n",
    "\n",
    "\n",
    "# method 1 \n",
    "print(\"method 1\")\n",
    "for k in gnames_by_id: # by default we will iterate over the dictionary keys\n",
    "    my_str = \"gene id {gid} : gene name {gname}\".format(gid=k,gname=gnames_by_id[k])\n",
    "    print(my_str)\n",
    "\n",
    "# method 2\n",
    "print(\"\\nmethod 2\")\n",
    "for k,v in gnames_by_id.items(): # the \"items\" keyword gives us key:value pairs\n",
    "    my_str = \"gene id {gid} : gene name {gname}\".format(gid=k,gname=v)\n",
    "    print(my_str)\n",
    "    \n",
    "# method 3\n",
    "print(\"\\nmethod 3\")\n",
    "for \n",
    "\n"
   ]
  },
  {
   "cell_type": "code",
   "execution_count": 34,
   "metadata": {
    "code_folding": [
     0
    ]
   },
   "outputs": [
    {
     "name": "stdout",
     "output_type": "stream",
     "text": [
      "[0, 1, 2, 3, 4, 5, 6, 7, 8, 9]\n"
     ]
    }
   ],
   "source": [
    "## while loops\n",
    "\n",
    "\"\"\"\n",
    "an alternative and sometimes useful way to \n",
    "write a loop is using the while command\n",
    "\n",
    "the loop will run \"while\" the condition is satisfied\n",
    "\"\"\"\n",
    "\n",
    "simple_list = []\n",
    "i = 0\n",
    "while len(simple_list) <10:\n",
    "    simple_list.append(i)\n",
    "    i+=1\n",
    "\n",
    "print(simple_list)"
   ]
  },
  {
   "cell_type": "markdown",
   "metadata": {},
   "source": [
    "## List comprehension and dictionary comprehension"
   ]
  },
  {
   "cell_type": "code",
   "execution_count": 35,
   "metadata": {
    "code_folding": [
     0
    ]
   },
   "outputs": [
    {
     "name": "stdout",
     "output_type": "stream",
     "text": [
      "[2, 3, 4]\n",
      "[4, 5, 6]\n"
     ]
    }
   ],
   "source": [
    "## list comprehension\n",
    "\n",
    "\"\"\"\n",
    "creating new lists and dictionaries based on the \n",
    "values of a list or dictionanry is such a common\n",
    "task that python has a special method called:\n",
    "\n",
    "list comprehension / dictionary comprehension\n",
    "\n",
    "list comprehensions basically mix the syntax of\n",
    "a loop and a list constuction\n",
    "\"\"\"\n",
    "\n",
    "x = [1,2,3]\n",
    "y = [i+1 for i in x]\n",
    "\n",
    "print(y)\n",
    "\n",
    "animals = [\"pigs\",\"sheep\",\"wolves\"]\n",
    "animal_lengths = [len(animal) for animal in animals]\n",
    "\n",
    "print(animal_lengths)\n"
   ]
  },
  {
   "cell_type": "code",
   "execution_count": 36,
   "metadata": {
    "code_folding": [
     0
    ]
   },
   "outputs": [
    {
     "name": "stdout",
     "output_type": "stream",
     "text": [
      "{'pigs': 4, 'sheep': 5, 'wolves': 6}\n"
     ]
    }
   ],
   "source": [
    "## dictionary comprehension\n",
    "\n",
    "\"\"\"\n",
    "we can construct dictionaries using comprehensions too\n",
    "\"\"\"\n",
    "\n",
    "animals = [\"pigs\", \"sheep\", \"wolves\"]\n",
    "\n",
    "animal_to_len = {a: len(a) for a in animals}\n",
    "print(animal_to_len)\n",
    "\n"
   ]
  },
  {
   "cell_type": "code",
   "execution_count": 37,
   "metadata": {
    "code_folding": [
     0
    ]
   },
   "outputs": [
    {
     "name": "stdout",
     "output_type": "stream",
     "text": [
      "{0: 0, 1: 1, 2: 4, 3: 9, 4: 16}\n",
      "{0: 0, 2: 4, 4: 16}\n"
     ]
    }
   ],
   "source": [
    "## advanced comprehension\n",
    "\n",
    "\"\"\"\n",
    "we can add logic into comprehensions as well using \"if statements\"\n",
    "\"\"\"\n",
    "\n",
    "nums = [0, 1, 2, 3, 4]\n",
    "num_to_square = {x: x ** 2 for x in nums }\n",
    "print(num_to_square)\n",
    "\n",
    "even_num_to_square = {x: x ** 2 for x in nums if x % 2 == 0}\n",
    "print(even_num_to_square)\n",
    "\n"
   ]
  },
  {
   "cell_type": "markdown",
   "metadata": {},
   "source": [
    "## If statements"
   ]
  },
  {
   "cell_type": "code",
   "execution_count": null,
   "metadata": {
    "code_folding": [
     0
    ]
   },
   "outputs": [],
   "source": [
    "## if Statements\n",
    "\n",
    "\"\"\"\n",
    "if statements can also be used outside of comprehensions\n",
    "allowing us to execute code only if certain conditions are met\n",
    "\"\"\"\n",
    "\n",
    "#only add even  numbers to our list\n",
    "\n",
    "y = []\n",
    "for i in range(8):\n",
    "    if (i % 2  == 0):\n",
    "        y.append(i) # the code to be executed if the condition is met is indented\n",
    "\n",
    "print(y)\n",
    "\n"
   ]
  },
  {
   "cell_type": "code",
   "execution_count": null,
   "metadata": {
    "code_folding": [
     0
    ]
   },
   "outputs": [],
   "source": [
    "## else if\n",
    "\n",
    "\"\"\"\n",
    "more complex logic can be constructed using \n",
    "if, elif and else\n",
    "\"\"\"\n",
    "\n",
    "remainder_0  = []\n",
    "remainder_1  = []\n",
    "remainder_2  = []\n",
    "\n",
    "for i in range(9):\n",
    "    if (i % 3  == 0):\n",
    "        remainder_0.append(i)\n",
    "    elif (i % 3 == 1):\n",
    "        remainder_1.append(i)\n",
    "    else:\n",
    "        remainder_2.append(i)\n",
    "\n",
    "print(remainder_0)\n",
    "print(remainder_1)\n",
    "print(remainder_2)\n",
    "\n"
   ]
  },
  {
   "cell_type": "markdown",
   "metadata": {},
   "source": [
    "## Functions"
   ]
  },
  {
   "cell_type": "code",
   "execution_count": 40,
   "metadata": {
    "code_folding": [
     0
    ]
   },
   "outputs": [
    {
     "name": "stdout",
     "output_type": "stream",
     "text": [
      "12\n",
      "13\n",
      "12.4\n",
      "24\n"
     ]
    }
   ],
   "source": [
    "## built in functions\n",
    "\n",
    "\"\"\"\n",
    "up until now we have only used the basic functions \n",
    "provided to us by default in python\n",
    "\n",
    "e.g. print, range, etc. \n",
    "\n",
    "however, there are many packages included with python\n",
    "from which we can import other useful functions\n",
    "\n",
    "A list of them can be found here: https://docs.python.org/3/library/\n",
    "\n",
    "one useful one is the math library: https://docs.python.org/3/library/math.html\n",
    "\n",
    "some of the functions included in this library include:\n",
    "    ceil(x)\n",
    "    floor(x)\n",
    "    fabs(x)\n",
    "    factorial(k)\n",
    "    etc...\n",
    "\n",
    "\"\"\"\n",
    "\n",
    "import math\n",
    "\n",
    "print(math.floor(12.4))\n",
    "print(math.ceil(12.4))\n",
    "print(math.fabs(-12.4)) #stands for float absolute\n",
    "print(math.factorial(4)) #4*3*2*1\n",
    "\n",
    "## abs vs fabs\n",
    "#print(type(abs(-12.4)))\n",
    "#print(type(math.fabs(-12.4)))\n",
    "#print(type(abs(12)))\n",
    "#print(type(math.fabs(12)))\n"
   ]
  },
  {
   "cell_type": "code",
   "execution_count": 41,
   "metadata": {
    "code_folding": [
     0
    ]
   },
   "outputs": [
    {
     "name": "stdout",
     "output_type": "stream",
     "text": [
      "12\n"
     ]
    }
   ],
   "source": [
    "## importing functions \n",
    "\n",
    "\"\"\"\n",
    "using the \"as\" keyword we can import a set of functions\n",
    "with a shorthand name\n",
    "\"\"\"\n",
    "\n",
    "import math as m\n",
    "print(m.floor(12.4))"
   ]
  },
  {
   "cell_type": "code",
   "execution_count": 49,
   "metadata": {
    "code_folding": [
     0
    ]
   },
   "outputs": [
    {
     "name": "stdout",
     "output_type": "stream",
     "text": [
      "9\n"
     ]
    }
   ],
   "source": [
    "## writing our own functions\n",
    "\n",
    "\"\"\"\n",
    "one of the most important and useful features of\n",
    "a programming language is the ability to define our\n",
    "own functions\n",
    "\n",
    "in python we define functions using the syntax\n",
    "\n",
    "def function_name(parameter1, parameter2, ...):\n",
    "    function code\n",
    "    return value\n",
    "\"\"\"\n",
    "\n",
    "def square(x):\n",
    "    return x**2 ##if you don't use return, the code will still run, python will still do the math, but no output\n",
    "\n",
    "print(square(3))"
   ]
  },
  {
   "cell_type": "code",
   "execution_count": 50,
   "metadata": {
    "code_folding": [
     0
    ]
   },
   "outputs": [
    {
     "name": "stdout",
     "output_type": "stream",
     "text": [
      "13\n"
     ]
    }
   ],
   "source": [
    "## functions continued\n",
    "\n",
    "\"\"\"\n",
    "functions can call other functions\n",
    "\"\"\"\n",
    "\n",
    "def square(x):\n",
    "    return x**2\n",
    "\n",
    "def sum_of_squares(x1, x2):\n",
    "    return square(x1)+square(x2)\n",
    "\n",
    "print(sum_of_squares(2,3))"
   ]
  },
  {
   "cell_type": "code",
   "execution_count": 51,
   "metadata": {
    "code_folding": [
     0
    ]
   },
   "outputs": [
    {
     "name": "stdout",
     "output_type": "stream",
     "text": [
      "36\n"
     ]
    }
   ],
   "source": [
    "## functions continued\n",
    "\n",
    "\"\"\"\n",
    "a more complex set of functions to compute sum of powers\n",
    "\"\"\"\n",
    "\n",
    "def power(x, exponent):\n",
    "    return x**exponent\n",
    "\n",
    "\"\"\"\n",
    "this function takes in a list of values to exponentiate and sum\n",
    "\"\"\"\n",
    "\n",
    "def sum_of_powers(values, exponent):    \n",
    "    powers = [power(val,exponent) for val in values] ##list comprehension!!!\n",
    "    return sum(powers)\n",
    "\n",
    "print(sum_of_powers([1,2,3], 3)) #1^3+2^3+3^3 = 1+8+27\n"
   ]
  },
  {
   "cell_type": "code",
   "execution_count": 52,
   "metadata": {
    "code_folding": [
     0
    ]
   },
   "outputs": [
    {
     "name": "stdout",
     "output_type": "stream",
     "text": [
      "-1 is negative\n",
      "0 is zero\n",
      "1 is positive\n"
     ]
    }
   ],
   "source": [
    "## another function example, using 'if' statements\n",
    "\n",
    "def get_sign(x):\n",
    "    if x > 0:\n",
    "        return 'positive'\n",
    "    elif x < 0:\n",
    "        return 'negative'\n",
    "    else:\n",
    "        return 'zero'\n",
    "\n",
    "for x in [-1, 0, 1]:\n",
    "    print(x, \"is\", get_sign(x))"
   ]
  },
  {
   "cell_type": "code",
   "execution_count": 53,
   "metadata": {
    "code_folding": [
     0
    ]
   },
   "outputs": [
    {
     "name": "stdout",
     "output_type": "stream",
     "text": [
      "calling our function with default parameters\n",
      "1\n",
      "2\n",
      "3\n",
      "3\n",
      "3\n",
      "overriding the defaults\n",
      "1\n",
      "2\n",
      "3\n"
     ]
    },
    {
     "data": {
      "text/plain": [
       "6.0"
      ]
     },
     "execution_count": 53,
     "metadata": {},
     "output_type": "execute_result"
    }
   ],
   "source": [
    "## overriding function defaults\n",
    "\n",
    "def split_string_sum(string, delim=\",\"):\n",
    "    s = 0\n",
    "    for val in string.split(delim):\n",
    "        print(val)\n",
    "        s=s+float(val) # note that we have to cast val to a number, because it's a string\n",
    "    return(s)\n",
    "\n",
    "\n",
    "print(\"calling our function with default parameters\")\n",
    "my_string = \"1,2,3,3,3\"\n",
    "split_string_sum(my_string)\n",
    "\n",
    "print(\"overriding the defaults\")\n",
    "my_string = \"1;2;3\"\n",
    "split_string_sum(my_string, delim=\";\")\n",
    "\n",
    "## note what happens with the output for return(s)\n",
    "\n"
   ]
  },
  {
   "cell_type": "code",
   "execution_count": null,
   "metadata": {},
   "outputs": [],
   "source": [
    "## PRACTICE PROBLEMS\n",
    "\n",
    "\"\"\"\n",
    "consider the review problem with movie critic scores from above.\n",
    "\n",
    "my_string = \"The Invisible Man, Critics Score 91; Onward, Critics Score 87; Star Wars: The Rise of Skywalker, Critics Score 52;\"\n",
    "\n",
    "Write a function to parse this line and create a dictionary of\n",
    "movie scores based on their names. \n",
    "\n",
    "Write a function that takes in this dictionary and finds the mean \n",
    "movie score\n",
    "\n",
    "\n",
    "\"\"\""
   ]
  },
  {
   "cell_type": "markdown",
   "metadata": {},
   "source": [
    "## Numerical Solutions to ODEs"
   ]
  },
  {
   "cell_type": "code",
   "execution_count": 54,
   "metadata": {},
   "outputs": [],
   "source": [
    "##using solve_ivp() -> stands for solve an Initial Value Problem (IVP)\n",
    "\"\"\"\n",
    "solve_ivp() can take several arguments (you can look into them on your own time on the documentation page \n",
    "for the function through a simple Google search, or using 'solve_ivp?'). \n",
    "For right now, we'll focus on the 3 main arguments, 'fun', 'tspan', 'y0'. The syntax for the function is:\n",
    "solve_ivp(fun, tspan, y0), where the syntax for 'fun' is:\n",
    "fun(t, y)\n",
    "\"\"\"\n",
    "\n",
    "import numpy as np\n",
    "import matplotlib.pyplot as plt\n",
    "from scipy.integrate import solve_ivp\n"
   ]
  },
  {
   "cell_type": "markdown",
   "metadata": {},
   "source": [
    "You may recall that exponential decay can be expressed as the differential equation $\\frac{dN}{dt}=-\\lambda N$."
   ]
  },
  {
   "cell_type": "markdown",
   "metadata": {},
   "source": [
    "The analytical solution to this is $N(t) = N_0e^{-\\lambda t}$. But let's pretend we don't know this solution and plot the numerical solution..."
   ]
  },
  {
   "cell_type": "code",
   "execution_count": 55,
   "metadata": {},
   "outputs": [
    {
     "name": "stdout",
     "output_type": "stream",
     "text": [
      "[ 0.          0.11487653  1.26364188  3.06061781  4.81611105  6.57445806\n",
      "  8.33328988 10.        ]\n",
      "[[2.         1.88836035 1.06327177 0.43319312 0.18017253 0.07483045\n",
      "  0.03107158 0.01350781]\n",
      " [4.         3.7767207  2.12654355 0.86638624 0.36034507 0.14966091\n",
      "  0.06214316 0.02701561]\n",
      " [8.         7.5534414  4.25308709 1.73277247 0.72069014 0.29932181\n",
      "  0.12428631 0.05403123]]\n"
     ]
    }
   ],
   "source": [
    "def exponential_decay(t, N):\n",
    "    dNdt = -l * N\n",
    "    return dNdt\n",
    "\n",
    "l = 0.5\n",
    "tspan = [0,10]\n",
    "sol = solve_ivp(exponential_decay, tspan, [2, 4, 8]) ##here I'm defining a vector of initial values\n",
    "print(sol.t)\n",
    "print(sol.y) ##returns a list of lists - pay attention to how you index this when plotting\n"
   ]
  },
  {
   "cell_type": "code",
   "execution_count": 57,
   "metadata": {},
   "outputs": [
    {
     "data": {
      "text/plain": [
       "[<matplotlib.lines.Line2D at 0x7f493008ce20>]"
      ]
     },
     "execution_count": 57,
     "metadata": {},
     "output_type": "execute_result"
    },
    {
     "data": {
      "image/png": "[encoded data removed]",
      "text/plain": [
       "<Figure size 432x288 with 1 Axes>"
      ]
     },
     "metadata": {
      "needs_background": "light"
     },
     "output_type": "display_data"
    }
   ],
   "source": [
    "plt.plot(sol.t, sol.y[0], 'r')"
   ]
  },
  {
   "cell_type": "code",
   "execution_count": 58,
   "metadata": {},
   "outputs": [
    {
     "data": {
      "text/plain": [
       "[<matplotlib.lines.Line2D at 0x7f4930073b80>]"
      ]
     },
     "execution_count": 58,
     "metadata": {},
     "output_type": "execute_result"
    },
    {
     "data": {
      "image/png": "[encoded data removed]",
      "text/plain": [
       "<Figure size 432x288 with 1 Axes>"
      ]
     },
     "metadata": {
      "needs_background": "light"
     },
     "output_type": "display_data"
    }
   ],
   "source": [
    "plt.plot(sol.t, sol.y[1], 'g')"
   ]
  },
  {
   "cell_type": "code",
   "execution_count": 59,
   "metadata": {},
   "outputs": [
    {
     "data": {
      "text/plain": [
       "[<matplotlib.lines.Line2D at 0x7f492ffd83a0>]"
      ]
     },
     "execution_count": 59,
     "metadata": {},
     "output_type": "execute_result"
    },
    {
     "data": {
      "image/png": "[encoded data removed]",
      "text/plain": [
       "<Figure size 432x288 with 1 Axes>"
      ]
     },
     "metadata": {
      "needs_background": "light"
     },
     "output_type": "display_data"
    }
   ],
   "source": [
    "plt.plot(sol.t, sol.y[2], 'b')"
   ]
  },
  {
   "cell_type": "code",
   "execution_count": 60,
   "metadata": {},
   "outputs": [
    {
     "data": {
      "image/png": "[encoded data removed]",
      "text/plain": [
       "<Figure size 432x288 with 1 Axes>"
      ]
     },
     "metadata": {
      "needs_background": "light"
     },
     "output_type": "display_data"
    }
   ],
   "source": [
    "plt.plot(sol.t, sol.y[0], sol.t, sol.y[1], sol.t, sol.y[2])\n",
    "plt.xlabel(\"t\")\n",
    "plt.ylabel(\"N\",)\n",
    "plt.show()"
   ]
  },
  {
   "cell_type": "code",
   "execution_count": 61,
   "metadata": {},
   "outputs": [
    {
     "data": {
      "image/png": "[encoded data removed]",
      "text/plain": [
       "<Figure size 432x288 with 1 Axes>"
      ]
     },
     "metadata": {
      "needs_background": "light"
     },
     "output_type": "display_data"
    }
   ],
   "source": [
    "##changing t_eval\n",
    "##if we want to look at specific times, we can add the keyword argument t_eval\n",
    "sol = solve_ivp(exponential_decay, tspan, [2, 4, 8], t_eval=np.linspace(0,10,500)) \n",
    "\n",
    "plt.plot(sol.t, sol.y[0], sol.t, sol.y[1], sol.t, sol.y[2])\n",
    "plt.xlabel(\"t\")\n",
    "plt.ylabel(\"N\")\n",
    "plt.show()"
   ]
  },
  {
   "cell_type": "markdown",
   "metadata": {},
   "source": [
    "## Extra - File i/o"
   ]
  },
  {
   "cell_type": "code",
   "execution_count": null,
   "metadata": {
    "code_folding": [
     0
    ]
   },
   "outputs": [],
   "source": [
    "## File I/O\n",
    "\n",
    "\"\"\"\n",
    "It is often useful to take input from a file\n",
    "\n",
    "the \"open\" function returns a filehandle that \n",
    "can  be used to read / write to a file\n",
    "\n",
    "reading functions:\n",
    "    read() #read whole file\n",
    "    readline() # read one line of a file\n",
    "\n",
    "writing functions:\n",
    "    write() #write to a file\n",
    "    \n",
    "more details can be found here: https://docs.python.org/3/tutorial/inputoutput.html\n",
    "\n",
    "it is good practice to open files using a \"with\" statement, \n",
    "what this does is wrap everything inside the with statement \n",
    "into a \n",
    "\"\"\"\n",
    "\n",
    "#reading a file in - example_file.txt is in the same directory as this notebook\n",
    "with open(\"inputs/example_file_1.txt\") as f:\n",
    "    read_data = f.read()\n",
    "    \n",
    "print(read_data)"
   ]
  },
  {
   "cell_type": "code",
   "execution_count": null,
   "metadata": {
    "code_folding": [
     0
    ],
    "scrolled": true
   },
   "outputs": [],
   "source": [
    "## File I/O continued\n",
    "\n",
    "\"\"\"\n",
    "reading a file in line by line\n",
    "\"\"\"\n",
    "\n",
    "#reading a file in - example_file.txt is in the same directory as this notebook\n",
    "with open(\"inputs/example_file_1.txt\") as f:\n",
    "    for line in f:\n",
    "        print(line)"
   ]
  },
  {
   "cell_type": "code",
   "execution_count": null,
   "metadata": {
    "code_folding": [
     0
    ],
    "scrolled": true
   },
   "outputs": [],
   "source": [
    "## File I/O continued\n",
    "\"\"\"\n",
    "Advanced File I/O\n",
    "reading a file in line by line and constructing \n",
    "a list of dictionaries for all of the information\n",
    "\"\"\"\n",
    "\n",
    "#reading a file in - example_file.txt is in the same directory as this notebook\n",
    "\n",
    "file_info = []\n",
    "with open(\"inputs/example_file_1.txt\") as f:\n",
    "    header = f.readline()\n",
    "    columns = header.rstrip().split(\",\")\n",
    "    for line in f:\n",
    "        split_line = line.rstrip().split(\",\")\n",
    "        row_dict = {columns[i]: float(col) for i, col in enumerate(split_line)} \n",
    "        file_info.append(row_dict)\n",
    "\n",
    "dprint(file_info)\n",
    "    "
   ]
  }
 ],
 "metadata": {
  "kernelspec": {
   "display_name": "Python 3",
   "language": "python",
   "name": "python3"
  },
  "language_info": {
   "codemirror_mode": {
    "name": "ipython",
    "version": 3
   },
   "file_extension": ".py",
   "mimetype": "text/x-python",
   "name": "python",
   "nbconvert_exporter": "python",
   "pygments_lexer": "ipython3",
   "version": "3.8.6"
  }
 },
 "nbformat": 4,
 "nbformat_minor": 4
}
