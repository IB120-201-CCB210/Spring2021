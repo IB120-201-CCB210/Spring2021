{
 "cells": [
  {
   "cell_type": "markdown",
   "metadata": {},
   "source": [
    "# Maximum Likelihood"
   ]
  },
  {
   "cell_type": "markdown",
   "metadata": {},
   "source": [
    "Last lab we covered some basic parameters of interest, such as population mean and variance. In these cases, we had intuitive estimators (sample mean and sample variance). However in more interesting and real scenarios, we work with complex models for which we can't intuit parameter estimates. One way to estimate such parameters is through a systematic method called **Maximum Likelihood estimation**. "
   ]
  },
  {
   "cell_type": "markdown",
   "metadata": {},
   "source": [
    "Suppose we have a collection of independent random samples of random variables $X_1, X_2, ..., X_n$ from the same probability distribution, each with an associated PDF $p_\\theta(x)$ which depends on some parameter $\\theta$. The joint PDF is $p_\\theta(x_1, x_2, ..., x_n) = p_\\theta(x_1)p_\\theta(x_2)...p_\\theta(x_n)$. "
   ]
  },
  {
   "cell_type": "markdown",
   "metadata": {},
   "source": [
    "Once we've observed the data, we can substitute $x_1, x_2, ..., x_n$ by the actual values of the samples, so $p_\\theta(x_1, x_2, ..., x_n)$ becomes a function of $\\theta$ alone. Thus we can write, \n",
    "\n",
    "$L(\\theta) = p_\\theta(x_1, x_2, ..., x_n)$\n",
    "\n",
    "This is called the **likelihood function**. The Maximum Likelihood Estimator of $\\theta$ (MLE) is the value $\\hat{\\theta}$ that maximizes the likelihood. Since the likelihood function is a product, and products are typically hard to maximize, we usually take the logarithms (recall the logarithmic properties) and maximize the log-likelihood instead. "
   ]
  },
  {
   "cell_type": "markdown",
   "metadata": {},
   "source": [
    "---\n",
    "##### Some Useful Logarithmic Properties\n",
    "\n",
    "* **Product Rule** $\\ln{(AB)} = \\ln{(A)} + \\ln{(B)}$\n",
    "* **Quotient Rule** $\\ln{(\\frac{A}{B})} = \\ln{(A)} - \\ln{(B)}$\n",
    "* **Power Rule** $\\ln{(A^x)} = x\\ln{(A)}$"
   ]
  },
  {
   "cell_type": "markdown",
   "metadata": {},
   "source": [
    "---\n",
    "#### Examples\n",
    "\n",
    "1. (Single parameter optimization) We have a collection of random samples that are binomially distributed with probability 0.5. Let's pretend we don't know that they have probability $p=0.5$ and want to estimate said parameter. The likelihood function for the binomial distribution can be given by the following: $L(p) = p^x(1-p)^{n-x}$, where $x$ is the total number of successes and $n$ is the total number of samples. "
   ]
  },
  {
   "cell_type": "markdown",
   "metadata": {},
   "source": [
    "In R, we can use `optim()`, a general-purpose optimization method for calculating MLEs using various algorithms. \n",
    "\n",
    "**Using `optim()`:**\n",
    "\n",
    "syntax: `optim(par, fn)`\n",
    "\n",
    "arguments: \n",
    "* `par` Initial values for the parameters to be optimized over.\n",
    "* `fn` A function to be minimized, with the first argument being the vector of parameters over which minimization is to take place. It should return a scalar result.\n",
    "\n",
    "output:\n",
    "* `par` The MLE set of parameters found.\n",
    "* `value` The value of `fn` corresponding to `par`.\n",
    "* `counts` The first value in the vector gives the number of calls to `fn`."
   ]
  },
  {
   "cell_type": "code",
   "execution_count": 7,
   "metadata": {},
   "outputs": [
    {
     "data": {
      "text/html": [
       "<style>\n",
       ".list-inline {list-style: none; margin:0; padding: 0}\n",
       ".list-inline>li {display: inline-block}\n",
       ".list-inline>li:not(:last-child)::after {content: \"\\00b7\"; padding: 0 .5ex}\n",
       "</style>\n",
       "<ol class=list-inline><li>0</li><li>1</li><li>0</li><li>1</li><li>0</li><li>0</li><li>0</li><li>0</li><li>0</li><li>0</li></ol>\n"
      ],
      "text/latex": [
       "\\begin{enumerate*}\n",
       "\\item 0\n",
       "\\item 1\n",
       "\\item 0\n",
       "\\item 1\n",
       "\\item 0\n",
       "\\item 0\n",
       "\\item 0\n",
       "\\item 0\n",
       "\\item 0\n",
       "\\item 0\n",
       "\\end{enumerate*}\n"
      ],
      "text/markdown": [
       "1. 0\n",
       "2. 1\n",
       "3. 0\n",
       "4. 1\n",
       "5. 0\n",
       "6. 0\n",
       "7. 0\n",
       "8. 0\n",
       "9. 0\n",
       "10. 0\n",
       "\n",
       "\n"
      ],
      "text/plain": [
       " [1] 0 1 0 1 0 0 0 0 0 0"
      ]
     },
     "metadata": {},
     "output_type": "display_data"
    }
   ],
   "source": [
    "# draw 10 binomially-distributed samples with p=0.5\n",
    "\n",
    "data1 <- rbinom(10, 1, 0.5)\n",
    "x <- sum(data1) # number of heads\n",
    "n <- length(data1) # number of samples\n",
    "data1"
   ]
  },
  {
   "cell_type": "code",
   "execution_count": 8,
   "metadata": {},
   "outputs": [],
   "source": [
    "# make likelihood function\n",
    "\n",
    "binom_like <- function(p){\n",
    "    L <- (p^x)*((1-p)^(n-x))\n",
    "    return(L)\n",
    "}"
   ]
  },
  {
   "cell_type": "code",
   "execution_count": 9,
   "metadata": {},
   "outputs": [
    {
     "data": {
      "image/png": "[encoded data removed]",
      "text/plain": [
       "plot without title"
      ]
     },
     "metadata": {
      "image/png": {
       "height": 420,
       "width": 420
      }
     },
     "output_type": "display_data"
    }
   ],
   "source": [
    "# plot the likelihood function for varying values of p\n",
    "\n",
    "seq_p <- seq(0,1, by=0.01) # create a sequence of numbers from 0 to 1 with breaks of size 0.01\n",
    "seq_y <- c()\n",
    "for(s in seq_p){\n",
    "  seq_y <- append(seq_y, binom_like(s)) # calculate the likelihood for every value in seq_p\n",
    "}\n",
    "\n",
    "plot(seq_p, seq_y)"
   ]
  },
  {
   "cell_type": "code",
   "execution_count": 10,
   "metadata": {},
   "outputs": [
    {
     "data": {
      "text/html": [
       "0.2"
      ],
      "text/latex": [
       "0.2"
      ],
      "text/markdown": [
       "0.2"
      ],
      "text/plain": [
       "[1] 0.2"
      ]
     },
     "metadata": {},
     "output_type": "display_data"
    }
   ],
   "source": [
    "# we can see which value gave us the maximum likelihood\n",
    "\n",
    "ind <- which(seq_y == max(seq_y))\n",
    "seq_p[ind]\n"
   ]
  },
  {
   "cell_type": "code",
   "execution_count": 14,
   "metadata": {},
   "outputs": [
    {
     "name": "stderr",
     "output_type": "stream",
     "text": [
      "Warning message in optim(mean(data1), binom_like):\n",
      "“one-dimensional optimization by Nelder-Mead is unreliable:\n",
      "use \"Brent\" or optimize() directly”\n"
     ]
    },
    {
     "data": {
      "text/html": [
       "<dl>\n",
       "\t<dt>$par</dt>\n",
       "\t\t<dd>0.2</dd>\n",
       "\t<dt>$value</dt>\n",
       "\t\t<dd>-0.0067108864</dd>\n",
       "\t<dt>$counts</dt>\n",
       "\t\t<dd><style>\n",
       ".dl-inline {width: auto; margin:0; padding: 0}\n",
       ".dl-inline>dt, .dl-inline>dd {float: none; width: auto; display: inline-block}\n",
       ".dl-inline>dt::after {content: \":\\0020\"; padding-right: .5ex}\n",
       ".dl-inline>dt:not(:first-of-type) {padding-left: .5ex}\n",
       "</style><dl class=dl-inline><dt>function</dt><dd>22</dd><dt>gradient</dt><dd>&lt;NA&gt;</dd></dl>\n",
       "</dd>\n",
       "\t<dt>$convergence</dt>\n",
       "\t\t<dd>0</dd>\n",
       "\t<dt>$message</dt>\n",
       "\t\t<dd>NULL</dd>\n",
       "</dl>\n"
      ],
      "text/latex": [
       "\\begin{description}\n",
       "\\item[\\$par] 0.2\n",
       "\\item[\\$value] -0.0067108864\n",
       "\\item[\\$counts] \\begin{description*}\n",
       "\\item[function] 22\n",
       "\\item[gradient] <NA>\n",
       "\\end{description*}\n",
       "\n",
       "\\item[\\$convergence] 0\n",
       "\\item[\\$message] NULL\n",
       "\\end{description}\n"
      ],
      "text/markdown": [
       "$par\n",
       ":   0.2\n",
       "$value\n",
       ":   -0.0067108864\n",
       "$counts\n",
       ":   function\n",
       ":   22gradient\n",
       ":   &lt;NA&gt;\n",
       "\n",
       "\n",
       "$convergence\n",
       ":   0\n",
       "$message\n",
       ":   NULL\n",
       "\n",
       "\n"
      ],
      "text/plain": [
       "$par\n",
       "[1] 0.2\n",
       "\n",
       "$value\n",
       "[1] -0.006710886\n",
       "\n",
       "$counts\n",
       "function gradient \n",
       "      22       NA \n",
       "\n",
       "$convergence\n",
       "[1] 0\n",
       "\n",
       "$message\n",
       "NULL\n"
      ]
     },
     "metadata": {},
     "output_type": "display_data"
    }
   ],
   "source": [
    "# using the optim() function; **NOTE** need to change the sign of the likelihood function\n",
    "\n",
    "binom_like <- function(p){\n",
    "    L <- (p^x)*((1-p)^(n-x))\n",
    "    return(-L)\n",
    "}\n",
    "\n",
    "res1 <- optim(mean(data1), binom_like)\n",
    "res1"
   ]
  },
  {
   "cell_type": "code",
   "execution_count": 15,
   "metadata": {},
   "outputs": [
    {
     "data": {
      "image/png": "[encoded data removed]",
      "text/plain": [
       "plot without title"
      ]
     },
     "metadata": {
      "image/png": {
       "height": 420,
       "width": 420
      }
     },
     "output_type": "display_data"
    }
   ],
   "source": [
    "## an aside of what changing the sign does\n",
    "# plot the likelihood function for varying values of p\n",
    "\n",
    "seq_p <- seq(0,1, by=0.01) # create a sequence of numbers from 0 to 1 with breaks of size 0.01\n",
    "seq_y <- c()\n",
    "for(s in seq_p){\n",
    "  seq_y <- append(seq_y, binom_like(s)) # calculate the likelihood for every value in seq_p\n",
    "}\n",
    "\n",
    "plot(seq_p, seq_y)"
   ]
  },
  {
   "cell_type": "code",
   "execution_count": 65,
   "metadata": {},
   "outputs": [
    {
     "name": "stderr",
     "output_type": "stream",
     "text": [
      "Warning message in optim(5, binom_like):\n",
      "“one-dimensional optimization by Nelder-Mead is unreliable:\n",
      "use \"Brent\" or optimize() directly”\n"
     ]
    },
    {
     "data": {
      "text/html": [
       "<dl>\n",
       "\t<dt>$par</dt>\n",
       "\t\t<dd>0</dd>\n",
       "\t<dt>$value</dt>\n",
       "\t\t<dd>0</dd>\n",
       "\t<dt>$counts</dt>\n",
       "\t\t<dd><style>\n",
       ".dl-inline {width: auto; margin:0; padding: 0}\n",
       ".dl-inline>dt, .dl-inline>dd {float: none; width: auto; display: inline-block}\n",
       ".dl-inline>dt::after {content: \":\\0020\"; padding-right: .5ex}\n",
       ".dl-inline>dt:not(:first-of-type) {padding-left: .5ex}\n",
       "</style><dl class=dl-inline><dt>function</dt><dd>8</dd><dt>gradient</dt><dd>&lt;NA&gt;</dd></dl>\n",
       "</dd>\n",
       "\t<dt>$convergence</dt>\n",
       "\t\t<dd>0</dd>\n",
       "\t<dt>$message</dt>\n",
       "\t\t<dd>NULL</dd>\n",
       "</dl>\n"
      ],
      "text/latex": [
       "\\begin{description}\n",
       "\\item[\\$par] 0\n",
       "\\item[\\$value] 0\n",
       "\\item[\\$counts] \\begin{description*}\n",
       "\\item[function] 8\n",
       "\\item[gradient] <NA>\n",
       "\\end{description*}\n",
       "\n",
       "\\item[\\$convergence] 0\n",
       "\\item[\\$message] NULL\n",
       "\\end{description}\n"
      ],
      "text/markdown": [
       "$par\n",
       ":   0\n",
       "$value\n",
       ":   0\n",
       "$counts\n",
       ":   function\n",
       ":   8gradient\n",
       ":   &lt;NA&gt;\n",
       "\n",
       "\n",
       "$convergence\n",
       ":   0\n",
       "$message\n",
       ":   NULL\n",
       "\n",
       "\n"
      ],
      "text/plain": [
       "$par\n",
       "[1] 0\n",
       "\n",
       "$value\n",
       "[1] 0\n",
       "\n",
       "$counts\n",
       "function gradient \n",
       "       8       NA \n",
       "\n",
       "$convergence\n",
       "[1] 0\n",
       "\n",
       "$message\n",
       "NULL\n"
      ]
     },
     "metadata": {},
     "output_type": "display_data"
    }
   ],
   "source": [
    "# what happens with different starting values?\n",
    "\n",
    "optim(5, binom_like)"
   ]
  },
  {
   "cell_type": "code",
   "execution_count": 41,
   "metadata": {},
   "outputs": [
    {
     "data": {
      "text/html": [
       "512"
      ],
      "text/latex": [
       "512"
      ],
      "text/markdown": [
       "512"
      ],
      "text/plain": [
       "[1] 512"
      ]
     },
     "metadata": {},
     "output_type": "display_data"
    }
   ],
   "source": [
    "# draw 1000 binomially-distributed samples with p=0.5\n",
    "\n",
    "data2 <- rbinom(1000, 1, 0.5)\n",
    "x <- sum(data2) # number of heads\n",
    "n <- length(data2) # number of samples\n",
    "x"
   ]
  },
  {
   "cell_type": "code",
   "execution_count": 42,
   "metadata": {},
   "outputs": [
    {
     "data": {
      "image/png": "[encoded data removed]",
      "text/plain": [
       "plot without title"
      ]
     },
     "metadata": {
      "image/png": {
       "height": 420,
       "width": 420
      }
     },
     "output_type": "display_data"
    }
   ],
   "source": [
    "# plot the likelihood function for varying values of p\n",
    "\n",
    "binom_like <- function(p){\n",
    "    L <- (p^x)*((1-p)^(n-x))\n",
    "    return(L)\n",
    "}\n",
    "\n",
    "\n",
    "seq_p <- seq(0,1, by=0.01) # create a sequence of numbers from 0 to 1 with breaks of size 0.01\n",
    "seq_y <- c()\n",
    "for(s in seq_p){\n",
    "  seq_y <- append(seq_y, binom_like(s)) # calculate the likelihood for every value in seq_p\n",
    "}\n",
    "\n",
    "plot(seq_p, seq_y)"
   ]
  },
  {
   "cell_type": "code",
   "execution_count": 43,
   "metadata": {},
   "outputs": [
    {
     "data": {
      "text/html": [
       "0.51"
      ],
      "text/latex": [
       "0.51"
      ],
      "text/markdown": [
       "0.51"
      ],
      "text/plain": [
       "[1] 0.51"
      ]
     },
     "metadata": {},
     "output_type": "display_data"
    }
   ],
   "source": [
    "ind <- which(seq_y == max(seq_y))\n",
    "seq_p[ind]"
   ]
  },
  {
   "cell_type": "code",
   "execution_count": 46,
   "metadata": {},
   "outputs": [
    {
     "name": "stderr",
     "output_type": "stream",
     "text": [
      "Warning message in optim(0.9, binom_like):\n",
      "“one-dimensional optimization by Nelder-Mead is unreliable:\n",
      "use \"Brent\" or optimize() directly”\n"
     ]
    },
    {
     "data": {
      "text/html": [
       "<dl>\n",
       "\t<dt>$par</dt>\n",
       "\t\t<dd>0.9</dd>\n",
       "\t<dt>$value</dt>\n",
       "\t\t<dd>0</dd>\n",
       "\t<dt>$counts</dt>\n",
       "\t\t<dd><style>\n",
       ".dl-inline {width: auto; margin:0; padding: 0}\n",
       ".dl-inline>dt, .dl-inline>dd {float: none; width: auto; display: inline-block}\n",
       ".dl-inline>dt::after {content: \":\\0020\"; padding-right: .5ex}\n",
       ".dl-inline>dt:not(:first-of-type) {padding-left: .5ex}\n",
       "</style><dl class=dl-inline><dt>function</dt><dd>2</dd><dt>gradient</dt><dd>&lt;NA&gt;</dd></dl>\n",
       "</dd>\n",
       "\t<dt>$convergence</dt>\n",
       "\t\t<dd>0</dd>\n",
       "\t<dt>$message</dt>\n",
       "\t\t<dd>NULL</dd>\n",
       "</dl>\n"
      ],
      "text/latex": [
       "\\begin{description}\n",
       "\\item[\\$par] 0.9\n",
       "\\item[\\$value] 0\n",
       "\\item[\\$counts] \\begin{description*}\n",
       "\\item[function] 2\n",
       "\\item[gradient] <NA>\n",
       "\\end{description*}\n",
       "\n",
       "\\item[\\$convergence] 0\n",
       "\\item[\\$message] NULL\n",
       "\\end{description}\n"
      ],
      "text/markdown": [
       "$par\n",
       ":   0.9\n",
       "$value\n",
       ":   0\n",
       "$counts\n",
       ":   function\n",
       ":   2gradient\n",
       ":   &lt;NA&gt;\n",
       "\n",
       "\n",
       "$convergence\n",
       ":   0\n",
       "$message\n",
       ":   NULL\n",
       "\n",
       "\n"
      ],
      "text/plain": [
       "$par\n",
       "[1] 0.9\n",
       "\n",
       "$value\n",
       "[1] 0\n",
       "\n",
       "$counts\n",
       "function gradient \n",
       "       2       NA \n",
       "\n",
       "$convergence\n",
       "[1] 0\n",
       "\n",
       "$message\n",
       "NULL\n"
      ]
     },
     "metadata": {},
     "output_type": "display_data"
    }
   ],
   "source": [
    "# using the optim() function; **NOTE** need to change the sign of the likelihood function\n",
    "# with more samples, because the likelihood is a product, it becomes nearly impossible to actually maximize\n",
    "\n",
    "binom_like <- function(p){\n",
    "    L <- (p^x)*((1-p)^(n-x))\n",
    "    return(-L)\n",
    "}\n",
    "\n",
    "optim(0.9, binom_like)\n"
   ]
  },
  {
   "cell_type": "code",
   "execution_count": 48,
   "metadata": {},
   "outputs": [
    {
     "name": "stderr",
     "output_type": "stream",
     "text": [
      "Warning message in optim(0.9, binom_logLike):\n",
      "“one-dimensional optimization by Nelder-Mead is unreliable:\n",
      "use \"Brent\" or optimize() directly”\n"
     ]
    },
    {
     "data": {
      "text/html": [
       "<dl>\n",
       "\t<dt>$par</dt>\n",
       "\t\t<dd>0.511962890625</dd>\n",
       "\t<dt>$value</dt>\n",
       "\t\t<dd>692.859155661366</dd>\n",
       "\t<dt>$counts</dt>\n",
       "\t\t<dd><style>\n",
       ".dl-inline {width: auto; margin:0; padding: 0}\n",
       ".dl-inline>dt, .dl-inline>dd {float: none; width: auto; display: inline-block}\n",
       ".dl-inline>dt::after {content: \":\\0020\"; padding-right: .5ex}\n",
       ".dl-inline>dt:not(:first-of-type) {padding-left: .5ex}\n",
       "</style><dl class=dl-inline><dt>function</dt><dd>28</dd><dt>gradient</dt><dd>&lt;NA&gt;</dd></dl>\n",
       "</dd>\n",
       "\t<dt>$convergence</dt>\n",
       "\t\t<dd>0</dd>\n",
       "\t<dt>$message</dt>\n",
       "\t\t<dd>NULL</dd>\n",
       "</dl>\n"
      ],
      "text/latex": [
       "\\begin{description}\n",
       "\\item[\\$par] 0.511962890625\n",
       "\\item[\\$value] 692.859155661366\n",
       "\\item[\\$counts] \\begin{description*}\n",
       "\\item[function] 28\n",
       "\\item[gradient] <NA>\n",
       "\\end{description*}\n",
       "\n",
       "\\item[\\$convergence] 0\n",
       "\\item[\\$message] NULL\n",
       "\\end{description}\n"
      ],
      "text/markdown": [
       "$par\n",
       ":   0.511962890625\n",
       "$value\n",
       ":   692.859155661366\n",
       "$counts\n",
       ":   function\n",
       ":   28gradient\n",
       ":   &lt;NA&gt;\n",
       "\n",
       "\n",
       "$convergence\n",
       ":   0\n",
       "$message\n",
       ":   NULL\n",
       "\n",
       "\n"
      ],
      "text/plain": [
       "$par\n",
       "[1] 0.5119629\n",
       "\n",
       "$value\n",
       "[1] 692.8592\n",
       "\n",
       "$counts\n",
       "function gradient \n",
       "      28       NA \n",
       "\n",
       "$convergence\n",
       "[1] 0\n",
       "\n",
       "$message\n",
       "NULL\n"
      ]
     },
     "metadata": {},
     "output_type": "display_data"
    }
   ],
   "source": [
    "# create log-likelihood function\n",
    "# always want to take the log of the individual expression components and not the original likelihood function - it\n",
    "# preserves accuracy that would be lost from rounding\n",
    "\n",
    "binom_logLike <- function(p){\n",
    "    logL <- x*log(p)+(n-x)*log(1-p)\n",
    "    return(-logL)\n",
    "}\n",
    "\n",
    "res2 <- optim(0.9, binom_logLike)\n",
    "res2\n",
    "\n"
   ]
  },
  {
   "cell_type": "code",
   "execution_count": 49,
   "metadata": {},
   "outputs": [
    {
     "data": {
      "image/png": "[encoded data removed]",
      "text/plain": [
       "plot without title"
      ]
     },
     "metadata": {
      "image/png": {
       "height": 420,
       "width": 420
      }
     },
     "output_type": "display_data"
    }
   ],
   "source": [
    "# changing to a log-scale doesn't affect the MLE\n",
    "\n",
    "seq_p <- seq(0,1, by=0.01) # create a sequence of numbers from 0 to 1 with breaks of size 0.01\n",
    "seq_z <- c()\n",
    "for(s in seq_p){\n",
    "  seq_z <- append(seq_z, binom_like(s)) # calculate the likelihood for every value in seq_p\n",
    "}\n",
    "\n",
    "plot(seq_p, seq_z)\n"
   ]
  },
  {
   "cell_type": "code",
   "execution_count": 50,
   "metadata": {},
   "outputs": [
    {
     "name": "stderr",
     "output_type": "stream",
     "text": [
      "Warning message in optim(0.9, binom_logLike):\n",
      "“one-dimensional optimization by Nelder-Mead is unreliable:\n",
      "use \"Brent\" or optimize() directly”\n"
     ]
    },
    {
     "data": {
      "text/html": [
       "<dl>\n",
       "\t<dt>$par</dt>\n",
       "\t\t<dd>0.2000390625</dd>\n",
       "\t<dt>$value</dt>\n",
       "\t\t<dd>5.00402428306094</dd>\n",
       "\t<dt>$counts</dt>\n",
       "\t\t<dd><style>\n",
       ".dl-inline {width: auto; margin:0; padding: 0}\n",
       ".dl-inline>dt, .dl-inline>dd {float: none; width: auto; display: inline-block}\n",
       ".dl-inline>dt::after {content: \":\\0020\"; padding-right: .5ex}\n",
       ".dl-inline>dt:not(:first-of-type) {padding-left: .5ex}\n",
       "</style><dl class=dl-inline><dt>function</dt><dd>32</dd><dt>gradient</dt><dd>&lt;NA&gt;</dd></dl>\n",
       "</dd>\n",
       "\t<dt>$convergence</dt>\n",
       "\t\t<dd>0</dd>\n",
       "\t<dt>$message</dt>\n",
       "\t\t<dd>NULL</dd>\n",
       "</dl>\n"
      ],
      "text/latex": [
       "\\begin{description}\n",
       "\\item[\\$par] 0.2000390625\n",
       "\\item[\\$value] 5.00402428306094\n",
       "\\item[\\$counts] \\begin{description*}\n",
       "\\item[function] 32\n",
       "\\item[gradient] <NA>\n",
       "\\end{description*}\n",
       "\n",
       "\\item[\\$convergence] 0\n",
       "\\item[\\$message] NULL\n",
       "\\end{description}\n"
      ],
      "text/markdown": [
       "$par\n",
       ":   0.2000390625\n",
       "$value\n",
       ":   5.00402428306094\n",
       "$counts\n",
       ":   function\n",
       ":   32gradient\n",
       ":   &lt;NA&gt;\n",
       "\n",
       "\n",
       "$convergence\n",
       ":   0\n",
       "$message\n",
       ":   NULL\n",
       "\n",
       "\n"
      ],
      "text/plain": [
       "$par\n",
       "[1] 0.2000391\n",
       "\n",
       "$value\n",
       "[1] 5.004024\n",
       "\n",
       "$counts\n",
       "function gradient \n",
       "      32       NA \n",
       "\n",
       "$convergence\n",
       "[1] 0\n",
       "\n",
       "$message\n",
       "NULL\n"
      ]
     },
     "metadata": {},
     "output_type": "display_data"
    }
   ],
   "source": [
    "# what about the log-likelihood on the original dataset of 20 samples?\n",
    "x <- sum(data1)\n",
    "n <- length(data1)\n",
    "\n",
    "optim(0.9, binom_logLike)"
   ]
  },
  {
   "cell_type": "code",
   "execution_count": 31,
   "metadata": {},
   "outputs": [
    {
     "data": {
      "text/html": [
       "<dl>\n",
       "\t<dt>$par</dt>\n",
       "\t\t<dd>0.2</dd>\n",
       "\t<dt>$value</dt>\n",
       "\t\t<dd>-0.0067108864</dd>\n",
       "\t<dt>$counts</dt>\n",
       "\t\t<dd><style>\n",
       ".dl-inline {width: auto; margin:0; padding: 0}\n",
       ".dl-inline>dt, .dl-inline>dd {float: none; width: auto; display: inline-block}\n",
       ".dl-inline>dt::after {content: \":\\0020\"; padding-right: .5ex}\n",
       ".dl-inline>dt:not(:first-of-type) {padding-left: .5ex}\n",
       "</style><dl class=dl-inline><dt>function</dt><dd>22</dd><dt>gradient</dt><dd>&lt;NA&gt;</dd></dl>\n",
       "</dd>\n",
       "\t<dt>$convergence</dt>\n",
       "\t\t<dd>0</dd>\n",
       "\t<dt>$message</dt>\n",
       "\t\t<dd>NULL</dd>\n",
       "</dl>\n"
      ],
      "text/latex": [
       "\\begin{description}\n",
       "\\item[\\$par] 0.2\n",
       "\\item[\\$value] -0.0067108864\n",
       "\\item[\\$counts] \\begin{description*}\n",
       "\\item[function] 22\n",
       "\\item[gradient] <NA>\n",
       "\\end{description*}\n",
       "\n",
       "\\item[\\$convergence] 0\n",
       "\\item[\\$message] NULL\n",
       "\\end{description}\n"
      ],
      "text/markdown": [
       "$par\n",
       ":   0.2\n",
       "$value\n",
       ":   -0.0067108864\n",
       "$counts\n",
       ":   function\n",
       ":   22gradient\n",
       ":   &lt;NA&gt;\n",
       "\n",
       "\n",
       "$convergence\n",
       ":   0\n",
       "$message\n",
       ":   NULL\n",
       "\n",
       "\n"
      ],
      "text/plain": [
       "$par\n",
       "[1] 0.2\n",
       "\n",
       "$value\n",
       "[1] -0.006710886\n",
       "\n",
       "$counts\n",
       "function gradient \n",
       "      22       NA \n",
       "\n",
       "$convergence\n",
       "[1] 0\n",
       "\n",
       "$message\n",
       "NULL\n"
      ]
     },
     "metadata": {},
     "output_type": "display_data"
    }
   ],
   "source": [
    "res1"
   ]
  },
  {
   "cell_type": "markdown",
   "metadata": {},
   "source": [
    "#### Examples\n",
    "\n",
    "2. (Multiple parameter optimization) Suppose we have 10 random samples drawn from a normal distribution, with unknown mean $\\mu$ and variance $\\sigma^2$. The log-likelihood function for the normal distribution is $L(\\mu,\\sigma^2) = -.5n\\ln{(2\\pi)}-.5n\\ln{(\\sigma^2)}-\\frac{1}{2\\sigma^2}\\sum_i(y_i-\\mu)^2$. Find the MLEs for both $\\mu$ and $\\sigma^2$."
   ]
  },
  {
   "cell_type": "code",
   "execution_count": 37,
   "metadata": {},
   "outputs": [
    {
     "data": {
      "text/html": [
       "50.1739143738271"
      ],
      "text/latex": [
       "50.1739143738271"
      ],
      "text/markdown": [
       "50.1739143738271"
      ],
      "text/plain": [
       "[1] 50.17391"
      ]
     },
     "metadata": {},
     "output_type": "display_data"
    }
   ],
   "source": [
    "data <- rnorm(10, 50, 2)\n",
    "n <- length(data)"
   ]
  },
  {
   "cell_type": "code",
   "execution_count": 38,
   "metadata": {},
   "outputs": [],
   "source": [
    "# define the log-likelihood function\n",
    "\n",
    "normal_logLike <- function(theta){\n",
    "  mu <- theta[1]\n",
    "  sigma2 <- theta[2]\n",
    "  \n",
    "  logL <- -.5*n*log(2*pi) -.5*n*log(sigma2) - (1/(2*sigma2))*sum((data-mu)**2)\n",
    "  return(-logL)\n",
    "}"
   ]
  },
  {
   "cell_type": "code",
   "execution_count": 39,
   "metadata": {},
   "outputs": [
    {
     "data": {
      "text/html": [
       "<dl>\n",
       "\t<dt>$par</dt>\n",
       "\t\t<dd><style>\n",
       ".list-inline {list-style: none; margin:0; padding: 0}\n",
       ".list-inline>li {display: inline-block}\n",
       ".list-inline>li:not(:last-child)::after {content: \"\\00b7\"; padding: 0 .5ex}\n",
       "</style>\n",
       "<ol class=list-inline><li>50.1737031130365</li><li>5.49067794278032</li></ol>\n",
       "</dd>\n",
       "\t<dt>$value</dt>\n",
       "\t\t<dd>22.7049115603258</dd>\n",
       "\t<dt>$counts</dt>\n",
       "\t\t<dd><style>\n",
       ".dl-inline {width: auto; margin:0; padding: 0}\n",
       ".dl-inline>dt, .dl-inline>dd {float: none; width: auto; display: inline-block}\n",
       ".dl-inline>dt::after {content: \":\\0020\"; padding-right: .5ex}\n",
       ".dl-inline>dt:not(:first-of-type) {padding-left: .5ex}\n",
       "</style><dl class=dl-inline><dt>function</dt><dd>57</dd><dt>gradient</dt><dd>&lt;NA&gt;</dd></dl>\n",
       "</dd>\n",
       "\t<dt>$convergence</dt>\n",
       "\t\t<dd>0</dd>\n",
       "\t<dt>$message</dt>\n",
       "\t\t<dd>NULL</dd>\n",
       "</dl>\n"
      ],
      "text/latex": [
       "\\begin{description}\n",
       "\\item[\\$par] \\begin{enumerate*}\n",
       "\\item 50.1737031130365\n",
       "\\item 5.49067794278032\n",
       "\\end{enumerate*}\n",
       "\n",
       "\\item[\\$value] 22.7049115603258\n",
       "\\item[\\$counts] \\begin{description*}\n",
       "\\item[function] 57\n",
       "\\item[gradient] <NA>\n",
       "\\end{description*}\n",
       "\n",
       "\\item[\\$convergence] 0\n",
       "\\item[\\$message] NULL\n",
       "\\end{description}\n"
      ],
      "text/markdown": [
       "$par\n",
       ":   1. 50.1737031130365\n",
       "2. 5.49067794278032\n",
       "\n",
       "\n",
       "\n",
       "$value\n",
       ":   22.7049115603258\n",
       "$counts\n",
       ":   function\n",
       ":   57gradient\n",
       ":   &lt;NA&gt;\n",
       "\n",
       "\n",
       "$convergence\n",
       ":   0\n",
       "$message\n",
       ":   NULL\n",
       "\n",
       "\n"
      ],
      "text/plain": [
       "$par\n",
       "[1] 50.173703  5.490678\n",
       "\n",
       "$value\n",
       "[1] 22.70491\n",
       "\n",
       "$counts\n",
       "function gradient \n",
       "      57       NA \n",
       "\n",
       "$convergence\n",
       "[1] 0\n",
       "\n",
       "$message\n",
       "NULL\n"
      ]
     },
     "metadata": {},
     "output_type": "display_data"
    }
   ],
   "source": [
    "optim(c(mean(data), var(data)), normal_logLike)\n"
   ]
  },
  {
   "cell_type": "code",
   "execution_count": 40,
   "metadata": {},
   "outputs": [
    {
     "ename": "ERROR",
     "evalue": "Error in library(plotly): there is no package called ‘plotly’\n",
     "output_type": "error",
     "traceback": [
      "Error in library(plotly): there is no package called ‘plotly’\nTraceback:\n",
      "1. library(plotly)"
     ]
    }
   ],
   "source": [
    "# contour plot the likelihood function for varying values of a, b\n",
    "library(plotly)\n",
    "\n",
    "mu_seq <- round(seq(min(data), max(data), by=0.01),2)\n",
    "s2_seq <- seq(var(data)-1, var(data)+1, by=0.01)\n",
    "\n",
    "grid_like <- matrix(NA, length(mu_seq),length(s2_seq))\n",
    "for(i in 1:length(mu_seq)){\n",
    "  for(j in 1:length(s2_seq)){\n",
    "    grid_like[i,j] <- normal_logLike(c(mu_seq[i], s2_seq[j]))\n",
    "  }\n",
    "}\n",
    "\n",
    "fig <- plot_ly(z = grid_like, type = 'contour', y = mu_seq, x = s2_seq, colorscale = 'Viridis')\n",
    "\n",
    "fig"
   ]
  },
  {
   "cell_type": "markdown",
   "metadata": {},
   "source": [
    "### Questions"
   ]
  },
  {
   "cell_type": "markdown",
   "metadata": {},
   "source": [
    "1. Suppose the weights of randomly selected American female college students are normally distributed with unknown mean  and standard deviation . A random sample of 10 American female college students yielded the following weights (in pounds):\n",
    "\n",
    "115 122 130 127 149 160 152 138 149 180\n",
    "\n",
    "Using the given sample, find a maximum likelihood estimate of $\\mu$ and $\\sigma^2$."
   ]
  },
  {
   "cell_type": "markdown",
   "metadata": {},
   "source": [
    "2. Suppose that the lifetime of Badger brand light bulbs is modeled by an exponential distribution with (unknown) parameter $\\lambda$. We test 5 bulbs and find they have lifetimes of 2, 3, 1, 3, and 4 years, respectively. What is the MLE for $\\lambda$?"
   ]
  }
 ],
 "metadata": {
  "kernelspec": {
   "display_name": "R",
   "language": "R",
   "name": "ir"
  },
  "language_info": {
   "codemirror_mode": "r",
   "file_extension": ".r",
   "mimetype": "text/x-r-source",
   "name": "R",
   "pygments_lexer": "r",
   "version": "4.0.4"
  }
 },
 "nbformat": 4,
 "nbformat_minor": 4
}
