{
 "cells": [
  {
   "cell_type": "markdown",
   "metadata": {},
   "source": [
    "# Maximum Likelihood"
   ]
  },
  {
   "cell_type": "markdown",
   "metadata": {},
   "source": [
    "Last lab we covered some basic parameters of interest, such as population mean and variance. In these cases, we had intuitive estimators (sample mean and sample variance). However in more interesting and real scenarios, we work with complex models for which we can't intuit parameter estimates. One way to estimate such parameters is through a systematic method called **Maximum Likelihood estimation**. "
   ]
  },
  {
   "cell_type": "markdown",
   "metadata": {},
   "source": [
    "Suppose we have a collection of independent random samples of random variables $X_1, X_2, ..., X_n$ from the same probability distribution, each with an associated PDF $p_\\theta(x)$ which depends on some parameter $\\theta$. The joint PDF is $p_\\theta(x_1, x_2, ..., x_n) = p_\\theta(x_1)p_\\theta(x_2)...p_\\theta(x_n)$. "
   ]
  },
  {
   "cell_type": "markdown",
   "metadata": {},
   "source": [
    "Once we've observed the data, we can substitute $x_1, x_2, ..., x_n$ by the actual values of the samples, so $p_\\theta(x_1, x_2, ..., x_n)$ becomes a function of $\\theta$ alone. Thus we can write, \n",
    "\n",
    "$L(\\theta) = p_\\theta(x_1, x_2, ..., x_n)$\n",
    "\n",
    "This is called the **likelihood function**. The Maximum Likelihood Estimator of $\\theta$ (MLE) is the value $\\hat{\\theta}$ that maximizes the likelihood. Since the likelihood function is a product, and products are typically hard to maximize, we usually take the logarithms (recall the logarithmic properties) and maximize the log-likelihood instead. "
   ]
  },
  {
   "cell_type": "markdown",
   "metadata": {},
   "source": [
    "---\n",
    "##### Some Useful Logarithmic Properties\n",
    "\n",
    "* **Product Rule** $\\ln{(AB)} = \\ln{(A)} + \\ln{(B)}$\n",
    "* **Quotient Rule** $\\ln{(\\frac{A}{B})} = \\ln{(A)} - \\ln{(B)}$\n",
    "* **Power Rule** $\\ln{(A^x)} = x\\ln{(A)}$"
   ]
  },
  {
   "cell_type": "markdown",
   "metadata": {},
   "source": [
    "---\n",
    "#### Examples\n",
    "\n",
    "1. (Single parameter optimization) We have a collection of random samples that are binomially distributed with probability 0.5. Let's pretend we don't know that they have probability $p=0.5$ and want to estimate said parameter. The likelihood function for the binomial distribution can be given by the following: $L(p) = p^x(1-p)^{n-x}$, where $x$ is the total number of successes and $n$ is the total number of samples. "
   ]
  },
  {
   "cell_type": "markdown",
   "metadata": {},
   "source": [
    "In R, we can use `optim()`, a general-purpose optimization method for calculating MLEs using various algorithms. \n",
    "\n",
    "**Using `optim()`:**\n",
    "\n",
    "syntax: `optim(par, fn)`\n",
    "\n",
    "arguments: \n",
    "* `par` Initial values for the parameters to be optimized over.\n",
    "* `fn` A function to be minimized, with the first argument being the vector of parameters over which minimization is to take place. It should return a scalar result.\n",
    "\n",
    "output:\n",
    "* `par` The MLE set of parameters found.\n",
    "* `value` The value of `fn` corresponding to `par`.\n",
    "* `counts` The first value in the vector gives the number of calls to `fn`."
   ]
  },
  {
   "cell_type": "code",
   "execution_count": 73,
   "metadata": {},
   "outputs": [
    {
     "data": {
      "text/html": [
       "<style>\n",
       ".list-inline {list-style: none; margin:0; padding: 0}\n",
       ".list-inline>li {display: inline-block}\n",
       ".list-inline>li:not(:last-child)::after {content: \"\\00b7\"; padding: 0 .5ex}\n",
       "</style>\n",
       "<ol class=list-inline><li>0</li><li>0</li><li>0</li><li>0</li><li>0</li><li>1</li><li>0</li><li>1</li><li>0</li><li>0</li></ol>\n"
      ],
      "text/latex": [
       "\\begin{enumerate*}\n",
       "\\item 0\n",
       "\\item 0\n",
       "\\item 0\n",
       "\\item 0\n",
       "\\item 0\n",
       "\\item 1\n",
       "\\item 0\n",
       "\\item 1\n",
       "\\item 0\n",
       "\\item 0\n",
       "\\end{enumerate*}\n"
      ],
      "text/markdown": [
       "1. 0\n",
       "2. 0\n",
       "3. 0\n",
       "4. 0\n",
       "5. 0\n",
       "6. 1\n",
       "7. 0\n",
       "8. 1\n",
       "9. 0\n",
       "10. 0\n",
       "\n",
       "\n"
      ],
      "text/plain": [
       " [1] 0 0 0 0 0 1 0 1 0 0"
      ]
     },
     "metadata": {},
     "output_type": "display_data"
    }
   ],
   "source": [
    "# draw 10 binomially-distributed samples with p=0.5\n",
    "\n",
    "data1 <- rbinom(10, 1, 0.5)\n",
    "x <- sum(data1) # number of heads\n",
    "n <- length(data1) # number of samples\n",
    "data1"
   ]
  },
  {
   "cell_type": "code",
   "execution_count": 74,
   "metadata": {},
   "outputs": [],
   "source": [
    "# make likelihood function\n",
    "\n",
    "binom_like <- function(p){\n",
    "    L <- (p^x)*((1-p)^(n-x))\n",
    "    return(L)\n",
    "}"
   ]
  },
  {
   "cell_type": "code",
   "execution_count": 75,
   "metadata": {},
   "outputs": [
    {
     "data": {
      "image/png": "[encoded data removed]",
      "text/plain": [
       "plot without title"
      ]
     },
     "metadata": {
      "image/png": {
       "height": 420,
       "width": 420
      }
     },
     "output_type": "display_data"
    }
   ],
   "source": [
    "# plot the likelihood function for varying values of p\n",
    "\n",
    "seq_p <- seq(0,1, by=0.01) # create a sequence of numbers from 0 to 1 with breaks of size 0.01\n",
    "seq_y <- c()\n",
    "for(s in seq_p){\n",
    "  seq_y <- append(seq_y, binom_like(s)) # calculate the likelihood for every value in seq_p\n",
    "}\n",
    "\n",
    "plot(seq_p, seq_y)"
   ]
  },
  {
   "cell_type": "code",
   "execution_count": 76,
   "metadata": {},
   "outputs": [
    {
     "data": {
      "text/html": [
       "0.2"
      ],
      "text/latex": [
       "0.2"
      ],
      "text/markdown": [
       "0.2"
      ],
      "text/plain": [
       "[1] 0.2"
      ]
     },
     "metadata": {},
     "output_type": "display_data"
    }
   ],
   "source": [
    "# we can see which value gave us the maximum likelihood\n",
    "\n",
    "ind <- which(seq_y == max(seq_y))\n",
    "seq_p[ind]\n"
   ]
  },
  {
   "cell_type": "code",
   "execution_count": 78,
   "metadata": {},
   "outputs": [
    {
     "name": "stderr",
     "output_type": "stream",
     "text": [
      "Warning message in optim(0.9, binom_like):\n",
      "“one-dimensional optimization by Nelder-Mead is unreliable:\n",
      "use \"Brent\" or optimize() directly”\n"
     ]
    },
    {
     "data": {
      "text/html": [
       "<dl>\n",
       "\t<dt>$par</dt>\n",
       "\t\t<dd>0.200000009536743</dd>\n",
       "\t<dt>$value</dt>\n",
       "\t\t<dd>-0.00671088639999998</dd>\n",
       "\t<dt>$counts</dt>\n",
       "\t\t<dd><style>\n",
       ".dl-inline {width: auto; margin:0; padding: 0}\n",
       ".dl-inline>dt, .dl-inline>dd {float: none; width: auto; display: inline-block}\n",
       ".dl-inline>dt::after {content: \":\\0020\"; padding-right: .5ex}\n",
       ".dl-inline>dt:not(:first-of-type) {padding-left: .5ex}\n",
       "</style><dl class=dl-inline><dt>function</dt><dd>54</dd><dt>gradient</dt><dd>&lt;NA&gt;</dd></dl>\n",
       "</dd>\n",
       "\t<dt>$convergence</dt>\n",
       "\t\t<dd>0</dd>\n",
       "\t<dt>$message</dt>\n",
       "\t\t<dd>NULL</dd>\n",
       "</dl>\n"
      ],
      "text/latex": [
       "\\begin{description}\n",
       "\\item[\\$par] 0.200000009536743\n",
       "\\item[\\$value] -0.00671088639999998\n",
       "\\item[\\$counts] \\begin{description*}\n",
       "\\item[function] 54\n",
       "\\item[gradient] <NA>\n",
       "\\end{description*}\n",
       "\n",
       "\\item[\\$convergence] 0\n",
       "\\item[\\$message] NULL\n",
       "\\end{description}\n"
      ],
      "text/markdown": [
       "$par\n",
       ":   0.200000009536743\n",
       "$value\n",
       ":   -0.00671088639999998\n",
       "$counts\n",
       ":   function\n",
       ":   54gradient\n",
       ":   &lt;NA&gt;\n",
       "\n",
       "\n",
       "$convergence\n",
       ":   0\n",
       "$message\n",
       ":   NULL\n",
       "\n",
       "\n"
      ],
      "text/plain": [
       "$par\n",
       "[1] 0.2\n",
       "\n",
       "$value\n",
       "[1] -0.006710886\n",
       "\n",
       "$counts\n",
       "function gradient \n",
       "      54       NA \n",
       "\n",
       "$convergence\n",
       "[1] 0\n",
       "\n",
       "$message\n",
       "NULL\n"
      ]
     },
     "metadata": {},
     "output_type": "display_data"
    }
   ],
   "source": [
    "# using the optim() function; **NOTE** need to change the sign of the likelihood function\n",
    "\n",
    "binom_like <- function(p){\n",
    "    L <- (p^x)*((1-p)^(n-x))\n",
    "    return(-L)\n",
    "}\n",
    "\n",
    "res1 <- optim(0.9, binom_like)\n",
    "res1"
   ]
  },
  {
   "cell_type": "code",
   "execution_count": 79,
   "metadata": {},
   "outputs": [
    {
     "data": {
      "image/png": "[encoded data removed]",
      "text/plain": [
       "plot without title"
      ]
     },
     "metadata": {
      "image/png": {
       "height": 420,
       "width": 420
      }
     },
     "output_type": "display_data"
    }
   ],
   "source": [
    "## an aside of what changing the sign does\n",
    "# plot the likelihood function for varying values of p\n",
    "\n",
    "seq_p <- seq(0,1, by=0.01) # create a sequence of numbers from 0 to 1 with breaks of size 0.01\n",
    "seq_y <- c()\n",
    "for(s in seq_p){\n",
    "  seq_y <- append(seq_y, binom_like(s)) # calculate the likelihood for every value in seq_p\n",
    "}\n",
    "\n",
    "plot(seq_p, seq_y)"
   ]
  },
  {
   "cell_type": "code",
   "execution_count": null,
   "metadata": {},
   "outputs": [],
   "source": [
    "# what happens with different starting values?\n",
    "\n",
    "optim(5, binom_like)"
   ]
  },
  {
   "cell_type": "code",
   "execution_count": 80,
   "metadata": {},
   "outputs": [
    {
     "data": {
      "text/html": [
       "492"
      ],
      "text/latex": [
       "492"
      ],
      "text/markdown": [
       "492"
      ],
      "text/plain": [
       "[1] 492"
      ]
     },
     "metadata": {},
     "output_type": "display_data"
    }
   ],
   "source": [
    "# draw 1000 binomially-distributed samples with p=0.5\n",
    "\n",
    "data2 <- rbinom(1000, 1, 0.5)\n",
    "x <- sum(data2) # number of heads\n",
    "n <- length(data2) # number of samples\n",
    "x"
   ]
  },
  {
   "cell_type": "code",
   "execution_count": 81,
   "metadata": {},
   "outputs": [
    {
     "data": {
      "image/png": "[encoded data removed]",
      "text/plain": [
       "plot without title"
      ]
     },
     "metadata": {
      "image/png": {
       "height": 420,
       "width": 420
      }
     },
     "output_type": "display_data"
    }
   ],
   "source": [
    "# plot the likelihood function for varying values of p\n",
    "\n",
    "binom_like <- function(p){\n",
    "    L <- (p^x)*((1-p)^(n-x))\n",
    "    return(L)\n",
    "}\n",
    "\n",
    "\n",
    "seq_p <- seq(0,1, by=0.01) # create a sequence of numbers from 0 to 1 with breaks of size 0.01\n",
    "seq_y <- c()\n",
    "for(s in seq_p){\n",
    "  seq_y <- append(seq_y, binom_like(s)) # calculate the likelihood for every value in seq_p\n",
    "}\n",
    "\n",
    "plot(seq_p, seq_y)"
   ]
  },
  {
   "cell_type": "code",
   "execution_count": 82,
   "metadata": {},
   "outputs": [
    {
     "data": {
      "text/html": [
       "0.49"
      ],
      "text/latex": [
       "0.49"
      ],
      "text/markdown": [
       "0.49"
      ],
      "text/plain": [
       "[1] 0.49"
      ]
     },
     "metadata": {},
     "output_type": "display_data"
    }
   ],
   "source": [
    "ind <- which(seq_y == max(seq_y))\n",
    "seq_p[ind]"
   ]
  },
  {
   "cell_type": "code",
   "execution_count": 83,
   "metadata": {},
   "outputs": [
    {
     "name": "stderr",
     "output_type": "stream",
     "text": [
      "Warning message in optim(0.9, binom_like):\n",
      "“one-dimensional optimization by Nelder-Mead is unreliable:\n",
      "use \"Brent\" or optimize() directly”\n"
     ]
    },
    {
     "data": {
      "text/html": [
       "<dl>\n",
       "\t<dt>$par</dt>\n",
       "\t\t<dd>0.9</dd>\n",
       "\t<dt>$value</dt>\n",
       "\t\t<dd>0</dd>\n",
       "\t<dt>$counts</dt>\n",
       "\t\t<dd><style>\n",
       ".dl-inline {width: auto; margin:0; padding: 0}\n",
       ".dl-inline>dt, .dl-inline>dd {float: none; width: auto; display: inline-block}\n",
       ".dl-inline>dt::after {content: \":\\0020\"; padding-right: .5ex}\n",
       ".dl-inline>dt:not(:first-of-type) {padding-left: .5ex}\n",
       "</style><dl class=dl-inline><dt>function</dt><dd>2</dd><dt>gradient</dt><dd>&lt;NA&gt;</dd></dl>\n",
       "</dd>\n",
       "\t<dt>$convergence</dt>\n",
       "\t\t<dd>0</dd>\n",
       "\t<dt>$message</dt>\n",
       "\t\t<dd>NULL</dd>\n",
       "</dl>\n"
      ],
      "text/latex": [
       "\\begin{description}\n",
       "\\item[\\$par] 0.9\n",
       "\\item[\\$value] 0\n",
       "\\item[\\$counts] \\begin{description*}\n",
       "\\item[function] 2\n",
       "\\item[gradient] <NA>\n",
       "\\end{description*}\n",
       "\n",
       "\\item[\\$convergence] 0\n",
       "\\item[\\$message] NULL\n",
       "\\end{description}\n"
      ],
      "text/markdown": [
       "$par\n",
       ":   0.9\n",
       "$value\n",
       ":   0\n",
       "$counts\n",
       ":   function\n",
       ":   2gradient\n",
       ":   &lt;NA&gt;\n",
       "\n",
       "\n",
       "$convergence\n",
       ":   0\n",
       "$message\n",
       ":   NULL\n",
       "\n",
       "\n"
      ],
      "text/plain": [
       "$par\n",
       "[1] 0.9\n",
       "\n",
       "$value\n",
       "[1] 0\n",
       "\n",
       "$counts\n",
       "function gradient \n",
       "       2       NA \n",
       "\n",
       "$convergence\n",
       "[1] 0\n",
       "\n",
       "$message\n",
       "NULL\n"
      ]
     },
     "metadata": {},
     "output_type": "display_data"
    }
   ],
   "source": [
    "# using the optim() function; **NOTE** need to change the sign of the likelihood function\n",
    "# with more samples, because the likelihood is a product, it becomes nearly impossible to actually maximize\n",
    "\n",
    "binom_like <- function(p){\n",
    "    L <- (p^x)*((1-p)^(n-x))\n",
    "    return(-L)\n",
    "}\n",
    "\n",
    "optim(0.9, binom_like)\n"
   ]
  },
  {
   "cell_type": "code",
   "execution_count": 84,
   "metadata": {},
   "outputs": [
    {
     "name": "stderr",
     "output_type": "stream",
     "text": [
      "Warning message in optim(0.9, binom_logLike):\n",
      "“one-dimensional optimization by Nelder-Mead is unreliable:\n",
      "use \"Brent\" or optimize() directly”\n"
     ]
    },
    {
     "data": {
      "text/html": [
       "<dl>\n",
       "\t<dt>$par</dt>\n",
       "\t\t<dd>0.4918359375</dd>\n",
       "\t<dt>$value</dt>\n",
       "\t\t<dd>693.019228945225</dd>\n",
       "\t<dt>$counts</dt>\n",
       "\t\t<dd><style>\n",
       ".dl-inline {width: auto; margin:0; padding: 0}\n",
       ".dl-inline>dt, .dl-inline>dd {float: none; width: auto; display: inline-block}\n",
       ".dl-inline>dt::after {content: \":\\0020\"; padding-right: .5ex}\n",
       ".dl-inline>dt:not(:first-of-type) {padding-left: .5ex}\n",
       "</style><dl class=dl-inline><dt>function</dt><dd>24</dd><dt>gradient</dt><dd>&lt;NA&gt;</dd></dl>\n",
       "</dd>\n",
       "\t<dt>$convergence</dt>\n",
       "\t\t<dd>0</dd>\n",
       "\t<dt>$message</dt>\n",
       "\t\t<dd>NULL</dd>\n",
       "</dl>\n"
      ],
      "text/latex": [
       "\\begin{description}\n",
       "\\item[\\$par] 0.4918359375\n",
       "\\item[\\$value] 693.019228945225\n",
       "\\item[\\$counts] \\begin{description*}\n",
       "\\item[function] 24\n",
       "\\item[gradient] <NA>\n",
       "\\end{description*}\n",
       "\n",
       "\\item[\\$convergence] 0\n",
       "\\item[\\$message] NULL\n",
       "\\end{description}\n"
      ],
      "text/markdown": [
       "$par\n",
       ":   0.4918359375\n",
       "$value\n",
       ":   693.019228945225\n",
       "$counts\n",
       ":   function\n",
       ":   24gradient\n",
       ":   &lt;NA&gt;\n",
       "\n",
       "\n",
       "$convergence\n",
       ":   0\n",
       "$message\n",
       ":   NULL\n",
       "\n",
       "\n"
      ],
      "text/plain": [
       "$par\n",
       "[1] 0.4918359\n",
       "\n",
       "$value\n",
       "[1] 693.0192\n",
       "\n",
       "$counts\n",
       "function gradient \n",
       "      24       NA \n",
       "\n",
       "$convergence\n",
       "[1] 0\n",
       "\n",
       "$message\n",
       "NULL\n"
      ]
     },
     "metadata": {},
     "output_type": "display_data"
    }
   ],
   "source": [
    "# create log-likelihood function\n",
    "# always want to take the log of the individual expression components and not the original likelihood function - it\n",
    "# preserves accuracy that would be lost from rounding\n",
    "\n",
    "binom_logLike <- function(p){\n",
    "    logL <- x*log(p)+(n-x)*log(1-p)\n",
    "    return(-logL)\n",
    "}\n",
    "\n",
    "res2 <- optim(0.9, binom_logLike)\n",
    "res2\n",
    "\n"
   ]
  },
  {
   "cell_type": "code",
   "execution_count": 85,
   "metadata": {},
   "outputs": [
    {
     "data": {
      "image/png": "[encoded data removed]",
      "text/plain": [
       "plot without title"
      ]
     },
     "metadata": {
      "image/png": {
       "height": 420,
       "width": 420
      }
     },
     "output_type": "display_data"
    }
   ],
   "source": [
    "# changing to a log-scale doesn't affect the MLE\n",
    "\n",
    "seq_p <- seq(0,1, by=0.01) # create a sequence of numbers from 0 to 1 with breaks of size 0.01\n",
    "seq_z <- c()\n",
    "for(s in seq_p){\n",
    "  seq_z <- append(seq_z, binom_like(s)) # calculate the likelihood for every value in seq_p\n",
    "}\n",
    "\n",
    "plot(seq_p, seq_z)\n"
   ]
  },
  {
   "cell_type": "code",
   "execution_count": 86,
   "metadata": {},
   "outputs": [
    {
     "name": "stderr",
     "output_type": "stream",
     "text": [
      "Warning message in optim(0.9, binom_logLike):\n",
      "“one-dimensional optimization by Nelder-Mead is unreliable:\n",
      "use \"Brent\" or optimize() directly”\n"
     ]
    },
    {
     "data": {
      "text/html": [
       "<dl>\n",
       "\t<dt>$par</dt>\n",
       "\t\t<dd>0.2000390625</dd>\n",
       "\t<dt>$value</dt>\n",
       "\t\t<dd>5.00402428306094</dd>\n",
       "\t<dt>$counts</dt>\n",
       "\t\t<dd><style>\n",
       ".dl-inline {width: auto; margin:0; padding: 0}\n",
       ".dl-inline>dt, .dl-inline>dd {float: none; width: auto; display: inline-block}\n",
       ".dl-inline>dt::after {content: \":\\0020\"; padding-right: .5ex}\n",
       ".dl-inline>dt:not(:first-of-type) {padding-left: .5ex}\n",
       "</style><dl class=dl-inline><dt>function</dt><dd>32</dd><dt>gradient</dt><dd>&lt;NA&gt;</dd></dl>\n",
       "</dd>\n",
       "\t<dt>$convergence</dt>\n",
       "\t\t<dd>0</dd>\n",
       "\t<dt>$message</dt>\n",
       "\t\t<dd>NULL</dd>\n",
       "</dl>\n"
      ],
      "text/latex": [
       "\\begin{description}\n",
       "\\item[\\$par] 0.2000390625\n",
       "\\item[\\$value] 5.00402428306094\n",
       "\\item[\\$counts] \\begin{description*}\n",
       "\\item[function] 32\n",
       "\\item[gradient] <NA>\n",
       "\\end{description*}\n",
       "\n",
       "\\item[\\$convergence] 0\n",
       "\\item[\\$message] NULL\n",
       "\\end{description}\n"
      ],
      "text/markdown": [
       "$par\n",
       ":   0.2000390625\n",
       "$value\n",
       ":   5.00402428306094\n",
       "$counts\n",
       ":   function\n",
       ":   32gradient\n",
       ":   &lt;NA&gt;\n",
       "\n",
       "\n",
       "$convergence\n",
       ":   0\n",
       "$message\n",
       ":   NULL\n",
       "\n",
       "\n"
      ],
      "text/plain": [
       "$par\n",
       "[1] 0.2000391\n",
       "\n",
       "$value\n",
       "[1] 5.004024\n",
       "\n",
       "$counts\n",
       "function gradient \n",
       "      32       NA \n",
       "\n",
       "$convergence\n",
       "[1] 0\n",
       "\n",
       "$message\n",
       "NULL\n"
      ]
     },
     "metadata": {},
     "output_type": "display_data"
    }
   ],
   "source": [
    "# what about the log-likelihood on the original dataset of 20 samples?\n",
    "x <- sum(data1)\n",
    "n <- length(data1)\n",
    "\n",
    "optim(0.9, binom_logLike)"
   ]
  },
  {
   "cell_type": "code",
   "execution_count": 87,
   "metadata": {},
   "outputs": [
    {
     "data": {
      "text/html": [
       "<dl>\n",
       "\t<dt>$par</dt>\n",
       "\t\t<dd>0.200000009536743</dd>\n",
       "\t<dt>$value</dt>\n",
       "\t\t<dd>-0.00671088639999998</dd>\n",
       "\t<dt>$counts</dt>\n",
       "\t\t<dd><style>\n",
       ".dl-inline {width: auto; margin:0; padding: 0}\n",
       ".dl-inline>dt, .dl-inline>dd {float: none; width: auto; display: inline-block}\n",
       ".dl-inline>dt::after {content: \":\\0020\"; padding-right: .5ex}\n",
       ".dl-inline>dt:not(:first-of-type) {padding-left: .5ex}\n",
       "</style><dl class=dl-inline><dt>function</dt><dd>54</dd><dt>gradient</dt><dd>&lt;NA&gt;</dd></dl>\n",
       "</dd>\n",
       "\t<dt>$convergence</dt>\n",
       "\t\t<dd>0</dd>\n",
       "\t<dt>$message</dt>\n",
       "\t\t<dd>NULL</dd>\n",
       "</dl>\n"
      ],
      "text/latex": [
       "\\begin{description}\n",
       "\\item[\\$par] 0.200000009536743\n",
       "\\item[\\$value] -0.00671088639999998\n",
       "\\item[\\$counts] \\begin{description*}\n",
       "\\item[function] 54\n",
       "\\item[gradient] <NA>\n",
       "\\end{description*}\n",
       "\n",
       "\\item[\\$convergence] 0\n",
       "\\item[\\$message] NULL\n",
       "\\end{description}\n"
      ],
      "text/markdown": [
       "$par\n",
       ":   0.200000009536743\n",
       "$value\n",
       ":   -0.00671088639999998\n",
       "$counts\n",
       ":   function\n",
       ":   54gradient\n",
       ":   &lt;NA&gt;\n",
       "\n",
       "\n",
       "$convergence\n",
       ":   0\n",
       "$message\n",
       ":   NULL\n",
       "\n",
       "\n"
      ],
      "text/plain": [
       "$par\n",
       "[1] 0.2\n",
       "\n",
       "$value\n",
       "[1] -0.006710886\n",
       "\n",
       "$counts\n",
       "function gradient \n",
       "      54       NA \n",
       "\n",
       "$convergence\n",
       "[1] 0\n",
       "\n",
       "$message\n",
       "NULL\n"
      ]
     },
     "metadata": {},
     "output_type": "display_data"
    }
   ],
   "source": [
    "res1"
   ]
  },
  {
   "cell_type": "markdown",
   "metadata": {},
   "source": [
    "#### Examples\n",
    "\n",
    "2. (Multiple parameter optimization) Suppose we have 10 random samples drawn from a normal distribution, with unknown mean $\\mu$ and variance $\\sigma^2$. The log-likelihood function for the normal distribution is $L(\\mu,\\sigma^2) = -.5n\\ln{(2\\pi)}-.5n\\ln{(\\sigma^2)}-\\frac{1}{2\\sigma^2}\\sum_i(y_i-\\mu)^2$. Find the MLEs for both $\\mu$ and $\\sigma^2$."
   ]
  },
  {
   "cell_type": "code",
   "execution_count": 88,
   "metadata": {},
   "outputs": [],
   "source": [
    "data <- rnorm(10, 50, 2)\n",
    "n <- length(data)"
   ]
  },
  {
   "cell_type": "code",
   "execution_count": 94,
   "metadata": {},
   "outputs": [],
   "source": [
    "# define the log-likelihood function\n",
    "\n",
    "normal_logLike <- function(theta){\n",
    "  mu <- theta[1]\n",
    "  sigma2 <- theta[2]\n",
    "  \n",
    "  logL <- -.5*n*log(2*pi) -.5*n*log(sigma2) - (1/(2*sigma2))*sum((data-mu)**2)\n",
    "  return(-logL)\n",
    "}"
   ]
  },
  {
   "cell_type": "code",
   "execution_count": 90,
   "metadata": {},
   "outputs": [
    {
     "data": {
      "text/html": [
       "<dl>\n",
       "\t<dt>$par</dt>\n",
       "\t\t<dd><style>\n",
       ".list-inline {list-style: none; margin:0; padding: 0}\n",
       ".list-inline>li {display: inline-block}\n",
       ".list-inline>li:not(:last-child)::after {content: \"\\00b7\"; padding: 0 .5ex}\n",
       "</style>\n",
       "<ol class=list-inline><li>50.1544777758533</li><li>4.60238205541082</li></ol>\n",
       "</dd>\n",
       "\t<dt>$value</dt>\n",
       "\t\t<dd>21.8225441625849</dd>\n",
       "\t<dt>$counts</dt>\n",
       "\t\t<dd><style>\n",
       ".dl-inline {width: auto; margin:0; padding: 0}\n",
       ".dl-inline>dt, .dl-inline>dd {float: none; width: auto; display: inline-block}\n",
       ".dl-inline>dt::after {content: \":\\0020\"; padding-right: .5ex}\n",
       ".dl-inline>dt:not(:first-of-type) {padding-left: .5ex}\n",
       "</style><dl class=dl-inline><dt>function</dt><dd>59</dd><dt>gradient</dt><dd>&lt;NA&gt;</dd></dl>\n",
       "</dd>\n",
       "\t<dt>$convergence</dt>\n",
       "\t\t<dd>0</dd>\n",
       "\t<dt>$message</dt>\n",
       "\t\t<dd>NULL</dd>\n",
       "</dl>\n"
      ],
      "text/latex": [
       "\\begin{description}\n",
       "\\item[\\$par] \\begin{enumerate*}\n",
       "\\item 50.1544777758533\n",
       "\\item 4.60238205541082\n",
       "\\end{enumerate*}\n",
       "\n",
       "\\item[\\$value] 21.8225441625849\n",
       "\\item[\\$counts] \\begin{description*}\n",
       "\\item[function] 59\n",
       "\\item[gradient] <NA>\n",
       "\\end{description*}\n",
       "\n",
       "\\item[\\$convergence] 0\n",
       "\\item[\\$message] NULL\n",
       "\\end{description}\n"
      ],
      "text/markdown": [
       "$par\n",
       ":   1. 50.1544777758533\n",
       "2. 4.60238205541082\n",
       "\n",
       "\n",
       "\n",
       "$value\n",
       ":   21.8225441625849\n",
       "$counts\n",
       ":   function\n",
       ":   59gradient\n",
       ":   &lt;NA&gt;\n",
       "\n",
       "\n",
       "$convergence\n",
       ":   0\n",
       "$message\n",
       ":   NULL\n",
       "\n",
       "\n"
      ],
      "text/plain": [
       "$par\n",
       "[1] 50.154478  4.602382\n",
       "\n",
       "$value\n",
       "[1] 21.82254\n",
       "\n",
       "$counts\n",
       "function gradient \n",
       "      59       NA \n",
       "\n",
       "$convergence\n",
       "[1] 0\n",
       "\n",
       "$message\n",
       "NULL\n"
      ]
     },
     "metadata": {},
     "output_type": "display_data"
    }
   ],
   "source": [
    "optim(c(mean(data), var(data)), normal_logLike)\n"
   ]
  },
  {
   "cell_type": "code",
   "execution_count": 93,
   "metadata": {},
   "outputs": [
    {
     "data": {
      "text/html": [
       "<table class=\"dataframe\">\n",
       "<caption>A matrix: 6 × 201 of type dbl</caption>\n",
       "<tbody>\n",
       "\t<tr><td>32.03884</td><td>32.01272</td><td>31.98676</td><td>31.96095</td><td>31.93530</td><td>31.90980</td><td>31.88444</td><td>31.85924</td><td>31.83419</td><td>31.80928</td><td>⋯</td><td>28.94318</td><td>28.93361</td><td>28.92410</td><td>28.91462</td><td>28.90519</td><td>28.89581</td><td>28.88647</td><td>28.87718</td><td>28.86792</td><td>28.85872</td></tr>\n",
       "\t<tr><td>31.96860</td><td>31.94265</td><td>31.91686</td><td>31.89122</td><td>31.86574</td><td>31.84040</td><td>31.81521</td><td>31.79018</td><td>31.76529</td><td>31.74055</td><td>⋯</td><td>28.89521</td><td>28.88572</td><td>28.87629</td><td>28.86689</td><td>28.85754</td><td>28.84824</td><td>28.83897</td><td>28.82976</td><td>28.82058</td><td>28.81145</td></tr>\n",
       "\t<tr><td>31.89861</td><td>31.87283</td><td>31.84720</td><td>31.82173</td><td>31.79641</td><td>31.77124</td><td>31.74622</td><td>31.72135</td><td>31.69663</td><td>31.67205</td><td>⋯</td><td>28.84741</td><td>28.83800</td><td>28.82864</td><td>28.81932</td><td>28.81005</td><td>28.80083</td><td>28.79164</td><td>28.78250</td><td>28.77341</td><td>28.76435</td></tr>\n",
       "\t<tr><td>31.82885</td><td>31.80324</td><td>31.77779</td><td>31.75248</td><td>31.72733</td><td>31.70233</td><td>31.67747</td><td>31.65277</td><td>31.62821</td><td>31.60379</td><td>⋯</td><td>28.79977</td><td>28.79044</td><td>28.78116</td><td>28.77192</td><td>28.76273</td><td>28.75358</td><td>28.74448</td><td>28.73541</td><td>28.72639</td><td>28.71742</td></tr>\n",
       "\t<tr><td>31.75934</td><td>31.73390</td><td>31.70861</td><td>31.68348</td><td>31.65849</td><td>31.63365</td><td>31.60896</td><td>31.58442</td><td>31.56002</td><td>31.53577</td><td>⋯</td><td>28.75230</td><td>28.74305</td><td>28.73385</td><td>28.72469</td><td>28.71557</td><td>28.70650</td><td>28.69747</td><td>28.68849</td><td>28.67955</td><td>28.67065</td></tr>\n",
       "\t<tr><td>31.69008</td><td>31.66480</td><td>31.63968</td><td>31.61471</td><td>31.58989</td><td>31.56522</td><td>31.54069</td><td>31.51631</td><td>31.49208</td><td>31.46798</td><td>⋯</td><td>28.70499</td><td>28.69582</td><td>28.68670</td><td>28.67762</td><td>28.66858</td><td>28.65959</td><td>28.65063</td><td>28.64173</td><td>28.63286</td><td>28.62404</td></tr>\n",
       "</tbody>\n",
       "</table>\n"
      ],
      "text/latex": [
       "A matrix: 6 × 201 of type dbl\n",
       "\\begin{tabular}{lllllllllllllllllllll}\n",
       "\t 32.03884 & 32.01272 & 31.98676 & 31.96095 & 31.93530 & 31.90980 & 31.88444 & 31.85924 & 31.83419 & 31.80928 & ⋯ & 28.94318 & 28.93361 & 28.92410 & 28.91462 & 28.90519 & 28.89581 & 28.88647 & 28.87718 & 28.86792 & 28.85872\\\\\n",
       "\t 31.96860 & 31.94265 & 31.91686 & 31.89122 & 31.86574 & 31.84040 & 31.81521 & 31.79018 & 31.76529 & 31.74055 & ⋯ & 28.89521 & 28.88572 & 28.87629 & 28.86689 & 28.85754 & 28.84824 & 28.83897 & 28.82976 & 28.82058 & 28.81145\\\\\n",
       "\t 31.89861 & 31.87283 & 31.84720 & 31.82173 & 31.79641 & 31.77124 & 31.74622 & 31.72135 & 31.69663 & 31.67205 & ⋯ & 28.84741 & 28.83800 & 28.82864 & 28.81932 & 28.81005 & 28.80083 & 28.79164 & 28.78250 & 28.77341 & 28.76435\\\\\n",
       "\t 31.82885 & 31.80324 & 31.77779 & 31.75248 & 31.72733 & 31.70233 & 31.67747 & 31.65277 & 31.62821 & 31.60379 & ⋯ & 28.79977 & 28.79044 & 28.78116 & 28.77192 & 28.76273 & 28.75358 & 28.74448 & 28.73541 & 28.72639 & 28.71742\\\\\n",
       "\t 31.75934 & 31.73390 & 31.70861 & 31.68348 & 31.65849 & 31.63365 & 31.60896 & 31.58442 & 31.56002 & 31.53577 & ⋯ & 28.75230 & 28.74305 & 28.73385 & 28.72469 & 28.71557 & 28.70650 & 28.69747 & 28.68849 & 28.67955 & 28.67065\\\\\n",
       "\t 31.69008 & 31.66480 & 31.63968 & 31.61471 & 31.58989 & 31.56522 & 31.54069 & 31.51631 & 31.49208 & 31.46798 & ⋯ & 28.70499 & 28.69582 & 28.68670 & 28.67762 & 28.66858 & 28.65959 & 28.65063 & 28.64173 & 28.63286 & 28.62404\\\\\n",
       "\\end{tabular}\n"
      ],
      "text/markdown": [
       "\n",
       "A matrix: 6 × 201 of type dbl\n",
       "\n",
       "| 32.03884 | 32.01272 | 31.98676 | 31.96095 | 31.93530 | 31.90980 | 31.88444 | 31.85924 | 31.83419 | 31.80928 | ⋯ | 28.94318 | 28.93361 | 28.92410 | 28.91462 | 28.90519 | 28.89581 | 28.88647 | 28.87718 | 28.86792 | 28.85872 |\n",
       "| 31.96860 | 31.94265 | 31.91686 | 31.89122 | 31.86574 | 31.84040 | 31.81521 | 31.79018 | 31.76529 | 31.74055 | ⋯ | 28.89521 | 28.88572 | 28.87629 | 28.86689 | 28.85754 | 28.84824 | 28.83897 | 28.82976 | 28.82058 | 28.81145 |\n",
       "| 31.89861 | 31.87283 | 31.84720 | 31.82173 | 31.79641 | 31.77124 | 31.74622 | 31.72135 | 31.69663 | 31.67205 | ⋯ | 28.84741 | 28.83800 | 28.82864 | 28.81932 | 28.81005 | 28.80083 | 28.79164 | 28.78250 | 28.77341 | 28.76435 |\n",
       "| 31.82885 | 31.80324 | 31.77779 | 31.75248 | 31.72733 | 31.70233 | 31.67747 | 31.65277 | 31.62821 | 31.60379 | ⋯ | 28.79977 | 28.79044 | 28.78116 | 28.77192 | 28.76273 | 28.75358 | 28.74448 | 28.73541 | 28.72639 | 28.71742 |\n",
       "| 31.75934 | 31.73390 | 31.70861 | 31.68348 | 31.65849 | 31.63365 | 31.60896 | 31.58442 | 31.56002 | 31.53577 | ⋯ | 28.75230 | 28.74305 | 28.73385 | 28.72469 | 28.71557 | 28.70650 | 28.69747 | 28.68849 | 28.67955 | 28.67065 |\n",
       "| 31.69008 | 31.66480 | 31.63968 | 31.61471 | 31.58989 | 31.56522 | 31.54069 | 31.51631 | 31.49208 | 31.46798 | ⋯ | 28.70499 | 28.69582 | 28.68670 | 28.67762 | 28.66858 | 28.65959 | 28.65063 | 28.64173 | 28.63286 | 28.62404 |\n",
       "\n"
      ],
      "text/plain": [
       "     [,1]     [,2]     [,3]     [,4]     [,5]     [,6]     [,7]     [,8]    \n",
       "[1,] 32.03884 32.01272 31.98676 31.96095 31.93530 31.90980 31.88444 31.85924\n",
       "[2,] 31.96860 31.94265 31.91686 31.89122 31.86574 31.84040 31.81521 31.79018\n",
       "[3,] 31.89861 31.87283 31.84720 31.82173 31.79641 31.77124 31.74622 31.72135\n",
       "[4,] 31.82885 31.80324 31.77779 31.75248 31.72733 31.70233 31.67747 31.65277\n",
       "[5,] 31.75934 31.73390 31.70861 31.68348 31.65849 31.63365 31.60896 31.58442\n",
       "[6,] 31.69008 31.66480 31.63968 31.61471 31.58989 31.56522 31.54069 31.51631\n",
       "     [,9]     [,10]    [,11] [,12]    [,13]    [,14]    [,15]    [,16]   \n",
       "[1,] 31.83419 31.80928 ⋯     28.94318 28.93361 28.92410 28.91462 28.90519\n",
       "[2,] 31.76529 31.74055 ⋯     28.89521 28.88572 28.87629 28.86689 28.85754\n",
       "[3,] 31.69663 31.67205 ⋯     28.84741 28.83800 28.82864 28.81932 28.81005\n",
       "[4,] 31.62821 31.60379 ⋯     28.79977 28.79044 28.78116 28.77192 28.76273\n",
       "[5,] 31.56002 31.53577 ⋯     28.75230 28.74305 28.73385 28.72469 28.71557\n",
       "[6,] 31.49208 31.46798 ⋯     28.70499 28.69582 28.68670 28.67762 28.66858\n",
       "     [,17]    [,18]    [,19]    [,20]    [,21]   \n",
       "[1,] 28.89581 28.88647 28.87718 28.86792 28.85872\n",
       "[2,] 28.84824 28.83897 28.82976 28.82058 28.81145\n",
       "[3,] 28.80083 28.79164 28.78250 28.77341 28.76435\n",
       "[4,] 28.75358 28.74448 28.73541 28.72639 28.71742\n",
       "[5,] 28.70650 28.69747 28.68849 28.67955 28.67065\n",
       "[6,] 28.65959 28.65063 28.64173 28.63286 28.62404"
      ]
     },
     "metadata": {},
     "output_type": "display_data"
    }
   ],
   "source": [
    "# contour plot the likelihood function for varying values of a, b\n",
    "#library(plotly)\n",
    "\n",
    "mu_seq <- round(seq(min(data), max(data), by=0.01),2)\n",
    "s2_seq <- seq(var(data)-1, var(data)+1, by=0.01)\n",
    "\n",
    "grid_like <- matrix(NA, length(mu_seq),length(s2_seq))\n",
    "for(i in 1:length(mu_seq)){\n",
    "  for(j in 1:length(s2_seq)){\n",
    "    grid_like[i,j] <- normal_logLike(c(mu_seq[i], s2_seq[j]))\n",
    "  }\n",
    "}\n",
    "\n",
    "head(grid_like)"
   ]
  },
  {
   "cell_type": "markdown",
   "metadata": {},
   "source": [
    "### Questions"
   ]
  },
  {
   "cell_type": "markdown",
   "metadata": {},
   "source": [
    "1. Suppose the weights of randomly selected American female college students are normally distributed with unknown mean  and standard deviation . A random sample of 10 American female college students yielded the following weights (in pounds):\n",
    "\n",
    "115 122 130 127 149 160 152 138 149 180\n",
    "\n",
    "Using the given sample, find a maximum likelihood estimate of $\\mu$ and $\\sigma^2$."
   ]
  },
  {
   "cell_type": "code",
   "execution_count": 103,
   "metadata": {},
   "outputs": [
    {
     "data": {
      "text/html": [
       "<dl>\n",
       "\t<dt>$par</dt>\n",
       "\t\t<dd><style>\n",
       ".list-inline {list-style: none; margin:0; padding: 0}\n",
       ".list-inline>li {display: inline-block}\n",
       ".list-inline>li:not(:last-child)::after {content: \"\\00b7\"; padding: 0 .5ex}\n",
       "</style>\n",
       "<ol class=list-inline><li>142.2</li><li>347.96</li></ol>\n",
       "</dd>\n",
       "\t<dt>$value</dt>\n",
       "\t\t<dd>43.4498229852434</dd>\n",
       "\t<dt>$counts</dt>\n",
       "\t\t<dd><style>\n",
       ".dl-inline {width: auto; margin:0; padding: 0}\n",
       ".dl-inline>dt, .dl-inline>dd {float: none; width: auto; display: inline-block}\n",
       ".dl-inline>dt::after {content: \":\\0020\"; padding-right: .5ex}\n",
       ".dl-inline>dt:not(:first-of-type) {padding-left: .5ex}\n",
       "</style><dl class=dl-inline><dt>function</dt><dd>51</dd><dt>gradient</dt><dd>&lt;NA&gt;</dd></dl>\n",
       "</dd>\n",
       "\t<dt>$convergence</dt>\n",
       "\t\t<dd>0</dd>\n",
       "\t<dt>$message</dt>\n",
       "\t\t<dd>NULL</dd>\n",
       "</dl>\n"
      ],
      "text/latex": [
       "\\begin{description}\n",
       "\\item[\\$par] \\begin{enumerate*}\n",
       "\\item 142.2\n",
       "\\item 347.96\n",
       "\\end{enumerate*}\n",
       "\n",
       "\\item[\\$value] 43.4498229852434\n",
       "\\item[\\$counts] \\begin{description*}\n",
       "\\item[function] 51\n",
       "\\item[gradient] <NA>\n",
       "\\end{description*}\n",
       "\n",
       "\\item[\\$convergence] 0\n",
       "\\item[\\$message] NULL\n",
       "\\end{description}\n"
      ],
      "text/markdown": [
       "$par\n",
       ":   1. 142.2\n",
       "2. 347.96\n",
       "\n",
       "\n",
       "\n",
       "$value\n",
       ":   43.4498229852434\n",
       "$counts\n",
       ":   function\n",
       ":   51gradient\n",
       ":   &lt;NA&gt;\n",
       "\n",
       "\n",
       "$convergence\n",
       ":   0\n",
       "$message\n",
       ":   NULL\n",
       "\n",
       "\n"
      ],
      "text/plain": [
       "$par\n",
       "[1] 142.20 347.96\n",
       "\n",
       "$value\n",
       "[1] 43.44982\n",
       "\n",
       "$counts\n",
       "function gradient \n",
       "      51       NA \n",
       "\n",
       "$convergence\n",
       "[1] 0\n",
       "\n",
       "$message\n",
       "NULL\n"
      ]
     },
     "metadata": {},
     "output_type": "display_data"
    }
   ],
   "source": [
    "data <- c(115, 122, 130, 127, 149, 160, 152, 138, 149, 180)\n",
    "n <- length(data)\n",
    "\n",
    "# define the log-likelihood function\n",
    "\n",
    "normal_logLike <- function(theta){\n",
    "  mu <- theta[1]\n",
    "  sigma2 <- theta[2]\n",
    "  \n",
    "  logL <- -.5*n*log(2*pi) -.5*n*log(sigma2) - (1/(2*sigma2))*sum((data-mu)**2)\n",
    "  return(-logL)\n",
    "}\n",
    "\n",
    "optim(c(mean(data), var(data)), normal_logLike)"
   ]
  },
  {
   "cell_type": "markdown",
   "metadata": {},
   "source": [
    "2. Suppose that the lifetime of Badger brand light bulbs is modeled by an exponential distribution with (unknown) parameter $\\lambda$. We test 5 bulbs and find they have lifetimes of 2, 3, 1, 3, and 4 years, respectively. What is the MLE for $\\lambda$?"
   ]
  },
  {
   "cell_type": "markdown",
   "metadata": {},
   "source": [
    "Log likelihood function for exponential:\n",
    "$nln(\\lambda)-\\lambda\\sum_{j=1}^nx_j$"
   ]
  },
  {
   "cell_type": "code",
   "execution_count": 96,
   "metadata": {},
   "outputs": [
    {
     "name": "stderr",
     "output_type": "stream",
     "text": [
      "Warning message in optim(0.5, exp_logLike):\n",
      "“one-dimensional optimization by Nelder-Mead is unreliable:\n",
      "use \"Brent\" or optimize() directly”\n"
     ]
    },
    {
     "data": {
      "text/html": [
       "<dl>\n",
       "\t<dt>$par</dt>\n",
       "\t\t<dd>0.3845703125</dd>\n",
       "\t<dt>$value</dt>\n",
       "\t\t<dd>9.77755725947214</dd>\n",
       "\t<dt>$counts</dt>\n",
       "\t\t<dd><style>\n",
       ".dl-inline {width: auto; margin:0; padding: 0}\n",
       ".dl-inline>dt, .dl-inline>dd {float: none; width: auto; display: inline-block}\n",
       ".dl-inline>dt::after {content: \":\\0020\"; padding-right: .5ex}\n",
       ".dl-inline>dt:not(:first-of-type) {padding-left: .5ex}\n",
       "</style><dl class=dl-inline><dt>function</dt><dd>24</dd><dt>gradient</dt><dd>&lt;NA&gt;</dd></dl>\n",
       "</dd>\n",
       "\t<dt>$convergence</dt>\n",
       "\t\t<dd>0</dd>\n",
       "\t<dt>$message</dt>\n",
       "\t\t<dd>NULL</dd>\n",
       "</dl>\n"
      ],
      "text/latex": [
       "\\begin{description}\n",
       "\\item[\\$par] 0.3845703125\n",
       "\\item[\\$value] 9.77755725947214\n",
       "\\item[\\$counts] \\begin{description*}\n",
       "\\item[function] 24\n",
       "\\item[gradient] <NA>\n",
       "\\end{description*}\n",
       "\n",
       "\\item[\\$convergence] 0\n",
       "\\item[\\$message] NULL\n",
       "\\end{description}\n"
      ],
      "text/markdown": [
       "$par\n",
       ":   0.3845703125\n",
       "$value\n",
       ":   9.77755725947214\n",
       "$counts\n",
       ":   function\n",
       ":   24gradient\n",
       ":   &lt;NA&gt;\n",
       "\n",
       "\n",
       "$convergence\n",
       ":   0\n",
       "$message\n",
       ":   NULL\n",
       "\n",
       "\n"
      ],
      "text/plain": [
       "$par\n",
       "[1] 0.3845703\n",
       "\n",
       "$value\n",
       "[1] 9.777557\n",
       "\n",
       "$counts\n",
       "function gradient \n",
       "      24       NA \n",
       "\n",
       "$convergence\n",
       "[1] 0\n",
       "\n",
       "$message\n",
       "NULL\n"
      ]
     },
     "metadata": {},
     "output_type": "display_data"
    }
   ],
   "source": [
    "data <- c(2,3,1,3,4)\n",
    "n <- length(data)\n",
    "\n",
    "exp_logLike <- function(lambda){\n",
    "    logL <- n*log(lambda)-lambda*sum(data)\n",
    "    return(-logL)\n",
    "}\n",
    "\n",
    "optim(0.5, exp_logLike)"
   ]
  }
 ],
 "metadata": {
  "kernelspec": {
   "display_name": "R",
   "language": "R",
   "name": "ir"
  },
  "language_info": {
   "codemirror_mode": "r",
   "file_extension": ".r",
   "mimetype": "text/x-r-source",
   "name": "R",
   "pygments_lexer": "r",
   "version": "4.0.4"
  }
 },
 "nbformat": 4,
 "nbformat_minor": 4
}
