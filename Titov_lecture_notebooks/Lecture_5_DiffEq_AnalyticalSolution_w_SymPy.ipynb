{
 "cells": [
  {
   "cell_type": "markdown",
   "metadata": {},
   "source": [
    "# Lecture 5. Analytical Solutions of Differential Equations"
   ]
  },
  {
   "cell_type": "markdown",
   "metadata": {},
   "source": [
    "Things to include:\n",
    "- more examples of diff equation solution like Michaelis-Menten, allele propagation\n",
    "- examples of numerical evaluations that produce errors"
   ]
  },
  {
   "cell_type": "markdown",
   "metadata": {},
   "source": [
    "**The goal of this jupyter notebook is to introduce you to analytical methods of solving differential equations using SymPy dsolve() and introduce SymPy library in general**"
   ]
  },
  {
   "cell_type": "code",
   "execution_count": 3,
   "metadata": {},
   "outputs": [],
   "source": [
    "import numpy as np\n",
    "import sympy as sym\n",
    "import matplotlib.pyplot as plt\n",
    "from scipy.integrate import solve_ivp"
   ]
  },
  {
   "cell_type": "markdown",
   "metadata": {},
   "source": [
    "## Introduction to SymPy\n",
    "\n",
    "SymPy is a python library for symbolic math calculations.  \n",
    "We will be mostly concerned with using SymPy to analytically solve differential equations but SymPy has many other capabilities that we'll briefly review in the beginning.\n",
    "\n"
   ]
  },
  {
   "cell_type": "markdown",
   "metadata": {},
   "source": [
    "Why should we care about doing symbolic math on a computer when numerical calculations are so easy?  \n",
    "There're at least two agruments in support of symbolic math calculations:  \n",
    "- Equations can be dramatically simplified using symbolic math so that it's easier to do numerical calculations \n",
    "- Numerical calculations have errors introduced by approximation of numerical methods and by inability of computers to represent rational numbers precisely  \n"
   ]
  },
  {
   "cell_type": "markdown",
   "metadata": {},
   "source": [
    "### Representation of numbers by a computer"
   ]
  },
  {
   "cell_type": "markdown",
   "metadata": {},
   "source": [
    "Computers represent number as certain number of bits.  \n",
    "Python supports various types of number like  \n",
    "For example, Int64  \n",
    "Read more info about representation of numbers by a computer at these links:  \n"
   ]
  },
  {
   "cell_type": "markdown",
   "metadata": {},
   "source": [
    "### Solving algebraic equations with SymPy solveset()"
   ]
  },
  {
   "cell_type": "markdown",
   "metadata": {},
   "source": [
    "solveset() can be used to analytically solve a large variety of algebraic equations and systems of equations"
   ]
  },
  {
   "cell_type": "code",
   "execution_count": null,
   "metadata": {},
   "outputs": [],
   "source": []
  },
  {
   "cell_type": "markdown",
   "metadata": {},
   "source": [
    "### Simplifying equation with SymPy simplify()"
   ]
  },
  {
   "cell_type": "markdown",
   "metadata": {},
   "source": [
    "simplify() and related function can be used to simplify various equations, which SymPy doesn't do by default.  \n",
    "It is often useful to define if a particular variable or function is expected to be a real number, positive number, integer etc to allow more appropriate simplifications"
   ]
  },
  {
   "cell_type": "code",
   "execution_count": 74,
   "metadata": {},
   "outputs": [
    {
     "data": {
      "text/latex": [
       "$\\displaystyle \\cos^{2}{\\left(1 \\right)} + \\sin^{2}{\\left(1 \\right)}$"
      ],
      "text/plain": [
       "cos(1)**2 + sin(1)**2"
      ]
     },
     "execution_count": 74,
     "metadata": {},
     "output_type": "execute_result"
    }
   ],
   "source": [
    "sym.cos(1) ** 2 + sym.sin(1) ** 2"
   ]
  },
  {
   "cell_type": "code",
   "execution_count": 75,
   "metadata": {},
   "outputs": [
    {
     "data": {
      "text/latex": [
       "$\\displaystyle 1$"
      ],
      "text/plain": [
       "1"
      ]
     },
     "execution_count": 75,
     "metadata": {},
     "output_type": "execute_result"
    }
   ],
   "source": [
    "sym.simplify(sym.cos(1) ** 2 + sym.sin(1) ** 2)"
   ]
  },
  {
   "cell_type": "markdown",
   "metadata": {},
   "source": [
    "### SymPy equations can be numerically evaluated using subs() and evalf()"
   ]
  },
  {
   "cell_type": "code",
   "execution_count": 83,
   "metadata": {},
   "outputs": [
    {
     "data": {
      "text/latex": [
       "$\\displaystyle x^{2} + y^{2}$"
      ],
      "text/plain": [
       "x**2 + y**2"
      ]
     },
     "execution_count": 83,
     "metadata": {},
     "output_type": "execute_result"
    }
   ],
   "source": [
    "x, y, z = sym.symbols(\"x, y, z\")\n",
    "expr = x ** 2 + y ** 2\n",
    "expr"
   ]
  },
  {
   "cell_type": "markdown",
   "metadata": {},
   "source": [
    "subs() can be used to substitute variable with numbers or with other variables"
   ]
  },
  {
   "cell_type": "code",
   "execution_count": 84,
   "metadata": {},
   "outputs": [
    {
     "data": {
      "text/latex": [
       "$\\displaystyle z^{4} + \\pi^{2}$"
      ],
      "text/plain": [
       "z**4 + pi**2"
      ]
     },
     "execution_count": 84,
     "metadata": {},
     "output_type": "execute_result"
    }
   ],
   "source": [
    "expr.subs({x: sym.pi, y: z ** 2})"
   ]
  },
  {
   "cell_type": "code",
   "execution_count": 76,
   "metadata": {},
   "outputs": [
    {
     "data": {
      "text/latex": [
       "$\\displaystyle 1 + \\pi^{2}$"
      ],
      "text/plain": [
       "1 + pi**2"
      ]
     },
     "execution_count": 76,
     "metadata": {},
     "output_type": "execute_result"
    }
   ],
   "source": [
    "expr.subs({x: sym.pi, y: 1})"
   ]
  },
  {
   "cell_type": "markdown",
   "metadata": {},
   "source": [
    "evalf() can be used to numerically evaluate the equation with desired numerical precision"
   ]
  },
  {
   "cell_type": "code",
   "execution_count": 82,
   "metadata": {},
   "outputs": [
    {
     "data": {
      "text/latex": [
       "$\\displaystyle 10.86960440108935861883449099987615113531369940724079062641334937622004482241920524300177340371855223$"
      ],
      "text/plain": [
       "10.86960440108935861883449099987615113531369940724079062641334937622004482241920524300177340371855223"
      ]
     },
     "execution_count": 82,
     "metadata": {},
     "output_type": "execute_result"
    }
   ],
   "source": [
    "expr.subs({x: sym.pi, y: 1}).evalf(100)"
   ]
  },
  {
   "cell_type": "markdown",
   "metadata": {},
   "source": [
    "## Analytically solving ODEs with SymPy dsolve()"
   ]
  },
  {
   "cell_type": "markdown",
   "metadata": {},
   "source": [
    "Lets use our favorite bacterial growth rate in rich media as an example:\n",
    "  \n",
    "### $\\frac{dN(t)}{dt}=kN(t)$  \n",
    "\n",
    "where $t$ is time, k is some constant specific for this E.coli strain and growth conditions, $N(t)$ is number of E. coli at time $t$.  "
   ]
  },
  {
   "cell_type": "code",
   "execution_count": 25,
   "metadata": {},
   "outputs": [
    {
     "data": {
      "text/latex": [
       "$\\displaystyle N{\\left(t \\right)} = N_{0} e^{k t}$"
      ],
      "text/plain": [
       "Eq(N(t), N0*exp(k*t))"
      ]
     },
     "execution_count": 25,
     "metadata": {},
     "output_type": "execute_result"
    }
   ],
   "source": [
    "N = sym.symbols(\"N\", cls=sym.Function)\n",
    "t, k, N0 = sym.symbols(\"t, k, N0\")\n",
    "solution = sym.dsolve(sym.diff(N(t), t) - k * N(t), N(t), ics={N(0): N0})\n",
    "solution"
   ]
  },
  {
   "cell_type": "markdown",
   "metadata": {},
   "source": [
    "We can plot the solution using SymPy built-in plotting function.  \n",
    "SymPy built-in plot function doesn't require us to make an array of $t$ like matplotlib so might be more convenient."
   ]
  },
  {
   "cell_type": "code",
   "execution_count": 88,
   "metadata": {},
   "outputs": [
    {
     "data": {
      "image/png": "[encoded data removed]",
      "text/plain": [
       "<Figure size 432x288 with 1 Axes>"
      ]
     },
     "metadata": {
      "needs_background": "light"
     },
     "output_type": "display_data"
    }
   ],
   "source": [
    "sym.plot(\n",
    "    solution.rhs.subs({N0: 1, k: sym.ln(2)}),\n",
    "    solution.rhs.subs({N0: 2, k: sym.ln(2)}),\n",
    "    solution.rhs.subs({N0: 4, k: sym.ln(2)}),\n",
    "    (t, 0, 5),\n",
    "    xlabel=\"t\",\n",
    "    ylabel=\"N(t)\",\n",
    ");"
   ]
  }
 ],
 "metadata": {
  "kernelspec": {
   "display_name": "Python 3",
   "language": "python",
   "name": "python3"
  },
  "language_info": {
   "codemirror_mode": {
    "name": "ipython",
    "version": 3
   },
   "file_extension": ".py",
   "mimetype": "text/x-python",
   "name": "python",
   "nbconvert_exporter": "python",
   "pygments_lexer": "ipython3",
   "version": "3.7.9"
  }
 },
 "nbformat": 4,
 "nbformat_minor": 4
}
