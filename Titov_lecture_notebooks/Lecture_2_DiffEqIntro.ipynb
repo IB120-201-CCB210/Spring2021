{
 "cells": [
  {
   "cell_type": "markdown",
   "metadata": {},
   "source": [
    "# <center>Lecture 2. Differential Equations Intro  \n",
    "## <center>Denis Titov\n",
    "## <center>January 25, 2021"
   ]
  },
  {
   "cell_type": "markdown",
   "metadata": {},
   "source": [
    "**The goal of this jupyter notebook is to introduce you to analytical and numerical solutions of differential equations using SymPy dsolve() and SciPy solve_ivp() using bacterial growth as an example**"
   ]
  },
  {
   "cell_type": "markdown",
   "metadata": {},
   "source": [
    "A major goal of basic science is to predict how a system will evolve over time given initial conditions.  \n",
    "Differential equations is the mathematical tool that scientists use to achieve this goal.  \n",
    "  \n",
    "Some examples of systems that can be described using differentail equations:\n",
    "- calculate changes of concentration of metabolites over time from enzyme reaction rates and concentrations at time=0\n",
    "- calculate changes in mRNA and protein concentration over time from transcription, translation, degradation rates and concentrations at time=0\n",
    "- calculate changes in the size of populations over time from growth rates and population sizes at time=0  \n",
    "- calculate the number of infected people given virus transmission rates and number of people at t=0\n",
    "- calculate changes of position of objects over time from speed, acceleration and positions at time=0  \n",
    "  \n",
    "Differential equations are also useful for studying things other than time (e.g. but most biology application involve time so we'll focus on time.\n",
    "  \n"
   ]
  },
  {
   "cell_type": "code",
   "execution_count": null,
   "metadata": {},
   "outputs": [],
   "source": [
    "import numpy as np\n",
    "import matplotlib.pyplot as plt\n",
    "from scipy.integrate import solve_ivp\n",
    "import sympy as sym"
   ]
  },
  {
   "cell_type": "markdown",
   "metadata": {},
   "source": [
    "## Bacterial Growth\n",
    "\n",
    "We will motivate the usefulness of differential equations using bacterial growth as an example\n",
    "\n",
    "From experiments, we know that E. coli growth rate in rich media is exponential:\n",
    "  \n",
    "$N(t)=N_0e^{kt}$  \n",
    "\n",
    "where $t$ is time,  \n",
    "k is some constant specific for this E.coli strain and growth conditions,  \n",
    "$N(t)$ is number of E. coli at time $t$,  \n",
    "$N_0$ is number of E. coli at $t=0$  "
   ]
  },
  {
   "cell_type": "markdown",
   "metadata": {},
   "source": [
    "Let's plot $N(t)=e^{t}$"
   ]
  },
  {
   "cell_type": "code",
   "execution_count": null,
   "metadata": {},
   "outputs": [],
   "source": [
    "time = np.linspace(0, 5, 6)\n",
    "OD600 = np.exp(time)\n",
    "plt.plot(time, OD600);"
   ]
  },
  {
   "cell_type": "markdown",
   "metadata": {},
   "source": [
    "Side note: You can look up documentation of any python function using \"?\" as shown below or you can also google it"
   ]
  },
  {
   "cell_type": "code",
   "execution_count": null,
   "metadata": {},
   "outputs": [],
   "source": [
    "plt.plot?"
   ]
  },
  {
   "cell_type": "markdown",
   "metadata": {},
   "source": [
    "Now let's pretend that we do **not** know that E. coli growth rate in rich media is exponential.  \n",
    "Lets try to derive $N(t)=N_0e^{kt}$ from $Growth\\,Rate$ and initial E.coli number $N_0$."
   ]
  },
  {
   "cell_type": "markdown",
   "metadata": {},
   "source": [
    "## Definition of a Differential"
   ]
  },
  {
   "cell_type": "markdown",
   "metadata": {},
   "source": [
    "First, we need to figure out what is $Growth\\,Rate$, exactly?  \n",
    "  \n",
    "We know that $Growth\\,Rate=\\frac{\\Delta N}{\\Delta t}$ but which $\\Delta N$ and $\\Delta t$ should we use?  \n",
    "  \n",
    "Lets try several values of $\\Delta t$ to find $Growth\\,Rate$ at t=0 and t=5 using the data above:"
   ]
  },
  {
   "cell_type": "code",
   "execution_count": null,
   "metadata": {},
   "outputs": [],
   "source": [
    "(OD600[5] - OD600[0]) / 5"
   ]
  },
  {
   "cell_type": "code",
   "execution_count": null,
   "metadata": {},
   "outputs": [],
   "source": [
    "(OD600[4] - OD600[0]) / 4, (OD600[5] - OD600[1]) / 4"
   ]
  },
  {
   "cell_type": "code",
   "execution_count": null,
   "metadata": {},
   "outputs": [],
   "source": [
    "(OD600[3] - OD600[0]) / 3, (OD600[5] - OD600[2]) / 3"
   ]
  },
  {
   "cell_type": "code",
   "execution_count": null,
   "metadata": {},
   "outputs": [],
   "source": [
    "(OD600[2] - OD600[0]) / 2, (OD600[5] - OD600[3]) / 2,"
   ]
  },
  {
   "cell_type": "code",
   "execution_count": null,
   "metadata": {},
   "outputs": [],
   "source": [
    "(OD600[1] - OD600[0]) / 1, (OD600[5] - OD600[4]) / 1"
   ]
  },
  {
   "cell_type": "markdown",
   "metadata": {},
   "source": [
    "Note that $Growth\\,Rate=\\frac{\\Delta N}{\\Delta t}$ keeps decreasing for t=0 and keeps increasing for t=5 as we take smaller and smaller $\\Delta t$.  \n",
    "How do we know when we used small enough $\\Delta t$ to find the \"true\" $Growth\\,Rate$?"
   ]
  },
  {
   "cell_type": "markdown",
   "metadata": {},
   "source": [
    "Lets take smaller and smaller $\\Delta t$ and see if $Growth\\,Rate$ stops changing at small enough $\\Delta t$. \n",
    " \n",
    "Change the values of n in the code below to get smaller and smaller $\\Delta t$ and $\\Delta N$. Fell free to change various parts of the code to understand how it works."
   ]
  },
  {
   "cell_type": "code",
   "execution_count": null,
   "metadata": {},
   "outputs": [],
   "source": [
    "n = 6\n",
    "time = np.linspace(0, 5, n)\n",
    "OD600 = np.exp(time)\n",
    "\n",
    "ΔN_t0 = OD600[1] - OD600[0]\n",
    "ΔN_t5 = OD600[-1] - OD600[-2]\n",
    "Δt = 5 / (n - 1)\n",
    "\n",
    "print(f'ΔN(t=0)/Δt = {ΔN_t0 / Δt}')\n",
    "print(f'ΔN(t=5)/Δt = {ΔN_t5 / Δt}')\n",
    "print(f'Δt = {Δt}')"
   ]
  },
  {
   "cell_type": "markdown",
   "metadata": {},
   "source": [
    "Note that $Growth\\,Rate$ stops changing much at $\\Delta t<<0.001$.  \n",
    "  \n",
    "We can conclude that we find something close to \"true\" $Growth\\,Rate=\\frac{\\Delta N}{\\Delta t}$ when $\\Delta t<<0.001$.  \n",
    "  \n",
    "This procedure is so common in math that people have come up with a special name for $\\frac{\\Delta N}{\\Delta t}$ at very small $\\Delta t$ - differential.  \n",
    "  \n",
    "*The formal definition of the differential is $\\frac{dN(t)}{dt}=\\lim_{\\Delta t \\to 0} \\frac{N(t+\\Delta t)-N(t)}{\\Delta t}$.*  "
   ]
  },
  {
   "cell_type": "markdown",
   "metadata": {},
   "source": [
    "Another definition of differential is that $\\frac{dN(t)}{dt}$ at a particular value of $t$ is a tangent line to $N(t)$ as shown on the following graph:"
   ]
  },
  {
   "cell_type": "code",
   "execution_count": null,
   "metadata": {},
   "outputs": [],
   "source": [
    "time = np.linspace(0, 5, 100)\n",
    "OD600 = np.exp(time)\n",
    "i = 79\n",
    "a = OD600[i]\n",
    "b = (1 - time[i]) * OD600[i]\n",
    "plt.plot(time, OD600)\n",
    "plt.plot(time, a * (time) + b)\n",
    "plt.ylim(0,150);"
   ]
  },
  {
   "cell_type": "markdown",
   "metadata": {},
   "source": [
    "You've likely learned a bunch of rules of how to calculate differentials of different function like $y(t)=t^2$ or $y(t)=\\frac{1}{t^2}$.  \n",
    "  \n",
    "Let's manually calculate a differential of $y(t)=t^2$ to further demystify differentials:\n",
    "\n",
    "$\\frac{dy(t)}{dt}=\\lim_{\\Delta t \\to 0} \\frac{y(t+\\Delta t)-y(t)}{\\Delta t}$  \n",
    "  \n",
    "  $\\frac{y(t+\\Delta t)-y(t)}{\\Delta t}=\\frac{(t+\\Delta t)^2-t^2}{\\Delta t}=\\frac{t^2+2t \\cdot \\Delta t + \\Delta t^2-t^2}{\\Delta t}=2t + \\Delta t$  \n",
    "  \n",
    "  Since $\\Delta t \\to 0$, we get $\\frac{dy(t)}{dt}=2t$\n"
   ]
  },
  {
   "cell_type": "markdown",
   "metadata": {},
   "source": [
    "## Differential equation describing bacterial growth\n",
    "Now that we reviewed the definition of differential we can go back to our E. coli and formulate a differential equation $\\frac{dN(t)}{dt}=f(t)$.  \n",
    "  \n",
    "  To come up with differential equation we simply note that $\\frac{dN(t)}{dt}=N$ based on our measurements above so we have our differential equation.\n"
   ]
  },
  {
   "cell_type": "markdown",
   "metadata": {},
   "source": [
    "## Analytical solution of $\\frac{dN(t)}{dt}=kN(t)$\n",
    "**We will have a whole lecture about analytical solutions of differential equations.**  \n",
    "We can solve $\\frac{dN(t)}{dt}=kN(t)$ analytically (i.e. find an exact function so that $N(t)=f(t)$) using SymPy library that allows symbolic calculations in Python.  \n",
    "In order to do symbolic calculations we need to tell the computer what is a function and what is a variable (i.e. we need to define variables):"
   ]
  },
  {
   "cell_type": "code",
   "execution_count": null,
   "metadata": {},
   "outputs": [],
   "source": [
    "N = sym.symbols(\"N\", cls=sym.Function)  # this defines N as a function\n",
    "t, k, N0 = sym.symbols(\"t, k, N0\")  # this defines t and N0 as variable"
   ]
  },
  {
   "cell_type": "markdown",
   "metadata": {},
   "source": [
    "Now that defined variable, we can write the differential equation that we want to solve:"
   ]
  },
  {
   "cell_type": "code",
   "execution_count": null,
   "metadata": {},
   "outputs": [],
   "source": [
    "Equation = sym.Eq(sym.diff(N(t), t), k * N(t))\n",
    "Equation"
   ]
  },
  {
   "cell_type": "markdown",
   "metadata": {},
   "source": [
    "Now we can solve $Equation$ using $dsolve()$ function in SymPy:"
   ]
  },
  {
   "cell_type": "code",
   "execution_count": null,
   "metadata": {},
   "outputs": [],
   "source": [
    "sym.dsolve(Equation, N(t))"
   ]
  },
  {
   "cell_type": "markdown",
   "metadata": {},
   "source": [
    "We can get the exact solution with $C_1$ constant using initial condition $N(0)=N_{0}$"
   ]
  },
  {
   "cell_type": "code",
   "execution_count": null,
   "metadata": {},
   "outputs": [],
   "source": [
    "sym.dsolve(Equation, N(t), ics={N(0): N0})"
   ]
  },
  {
   "cell_type": "markdown",
   "metadata": {},
   "source": [
    "We can also write all of the above at once without using $Equation$ to save space.  \n",
    "Try to change this differential equation by using $N(t)^2$, $N(t)^3$, $\\frac{1}{N(t)}$ etc to see how the solution changes."
   ]
  },
  {
   "cell_type": "code",
   "execution_count": null,
   "metadata": {},
   "outputs": [],
   "source": [
    "N = sym.symbols(\"N\", cls=sym.Function)\n",
    "t, k, N0 = sym.symbols(\"t, k, N0\")\n",
    "sym.dsolve(sym.diff(N(t), t) - k * N(t), N(t), ics={N(0): N0})"
   ]
  },
  {
   "cell_type": "markdown",
   "metadata": {},
   "source": [
    "*The above three lines of code will solve any differential equation from a Differential Equations textbook (i.e. any differential equation that has an analytical solution) highlighting the power of python and SymPy.*  \n",
    "  \n",
    "Try this textbook avalable online if interested: https://archive.org/details/C.HenryEdwardsDavidE.PenneyElementaryDifferentialEquations6thEdition/page/n13/mode/1up"
   ]
  },
  {
   "cell_type": "markdown",
   "metadata": {},
   "source": [
    "## Numerical solution of $\\frac{dN}{dt}=kN$\n",
    "**We will have a whole lecture about numerical solutions of differential equations.**"
   ]
  },
  {
   "cell_type": "markdown",
   "metadata": {},
   "source": [
    "**The majority of differential equations and especially systems of differential equations do not have an analytical solution so numerical solution is really how differential equations are analyzed outside of the classroom.**"
   ]
  },
  {
   "cell_type": "markdown",
   "metadata": {},
   "source": [
    "We can solve $\\frac{dN}{dt}=kN$ numerically (i.e. find numbers that correspond to a solution without finding an exact function) using SciPy library that allows numerical calculations in Python.  "
   ]
  },
  {
   "cell_type": "code",
   "execution_count": null,
   "metadata": {},
   "outputs": [],
   "source": [
    "k = 1\n",
    "\n",
    "def fun(t, y):\n",
    "    dNdt = k * y\n",
    "    return dNdt\n",
    "\n",
    "N0 = [1]\n",
    "tspan = [0, 5]\n",
    "soln = solve_ivp(fun, tspan, N0)\n",
    "plt.plot(soln.t, soln.y[0]);"
   ]
  },
  {
   "cell_type": "markdown",
   "metadata": {},
   "source": [
    "If we want to look at the solution at specific times then we can add *t_eval* keyword argument (kwarg):"
   ]
  },
  {
   "cell_type": "code",
   "execution_count": null,
   "metadata": {},
   "outputs": [],
   "source": [
    "k = 1\n",
    "\n",
    "\n",
    "def fun(t, y):\n",
    "    dNdt = k * y\n",
    "    return dNdt\n",
    "\n",
    "\n",
    "N0 = [1]\n",
    "tspan = [0, 5]\n",
    "soln = solve_ivp(fun, tspan, N0, t_eval=np.linspace(0, 5, 600))\n",
    "plt.plot(soln.t, soln.y[0]);"
   ]
  },
  {
   "cell_type": "markdown",
   "metadata": {},
   "source": [
    "*solve_ivp()* has a lot of various options for using specific algorythms, introducing events etc that you can lookup using *solve_ivp?* and that we will review during our numerical calculations lecture"
   ]
  },
  {
   "cell_type": "code",
   "execution_count": null,
   "metadata": {},
   "outputs": [],
   "source": [
    "solve_ivp?"
   ]
  },
  {
   "cell_type": "markdown",
   "metadata": {},
   "source": [
    "*solve_ivp will solve all differential equation that SymPy solve() can solve and essentially any other differential equation or system of differential equations highlighting the power of numerical calculations.*"
   ]
  }
 ],
 "metadata": {
  "kernelspec": {
   "display_name": "Python 3",
   "language": "python",
   "name": "python3"
  },
  "language_info": {
   "codemirror_mode": {
    "name": "ipython",
    "version": 3
   },
   "file_extension": ".py",
   "mimetype": "text/x-python",
   "name": "python",
   "nbconvert_exporter": "python",
   "pygments_lexer": "ipython3",
   "version": "3.7.9"
  }
 },
 "nbformat": 4,
 "nbformat_minor": 4
}
