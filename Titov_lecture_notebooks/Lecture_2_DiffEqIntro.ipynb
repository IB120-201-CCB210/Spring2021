{
 "cells": [
  {
   "cell_type": "markdown",
   "metadata": {},
   "source": [
    "# Lecture 2. Differential Equations Intro"
   ]
  },
  {
   "cell_type": "markdown",
   "metadata": {},
   "source": [
    "Things to add:  \n",
    "    - Discussion that N is really N(t) and N(t) is this unknown function that we need to find"
   ]
  },
  {
   "cell_type": "markdown",
   "metadata": {},
   "source": [
    "**The goal of this jupyter notebook is to introduce you to analytical and numerical solutions of differential equations using SymPy dsolve() and SciPy solve_ivp() using bacterial growth as an example**"
   ]
  },
  {
   "cell_type": "markdown",
   "metadata": {},
   "source": [
    "A major goal of basic science is to predict how a system will evolve over time given initial conditions.  \n",
    "Differential equations is the mathematical tool that scientists use to achieve this goal.  \n",
    "\n",
    "Some examples of systems that can be described using differentail equations:\n",
    "- calculate changes of concentration of metabolites over time from enzyme reaction rates and concentrations at time=0\n",
    "- calculate changes in mRNA or protein concentration over time from transcription, translation, degradation rates and concentrations at time=0\n",
    "- calculate changes in the size of populations over time from growth rates and population sizes at time=0  \n",
    "- calculate the number of infected people given virus transmission rates and number of people at t=0\n",
    "- calculate changes of position of objects over time from speed, acceleration and positions at time=0  \n",
    "  \n",
    "Differential equations are also useful for studying things other than time (e.g. but most biology application involve time so we'll focus on time.\n",
    "  \n"
   ]
  },
  {
   "cell_type": "code",
   "execution_count": 2,
   "metadata": {},
   "outputs": [],
   "source": [
    "import numpy as np\n",
    "import matplotlib.pyplot as plt\n",
    "from scipy.integrate import solve_ivp\n",
    "import sympy as sym"
   ]
  },
  {
   "cell_type": "markdown",
   "metadata": {},
   "source": [
    "## Bacterial Growth\n",
    "\n",
    "We will motivate the usefulness of differential equations using bacterial growth as an example\n",
    "\n",
    "From experiments, we know that E. coli growth rate in rich media is exponential:\n",
    "  \n",
    "$N(t)=N_0e^{kt}$  \n",
    "\n",
    "where $t$ is time,  \n",
    "k is some constant specific for this E.coli strain and growth conditions,  \n",
    "$N(t)$ is number of E. coli at time $t$,  \n",
    "$N_0$ is number of E. coli at $t=0$  "
   ]
  },
  {
   "cell_type": "markdown",
   "metadata": {},
   "source": [
    "Let's plot $N(t)=e^{t}$"
   ]
  },
  {
   "cell_type": "code",
   "execution_count": 9,
   "metadata": {},
   "outputs": [
    {
     "data": {
      "image/png": "[encoded data removed]",
      "text/plain": [
       "<Figure size 432x288 with 1 Axes>"
      ]
     },
     "metadata": {
      "needs_background": "light"
     },
     "output_type": "display_data"
    }
   ],
   "source": [
    "time = np.linspace(0, 5, 6)\n",
    "OD600 = np.exp(time)\n",
    "plt.scatter(time, OD600);"
   ]
  },
  {
   "cell_type": "markdown",
   "metadata": {},
   "source": [
    "Side note: You can look up documentation of any python function using \"?\" as shown below or you can also google it"
   ]
  },
  {
   "cell_type": "code",
   "execution_count": null,
   "metadata": {},
   "outputs": [],
   "source": [
    "np.linspace?"
   ]
  },
  {
   "cell_type": "markdown",
   "metadata": {},
   "source": [
    "Now let's pretend that we do **not** know that E. coli growth rate in rich media is exponential.  \n",
    "Lets try to derive $N(t)=N_0e^{kt}$ from $Growth\\,Rate$ and initial E.coli number $N_0$."
   ]
  },
  {
   "cell_type": "markdown",
   "metadata": {},
   "source": [
    "## Definition of a Differential"
   ]
  },
  {
   "cell_type": "markdown",
   "metadata": {},
   "source": [
    "First, we need to figure out what is $Growth\\,Rate$, exactly?  \n",
    "We know that $Growth\\,Rate=\\frac{\\Delta N}{\\Delta t}$ but which $\\Delta N$ and $\\Delta t$ should we use?  \n",
    "Lets try several values of $\\Delta N$ and $\\Delta t$ to find $Growth\\,Rate$ at t=0 and t=5 using the data above:"
   ]
  },
  {
   "cell_type": "code",
   "execution_count": 10,
   "metadata": {},
   "outputs": [
    {
     "data": {
      "text/plain": [
       "29.48263182051532"
      ]
     },
     "execution_count": 10,
     "metadata": {},
     "output_type": "execute_result"
    }
   ],
   "source": [
    "(OD600[5] - OD600[0]) / 5"
   ]
  },
  {
   "cell_type": "code",
   "execution_count": 11,
   "metadata": {},
   "outputs": [
    {
     "data": {
      "text/plain": [
       "(13.399537508286059, 36.423719318529386)"
      ]
     },
     "execution_count": 11,
     "metadata": {},
     "output_type": "execute_result"
    }
   ],
   "source": [
    "(OD600[4] - OD600[0]) / 4, (OD600[5] - OD600[1]) / 4"
   ]
  },
  {
   "cell_type": "code",
   "execution_count": 12,
   "metadata": {},
   "outputs": [
    {
     "data": {
      "text/plain": [
       "(6.361845641062556, 47.008034334548654)"
      ]
     },
     "execution_count": 12,
     "metadata": {},
     "output_type": "execute_result"
    }
   ],
   "source": [
    "(OD600[3] - OD600[0]) / 3, (OD600[5] - OD600[2]) / 3"
   ]
  },
  {
   "cell_type": "code",
   "execution_count": 13,
   "metadata": {},
   "outputs": [
    {
     "data": {
      "text/plain": [
       "(3.194528049465325, 64.16381108969446)"
      ]
     },
     "execution_count": 13,
     "metadata": {},
     "output_type": "execute_result"
    }
   ],
   "source": [
    "(OD600[2] - OD600[0]) / 2, (OD600[5] - OD600[3]) / 2,"
   ]
  },
  {
   "cell_type": "code",
   "execution_count": 14,
   "metadata": {},
   "outputs": [
    {
     "data": {
      "text/plain": [
       "(1.718281828459045, 93.81500906943236)"
      ]
     },
     "execution_count": 14,
     "metadata": {},
     "output_type": "execute_result"
    }
   ],
   "source": [
    "(OD600[1] - OD600[0]) / 1, (OD600[5] - OD600[4]) / 1"
   ]
  },
  {
   "cell_type": "markdown",
   "metadata": {},
   "source": [
    "Note that $Growth\\,Rate=\\frac{\\Delta N}{\\Delta t}$ keep decreasing for t=0 and increasing for t=5 as we take smaller and smaller $\\Delta N$ and $\\Delta t$.  \n",
    "How do we know when we used small enough $\\Delta N$ and $\\Delta t$ to find the \"true\" $Growth\\,Rate$?"
   ]
  },
  {
   "cell_type": "markdown",
   "metadata": {},
   "source": [
    "Lets take smaller and smaller $\\Delta t$ and $\\Delta N$ and see if $Growth\\,Rate$ stops changing at small enough $\\Delta t$ and $\\Delta N$. \n",
    "Change the values of n in the code below to get smaller and smaller $\\Delta t$ and $\\Delta N$.  \n",
    "Fell free to change various parts of the code to understand how it works."
   ]
  },
  {
   "cell_type": "code",
   "execution_count": 30,
   "metadata": {},
   "outputs": [
    {
     "data": {
      "text/plain": [
       "(1.718281828459045, 93.81500906943236, 1.0)"
      ]
     },
     "execution_count": 30,
     "metadata": {},
     "output_type": "execute_result"
    }
   ],
   "source": [
    "n = 6\n",
    "time = np.linspace(0, 5, n)\n",
    "OD600 = np.exp(time)\n",
    "\n",
    "ΔN_first = OD600[1] - OD600[0]\n",
    "ΔN_last = OD600[-1] - OD600[-2]\n",
    "Δt = 5 / (n - 1)\n",
    "\n",
    "ΔN_first / Δt, ΔN_last / Δt, Δt"
   ]
  },
  {
   "cell_type": "markdown",
   "metadata": {},
   "source": [
    "Note that $Growth\\,Rate$ stops changing much at $\\Delta t<<0.001$.  \n",
    "We can conclude that we find something close to \"true\" $Growth\\,Rate=\\frac{\\Delta N}{\\Delta t}$ when $\\Delta t<<0.001$.  \n",
    "This procedure is so common in math that people have come with a special name for $\\frac{\\Delta N}{\\Delta t}$ at very small $\\Delta t$ - differential.  \n",
    "*The formal definition of the differential is $\\frac{dN}{dt}=\\lim_{\\Delta t \\to 0} \\frac{N(t+\\Delta t)-N(t)}{\\Delta t}$.*  \n",
    "Another definition of differential is that $\\frac{dN(t)}{dt}$ at a particular value of $t$ is a tangent line to $N(t)$ as shown on the following graph:"
   ]
  },
  {
   "cell_type": "code",
   "execution_count": 3,
   "metadata": {},
   "outputs": [
    {
     "data": {
      "image/png": "[encoded data removed]",
      "text/plain": [
       "<Figure size 432x288 with 1 Axes>"
      ]
     },
     "metadata": {
      "needs_background": "light"
     },
     "output_type": "display_data"
    }
   ],
   "source": [
    "time = np.linspace(0, 5, 100)\n",
    "OD600 = np.exp(time)\n",
    "i=60\n",
    "a=OD600[i]\n",
    "b=(1-time[i])*OD600[i]\n",
    "plt.plot(time, OD600)\n",
    "plt.plot(time,a*(time)+b);"
   ]
  },
  {
   "cell_type": "code",
   "execution_count": null,
   "metadata": {},
   "outputs": [],
   "source": [
    "Manually do a simple differention like 2x**2"
   ]
  },
  {
   "cell_type": "markdown",
   "metadata": {},
   "source": [
    "## Differential equation describing bacterial growth\n",
    "Now that we reviewed the definition of differential we can go back to our E. coli and formulate a differential equation $\\frac{dN(t)}{dt}=f(t)$.  \n"
   ]
  },
  {
   "cell_type": "code",
   "execution_count": null,
   "metadata": {},
   "outputs": [],
   "source": [
    "Now that we know about differnetial lets come with diff equation for E. cloli growth"
   ]
  },
  {
   "cell_type": "markdown",
   "metadata": {},
   "source": [
    "## Analytical solution of $\\frac{dN}{dt}=kN$\n",
    "**We will have a whole lecture about analytical solutions of differential equations.**  \n",
    "We can solve $\\frac{dN}{dt}=kN$ analytically (i.e. find an exact function so that $N(t)=f(t)$) using SymPy library that allows symbolic calculations in Python.  \n",
    "In order to do symbolic calculations we need to tell the computer what is a function and what is a variable (i.e. we need to define variable):"
   ]
  },
  {
   "cell_type": "code",
   "execution_count": null,
   "metadata": {},
   "outputs": [],
   "source": [
    "N = sym.symbols(\"N\", cls=sym.Function)  # this defines N as a function\n",
    "t, k, N0 = sym.symbols(\"t, k, N0\")  # this defines t and N0 as variable"
   ]
  },
  {
   "cell_type": "markdown",
   "metadata": {},
   "source": [
    "Now that defined variable, we can write the differential equation that we want to solve:"
   ]
  },
  {
   "cell_type": "code",
   "execution_count": null,
   "metadata": {},
   "outputs": [],
   "source": [
    "Equation = sym.Eq(sym.diff(N(t), t), k * N(t))\n",
    "Equation"
   ]
  },
  {
   "cell_type": "markdown",
   "metadata": {},
   "source": [
    "Now we can solve $Equation$ using $dsolve()$ function in SymPy using initial condition $N(0)=N_{0}$"
   ]
  },
  {
   "cell_type": "code",
   "execution_count": null,
   "metadata": {},
   "outputs": [],
   "source": [
    "sym.dsolve(Equation, N(t))"
   ]
  },
  {
   "cell_type": "markdown",
   "metadata": {},
   "source": [
    "We can get the exact solution with $C_1$ constant using initial condition $N(0)=N_{0}$"
   ]
  },
  {
   "cell_type": "code",
   "execution_count": null,
   "metadata": {},
   "outputs": [],
   "source": [
    "sym.dsolve(Equation, N(t), ics={N(0): N0})"
   ]
  },
  {
   "cell_type": "markdown",
   "metadata": {},
   "source": [
    "We can also write all of the above at once without using $Equation$ to save space.  \n",
    "Try to change this differential equation by using $N(t)^2$, $N(t)^3$, $\\frac{1}{N(t)}$ etc to see how the solution changes."
   ]
  },
  {
   "cell_type": "code",
   "execution_count": null,
   "metadata": {},
   "outputs": [],
   "source": [
    "N = sym.symbols(\"N\", cls=sym.Function)\n",
    "t, k, N0 = sym.symbols(\"t, k, N0\")\n",
    "sym.dsolve(sym.diff(N(t), t) - k * N(t), N(t), ics={N(0): N0})"
   ]
  },
  {
   "cell_type": "markdown",
   "metadata": {},
   "source": [
    "*The above three lines of code will solve any differential equation from a Differential Equations textbook (i.e. any differential equation that has an analytical solution) highlighting the power of python and SymPy.*"
   ]
  },
  {
   "cell_type": "markdown",
   "metadata": {},
   "source": [
    "## Numerical solution of $\\frac{dN}{dt}=kN$\n",
    "**We will have a whole lecture about numerical solutions of differential equations.**"
   ]
  },
  {
   "cell_type": "markdown",
   "metadata": {},
   "source": [
    "**The majority of differential equations and especially systems of differential equations do not have an analytical solution so numerical solution is really how differential equations are analyzed outside of the classroom.**"
   ]
  },
  {
   "cell_type": "markdown",
   "metadata": {},
   "source": [
    "We can solve $\\frac{dN}{dt}=kN$ numerically (i.e. find numbers that correspond to a solution without finding an exact function) using SciPy library that allows numerical calculations in Python.  "
   ]
  },
  {
   "cell_type": "code",
   "execution_count": null,
   "metadata": {},
   "outputs": [],
   "source": [
    "k = 1\n",
    "\n",
    "\n",
    "def fun(t, y):\n",
    "    dNdt = k * y\n",
    "    return dNdt\n",
    "\n",
    "\n",
    "N0 = [1]\n",
    "tspan = [0, 5]\n",
    "soln = solve_ivp(fun, tspan, N0)\n",
    "plt.scatter(soln.t, soln.y[0]);"
   ]
  },
  {
   "cell_type": "markdown",
   "metadata": {},
   "source": [
    "If we want to look at the solution at specific times then we can add *t_eval* keyword argument (kwarg):"
   ]
  },
  {
   "cell_type": "code",
   "execution_count": null,
   "metadata": {},
   "outputs": [],
   "source": [
    "k = 1\n",
    "\n",
    "\n",
    "def fun(t, y):\n",
    "    dNdt = k * y\n",
    "    return dNdt\n",
    "\n",
    "\n",
    "N0 = [1]\n",
    "tspan = [0, 5]\n",
    "soln = solve_ivp(fun, tspan, N0, t_eval=np.linspace(0, 5, 6))\n",
    "plt.scatter(soln.t, soln.y[0]);"
   ]
  },
  {
   "cell_type": "markdown",
   "metadata": {},
   "source": [
    "*solve_ivp()* has a lot of various options for using specific algorythms, introducing events etc that you can lookup using *solve_ivp?* and that we will review during our numerical calculations lecture"
   ]
  },
  {
   "cell_type": "code",
   "execution_count": null,
   "metadata": {},
   "outputs": [],
   "source": [
    "solve_ivp?"
   ]
  },
  {
   "cell_type": "markdown",
   "metadata": {},
   "source": [
    "*solve_ivp will solve all differential equation that SymPy solve() can solve and essentially any other differential equation or system of differential equations highlighting the power of numerical calculations.*"
   ]
  }
 ],
 "metadata": {
  "kernelspec": {
   "display_name": "Python 3",
   "language": "python",
   "name": "python3"
  },
  "language_info": {
   "codemirror_mode": {
    "name": "ipython",
    "version": 3
   },
   "file_extension": ".py",
   "mimetype": "text/x-python",
   "name": "python",
   "nbconvert_exporter": "python",
   "pygments_lexer": "ipython3",
   "version": "3.7.9"
  }
 },
 "nbformat": 4,
 "nbformat_minor": 4
}
