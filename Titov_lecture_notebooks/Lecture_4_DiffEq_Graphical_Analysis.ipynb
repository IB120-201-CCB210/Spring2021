{
 "cells": [
  {
   "cell_type": "markdown",
   "metadata": {},
   "source": [
    "# <center>Lecture 4. Graphical Methods of analyzing ODEs\n",
    "## <center>Denis Titov\n",
    "## <center>January 29, 2021"
   ]
  },
  {
   "cell_type": "markdown",
   "metadata": {},
   "source": [
    "**The goal of this jupyter notebook is to introduce you to graphical methods of analyzing differential equations without solving them. We will also review various options for plotting data using python library matplotlib.**"
   ]
  },
  {
   "cell_type": "code",
   "execution_count": null,
   "metadata": {},
   "outputs": [],
   "source": [
    "import numpy as np\n",
    "import matplotlib.pyplot as plt\n",
    "from scipy.integrate import solve_ivp"
   ]
  },
  {
   "cell_type": "markdown",
   "metadata": {},
   "source": [
    "## Introduction to Graphical Methods\n",
    "\n",
    "Let's take an ODE $\\frac{dy(t)}{dt}=f(t,y(t))$\n",
    "\n",
    "It is possible to plot the outlines of this ODE solution using only $f(t,y(t))$ without solving the differential equation.  \n",
    "Previously we reviewed numerical methods of solving ODE that can give us the solution of this ODE starting from some initial conditions $y(t_0)$. However, there's only one solution of this ODE that goes through $y(t_0)$ and there's an infinite number of other solutions. In addition, sometime there's no solution that goes through $y(t_0)$.  \n",
    "  \n",
    "  Therefore, it is often useful to be able to \"see\" how all the solutions look like using graphical methods reviewed here even though we can't use graphical methods to make precise quantitative prediction like with numerical or analytical solutions.  \n",
    "Some the properties of solutions that we can see using graphical methods include steady state, oscillation, stable and unstable points etc.\n",
    "\n",
    "\n"
   ]
  },
  {
   "cell_type": "markdown",
   "metadata": {},
   "source": [
    "Let's use bacterial growth rate in rich media as a first example:\n",
    "  \n",
    "$\\frac{dN(t)}{dt}=kN(t)$  \n",
    "\n",
    "where $t$ is time,  \n",
    "k is some constant specific for this E.coli strain and growth conditions,  \n",
    "$N(t)$ is number of E. coli at time $t$.  \n",
    "Let's plot a numerical solution to this ODE with $N(0)=1$, $k=1$ and lets make this plot more beautiful than previously:"
   ]
  },
  {
   "cell_type": "code",
   "execution_count": null,
   "metadata": {},
   "outputs": [],
   "source": [
    "k = 1\n",
    "N_0 = [1]\n",
    "tspan = [0, 5]\n",
    "\n",
    "def fun(t, y):\n",
    "    dN_dt = k * y\n",
    "    return dN_dt\n",
    "\n",
    "soln = solve_ivp(fun, tspan, N_0, t_eval=np.linspace(0, 5, 30))\n",
    "\n",
    "# The code below plots the solution of ODE\n",
    "plt.figure(figsize=(8,5), dpi=100)\n",
    "plt.plot(soln.t, soln.y[0], label=\"$N(t)=N_0e^{kt}$\", color=\"green\", marker=\"o\",linestyle=\"-\")\n",
    "plt.xlabel(\"Time, $t$\", fontsize=20)\n",
    "plt.ylabel(\"$N(t)$\", fontsize=20)\n",
    "plt.xticks(fontsize=15)\n",
    "plt.yticks(fontsize=15)\n",
    "plt.grid()\n",
    "plt.legend(fontsize=20)\n",
    "plt.savefig(\"beautiful_figure.png\")"
   ]
  },
  {
   "cell_type": "markdown",
   "metadata": {},
   "source": [
    "We want to know how the solution will look like everywhere not just at $N(0)=1$.  \n",
    "  \n",
    "  Remember that the anlytical solution to $\\frac{dN(t)}{dt}=kN(t)$ is $N(t)=Ce^{kt}$ so there's an $\\infty$ of solutions that vary by $C$.  \n",
    "  \n",
    "  Lets review another example $\\frac{dy(t)}{dt}=2t$ and its solution $y(t)=t^2+C$ to further highlight the presence of an $\\infty$ of solutions that vary by $C$:\n",
    "\n",
    "$\\frac{dy(t)}{dt}=\\lim_{\\Delta t \\to 0} \\frac{y(t+\\Delta t)-y(t)}{\\Delta t}$  \n",
    "  \n",
    "  $\\frac{y(t+\\Delta t)-y(t)}{\\Delta t}=\\frac{(t+\\Delta t)^2+C-(t)^2-C}{\\Delta t}=\\frac{t^2+2t \\cdot \\Delta t + \\Delta t^2-t^2}{\\Delta t}=2t + \\Delta t$  \n",
    "  \n",
    "  Since $\\Delta t \\to 0$, we get $\\frac{dy(t)}{dt}=2t$\n",
    "\n",
    "\n",
    "We can of course numerically solve this ODE under 1000s of initial conditions but this can take time and we still might miss something important like oscillations occuring only with particular initial conditions.  "
   ]
  },
  {
   "cell_type": "markdown",
   "metadata": {},
   "source": [
    "## Direction Fields (also called Slope Fields)"
   ]
  },
  {
   "cell_type": "markdown",
   "metadata": {},
   "source": [
    "We can get a general idea of the behaviour of ODE or system of ODEs by drawing a so called Direction Field or Slope Field.  \n",
    "First, let's review that a differential $\\frac{dy(t)}{dt}$ at a point $(t, y(t))$ in ODE $\\frac{dy(t)}{dt}=f(t,y(t))$ is line tangent with slope $f(t,y(t))$.  \n",
    "Let's plot this tangent for our example equation $\\frac{dN(t)}{dt}=kN(t)$:"
   ]
  },
  {
   "cell_type": "code",
   "execution_count": null,
   "metadata": {},
   "outputs": [],
   "source": [
    "time = np.linspace(0, 5, 100)\n",
    "OD600 = np.exp(time)\n",
    "i=80\n",
    "a=OD600[i]\n",
    "b=(1-time[i])*OD600[i]\n",
    "\n",
    "plt.figure(figsize=(8,5),dpi=100)\n",
    "plt.plot(time, OD600, label=\"$N(t)=N_0e^{kt}$\")\n",
    "plt.plot(time,a*(time)+b, label=f\"Tangent line at N(t)={OD600[i]:.2f}, t={time[i]:.2f}\")\n",
    "plt.ylim(0,160)\n",
    "plt.xlabel(\"Time, $t$\", fontsize=20)\n",
    "plt.ylabel(\"$N(t)$\", fontsize=20)\n",
    "plt.xticks(fontsize=15)\n",
    "plt.yticks(fontsize=15)\n",
    "plt.grid()\n",
    "plt.legend(fontsize=15);"
   ]
  },
  {
   "cell_type": "markdown",
   "metadata": {},
   "source": [
    "The simple idea behind drawing Slope or Direction Fields is that we can calculate slope of the tangent at any point on the graph since it is simply equal to $f(t, y(t))$ in ODE $\\frac{dy(t)}{dt}=f(t,y(t))$ or $kN(t)$ in ODE $\\frac{dN(t)}{dt}=kN(t)$.  \n",
    "So we can draw Direction Fields without solving the ODE."
   ]
  },
  {
   "cell_type": "markdown",
   "metadata": {},
   "source": [
    "Let's do it for a range of $N(t)$ and $t$ values for $\\frac{dN(t)}{dt}=kN(t)$  \n",
    "  \n",
    "You'll need to remember some trigonometry to calculate legs from hypotenuse of a right triangle: https://en.wikipedia.org/wiki/Trigonometric_functions"
   ]
  },
  {
   "cell_type": "code",
   "execution_count": null,
   "metadata": {},
   "outputs": [],
   "source": [
    "k = 1\n",
    "N, t = np.mgrid[-4:4:20j,-4:4:20j]\n",
    "\n",
    "slope = dNdt = k*N\n",
    "dt, dN = np.cos(np.arctan(slope)), np.sin(np.arctan(slope))\n",
    "\n",
    "fig, axs = plt.subplots(nrows=1, ncols=2, figsize=(14,7), dpi=100, constrained_layout=True)\n",
    "axs[0].quiver(t, N, dt, dN)\n",
    "axs[1].streamplot(t, N, dt, dN)\n",
    "\n",
    "for ax in axs:\n",
    "    ax.tick_params(labelsize=15)\n",
    "    ax.grid(which='major', axis='both')\n",
    "    ax.set_xlabel(\"Time, $t$\",fontsize=20)\n",
    "    ax.set_ylabel(\"$N(t)$\",fontsize=20)"
   ]
  },
  {
   "cell_type": "markdown",
   "metadata": {},
   "source": [
    "## Logistic growth\n",
    "\n",
    "Logistic growth is used to describe the growth of population under conditions that can support max population of size $N_{max}$. The behaviour that we should expect from such a system is that population grows exponentially when $N(t)<<N_{max}$ and declines exponentially when $N(t)>>N_{max}$ and some transition happens when $N(t) \\approx N_{max}$. This is the differential expression describing such a system:\n",
    "  \n",
    "  $\\frac{dN(t)}{dt}=k \\cdot N(t) \\cdot (1-\\frac{N(t)}{N_{max}})$  \n",
    "\n",
    "  Let's solve this equation using sove_ivp():"
   ]
  },
  {
   "cell_type": "code",
   "execution_count": null,
   "metadata": {},
   "outputs": [],
   "source": [
    "k = 1\n",
    "N_0 = [1]\n",
    "tspan = [0, 15]\n",
    "N_max = 300\n",
    "def fun(t, N):\n",
    "    dN_dt = k * N * (1-N/N_max)\n",
    "    return dN_dt\n",
    "\n",
    "soln = solve_ivp(fun, tspan, N_0, t_eval=np.linspace(0, 15, 1000))\n",
    "\n",
    "plt.figure(figsize=(8,5), dpi=100)\n",
    "plt.plot(soln.t, soln.y[0])\n",
    "plt.xlabel(\"Time, $t$\", fontsize=15)\n",
    "plt.ylabel(\"$N(t)$\", fontsize=15)\n",
    "plt.grid()"
   ]
  },
  {
   "cell_type": "markdown",
   "metadata": {},
   "source": [
    "Now lets use *quiver()* and *streamplot()* to better understand the behaviour of this system:"
   ]
  },
  {
   "cell_type": "code",
   "execution_count": null,
   "metadata": {},
   "outputs": [],
   "source": [
    "p, t = np.mgrid[0:400:20j,0:15:20j]\n",
    "slope = 1 * p * (1 - p/300)\n",
    "\n",
    "dt, dv = np.cos(np.arctan(slope)), np.sin(np.arctan(slope))\n",
    "fig, axs = plt.subplots(nrows=1, ncols=2, figsize=(14,7), dpi=100)\n",
    "axs[0].quiver(t, p, dt, dv, angles=\"xy\")\n",
    "axs[1].streamplot(t, p, dt, dv)\n",
    "\n",
    "for ax in axs:\n",
    "    ax.tick_params(labelsize=15)\n",
    "    ax.grid(which='major', axis='both')\n",
    "    ax.set_xlabel(\"Time (t)\",fontsize=20)\n",
    "    ax.set_ylabel(\"N(t)\",fontsize=20)"
   ]
  }
 ],
 "metadata": {
  "kernelspec": {
   "display_name": "Python 3",
   "language": "python",
   "name": "python3"
  },
  "language_info": {
   "codemirror_mode": {
    "name": "ipython",
    "version": 3
   },
   "file_extension": ".py",
   "mimetype": "text/x-python",
   "name": "python",
   "nbconvert_exporter": "python",
   "pygments_lexer": "ipython3",
   "version": "3.7.9"
  }
 },
 "nbformat": 4,
 "nbformat_minor": 4
}
