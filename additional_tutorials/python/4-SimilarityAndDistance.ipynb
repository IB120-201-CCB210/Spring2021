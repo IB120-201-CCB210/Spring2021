{
 "cells": [
  {
   "cell_type": "code",
   "execution_count": 5,
   "metadata": {
    "code_folding": []
   },
   "outputs": [
    {
     "name": "stdout",
     "output_type": "stream",
     "text": [
      "{1, 3, 5, 7, 11}\n",
      "{1, 2, 3, 4, 5, 6}\n",
      "cardinality of A: 5\n",
      "cardinality of B: 6\n"
     ]
    }
   ],
   "source": [
    "# Sets\n",
    "\n",
    "A = set([1,3,5,7,11])\n",
    "B = set([1,2,3,4,5,6])\n",
    "\n",
    "print(A)\n",
    "print(B)\n",
    "\n",
    "print(\"cardinality of A:\", len(A))\n",
    "print(\"cardinality of B:\", len(B))"
   ]
  },
  {
   "cell_type": "code",
   "execution_count": 6,
   "metadata": {
    "code_folding": []
   },
   "outputs": [
    {
     "name": "stdout",
     "output_type": "stream",
     "text": [
      "{1, 3, 5}\n",
      "{1, 2, 3, 4, 5, 6, 7, 11}\n"
     ]
    }
   ],
   "source": [
    "# Sets Cont..\n",
    "\n",
    "AandB = A.intersection(B)\n",
    "AorB = A.union(B)\n",
    "\n",
    "print(AandB)\n",
    "print(AorB)"
   ]
  },
  {
   "cell_type": "code",
   "execution_count": 7,
   "metadata": {
    "code_folding": []
   },
   "outputs": [
    {
     "name": "stdout",
     "output_type": "stream",
     "text": [
      "0.375\n"
     ]
    }
   ],
   "source": [
    "# Jaccard Similarity\n",
    "\n",
    "def jaccard(A,B):\n",
    "    AandB = A.intersection(B)\n",
    "    AorB = A.union(B)\n",
    "    return len(AandB)/len(AorB)\n",
    "\n",
    "print(jaccard(A,B))"
   ]
  },
  {
   "cell_type": "code",
   "execution_count": null,
   "metadata": {},
   "outputs": [],
   "source": []
  }
 ],
 "metadata": {
  "kernelspec": {
   "display_name": "Python 3",
   "language": "python",
   "name": "python3"
  },
  "language_info": {
   "codemirror_mode": {
    "name": "ipython",
    "version": 3
   },
   "file_extension": ".py",
   "mimetype": "text/x-python",
   "name": "python",
   "nbconvert_exporter": "python",
   "pygments_lexer": "ipython3",
   "version": "3.7.4"
  }
 },
 "nbformat": 4,
 "nbformat_minor": 4
}
